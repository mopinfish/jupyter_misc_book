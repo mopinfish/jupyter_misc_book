{
 "cells": [
  {
   "cell_type": "markdown",
   "metadata": {},
   "source": [
    "# インフォーマルネットワークの力の例\n",
    "架空のコンサルティング会社アクメコンサルティングに置ける組織改革を例に\n",
    "\n",
    "## 組織改造後のアクメコンサルティングの組織構造の描画"
   ]
  },
  {
   "cell_type": "code",
   "execution_count": 2,
   "metadata": {},
   "outputs": [],
   "source": [
    "import networkx as net\n",
    "import matplotlib.pyplot as plot\n",
    "from IPython.display import SVG, display"
   ]
  },
  {
   "cell_type": "code",
   "execution_count": 3,
   "metadata": {},
   "outputs": [
    {
     "data": {
      "text/plain": [
       "<IPython.core.display.SVG object>"
      ]
     },
     "metadata": {},
     "output_type": "display_data"
    },
    {
     "data": {
      "image/png": "[encoded data removed]",
      "text/plain": [
       "<Figure size 432x288 with 1 Axes>"
      ]
     },
     "metadata": {},
     "output_type": "display_data"
    }
   ],
   "source": [
    "orgchart = net.read_pajek(\"../../data/sna/ch1/ACME_orgchart.net\")\n",
    "svg = SVG(net.draw(orgchart, format='svg'))\n",
    "display(svg)"
   ]
  },
  {
   "cell_type": "markdown",
   "metadata": {},
   "source": [
    "## 会社の中でのアドバイスを受ける・与える関係の描画"
   ]
  },
  {
   "cell_type": "code",
   "execution_count": 10,
   "metadata": {},
   "outputs": [],
   "source": [
    "advice_relation = net.read_pajek(\"../../data/sna/ch1/ACME_advice.net\")\n",
    "\n",
    "#net.draw(advice_relation)"
   ]
  },
  {
   "cell_type": "code",
   "execution_count": 1,
   "metadata": {},
   "outputs": [
    {
     "data": {
      "image/svg+xml": [
       "<svg height=\"238pt\" viewBox=\"0.00 0.00 283.00 238.00\" width=\"283pt\" xmlns=\"http://www.w3.org/2000/svg\" xmlns:xlink=\"http://www.w3.org/1999/xlink\">\n",
       "<g class=\"graph\" id=\"graph0\" transform=\"scale(1 1) rotate(0) translate(4 234)\">\n",
       "<polygon fill=\"#ffffff\" points=\"-4,4 -4,-234 279,-234 279,4 -4,4\" stroke=\"transparent\"/>\n",
       "<!-- 3 -->\n",
       "<g class=\"node\" id=\"node1\">\n",
       "<title>3</title>\n",
       "<ellipse cx=\"62.1613\" cy=\"-212.0494\" fill=\"none\" rx=\"27\" ry=\"18\" stroke=\"#000000\"/>\n",
       "<text fill=\"#000000\" font-family=\"Times,serif\" font-size=\"14.00\" text-anchor=\"middle\" x=\"62.1613\" y=\"-208.3494\">3</text>\n",
       "</g>\n",
       "<!-- 5 -->\n",
       "<g class=\"node\" id=\"node2\">\n",
       "<title>5</title>\n",
       "<ellipse cx=\"171.7033\" cy=\"-209.9588\" fill=\"none\" rx=\"27\" ry=\"18\" stroke=\"#000000\"/>\n",
       "<text fill=\"#000000\" font-family=\"Times,serif\" font-size=\"14.00\" text-anchor=\"middle\" x=\"171.7033\" y=\"-206.2588\">5</text>\n",
       "</g>\n",
       "<!-- 3&#45;&gt;5 -->\n",
       "<g class=\"edge\" id=\"edge1\">\n",
       "<title>3-&gt;5</title>\n",
       "<path d=\"M89.2391,-211.5326C102.8004,-211.2738 119.4354,-210.9563 134.204,-210.6744\" fill=\"none\" stroke=\"#000000\"/>\n",
       "<polygon fill=\"#000000\" points=\"134.626,-214.1671 144.5574,-210.4769 134.4924,-207.1684 134.626,-214.1671\" stroke=\"#000000\"/>\n",
       "</g>\n",
       "<!-- 0 -->\n",
       "<g class=\"node\" id=\"node3\">\n",
       "<title>0</title>\n",
       "<ellipse cx=\"27.3731\" cy=\"-105.4142\" fill=\"none\" rx=\"27\" ry=\"18\" stroke=\"#000000\"/>\n",
       "<text fill=\"#000000\" font-family=\"Times,serif\" font-size=\"14.00\" text-anchor=\"middle\" x=\"27.3731\" y=\"-101.7142\">0</text>\n",
       "</g>\n",
       "<!-- 3&#45;&gt;0 -->\n",
       "<g class=\"edge\" id=\"edge2\">\n",
       "<title>3-&gt;0</title>\n",
       "<path d=\"M56.4167,-194.4407C50.9278,-177.6157 42.5746,-152.0107 36.2332,-132.5726\" fill=\"none\" stroke=\"#000000\"/>\n",
       "<polygon fill=\"#000000\" points=\"39.5552,-131.4703 33.1262,-123.049 32.9004,-133.6414 39.5552,-131.4703\" stroke=\"#000000\"/>\n",
       "</g>\n",
       "<!-- 4 -->\n",
       "<g class=\"node\" id=\"node4\">\n",
       "<title>4</title>\n",
       "<ellipse cx=\"153.6061\" cy=\"-108.415\" fill=\"none\" rx=\"27\" ry=\"18\" stroke=\"#000000\"/>\n",
       "<text fill=\"#000000\" font-family=\"Times,serif\" font-size=\"14.00\" text-anchor=\"middle\" x=\"153.6061\" y=\"-104.715\">4</text>\n",
       "</g>\n",
       "<!-- 5&#45;&gt;4 -->\n",
       "<g class=\"edge\" id=\"edge3\">\n",
       "<title>5-&gt;4</title>\n",
       "<path d=\"M168.4679,-191.8048C165.74,-176.4986 161.7898,-154.3338 158.6475,-136.7023\" fill=\"none\" stroke=\"#000000\"/>\n",
       "<polygon fill=\"#000000\" points=\"162.0139,-135.6426 156.8135,-126.4118 155.1224,-136.8708 162.0139,-135.6426\" stroke=\"#000000\"/>\n",
       "</g>\n",
       "<!-- 2 -->\n",
       "<g class=\"node\" id=\"node6\">\n",
       "<title>2</title>\n",
       "<ellipse cx=\"71.9898\" cy=\"-165.5063\" fill=\"none\" rx=\"27\" ry=\"18\" stroke=\"#000000\"/>\n",
       "<text fill=\"#000000\" font-family=\"Times,serif\" font-size=\"14.00\" text-anchor=\"middle\" x=\"71.9898\" y=\"-161.8063\">2</text>\n",
       "</g>\n",
       "<!-- 0&#45;&gt;2 -->\n",
       "<g class=\"edge\" id=\"edge8\">\n",
       "<title>0-&gt;2</title>\n",
       "<path d=\"M39.5648,-121.8346C43.893,-127.664 48.8657,-134.3615 53.596,-140.7325\" fill=\"none\" stroke=\"#000000\"/>\n",
       "<polygon fill=\"#000000\" points=\"51.0414,-143.1632 59.8128,-149.1057 56.6617,-138.9903 51.0414,-143.1632\" stroke=\"#000000\"/>\n",
       "</g>\n",
       "<!-- 6 -->\n",
       "<g class=\"node\" id=\"node8\">\n",
       "<title>6</title>\n",
       "<ellipse cx=\"97.1522\" cy=\"-18.2468\" fill=\"none\" rx=\"27\" ry=\"18\" stroke=\"#000000\"/>\n",
       "<text fill=\"#000000\" font-family=\"Times,serif\" font-size=\"14.00\" text-anchor=\"middle\" x=\"97.1522\" y=\"-14.5468\">6</text>\n",
       "</g>\n",
       "<!-- 0&#45;&gt;6 -->\n",
       "<g class=\"edge\" id=\"edge9\">\n",
       "<title>0-&gt;6</title>\n",
       "<path d=\"M40.1717,-89.4263C50.7948,-76.156 66.0597,-57.0873 78.1165,-42.026\" fill=\"none\" stroke=\"#000000\"/>\n",
       "<polygon fill=\"#000000\" points=\"80.9177,-44.1273 84.4348,-34.1333 75.453,-39.7527 80.9177,-44.1273\" stroke=\"#000000\"/>\n",
       "</g>\n",
       "<!-- 1 -->\n",
       "<g class=\"node\" id=\"node5\">\n",
       "<title>1</title>\n",
       "<ellipse cx=\"109.295\" cy=\"-64.2533\" fill=\"none\" rx=\"27\" ry=\"18\" stroke=\"#000000\"/>\n",
       "<text fill=\"#000000\" font-family=\"Times,serif\" font-size=\"14.00\" text-anchor=\"middle\" x=\"109.295\" y=\"-60.5533\">1</text>\n",
       "</g>\n",
       "<!-- 4&#45;&gt;1 -->\n",
       "<g class=\"edge\" id=\"edge4\">\n",
       "<title>4-&gt;1</title>\n",
       "<path d=\"M138.1082,-92.9694C136.0493,-90.9174 133.9058,-88.7811 131.7584,-86.6409\" fill=\"none\" stroke=\"#000000\"/>\n",
       "<polygon fill=\"#000000\" points=\"134.1136,-84.0468 124.5599,-79.4667 129.1722,-89.0049 134.1136,-84.0468\" stroke=\"#000000\"/>\n",
       "</g>\n",
       "<!-- 4&#45;&gt;2 -->\n",
       "<g class=\"edge\" id=\"edge5\">\n",
       "<title>4-&gt;2</title>\n",
       "<path d=\"M134.6765,-121.6564C124.1695,-129.0062 110.9151,-138.2777 99.3034,-146.4002\" fill=\"none\" stroke=\"#000000\"/>\n",
       "<polygon fill=\"#000000\" points=\"97.0048,-143.7367 90.8167,-152.3367 101.0171,-149.4727 97.0048,-143.7367\" stroke=\"#000000\"/>\n",
       "</g>\n",
       "<!-- 1&#45;&gt;0 -->\n",
       "<g class=\"edge\" id=\"edge6\">\n",
       "<title>1-&gt;0</title>\n",
       "<path d=\"M87.3415,-75.2836C78.3623,-79.7951 67.8174,-85.0933 58.0949,-89.9783\" fill=\"none\" stroke=\"#000000\"/>\n",
       "<polygon fill=\"#000000\" points=\"56.4674,-86.879 49.1032,-94.4961 59.6101,-93.1339 56.4674,-86.879\" stroke=\"#000000\"/>\n",
       "</g>\n",
       "<!-- 9 -->\n",
       "<g class=\"node\" id=\"node7\">\n",
       "<title>9</title>\n",
       "<ellipse cx=\"202.0921\" cy=\"-31.9275\" fill=\"none\" rx=\"27\" ry=\"18\" stroke=\"#000000\"/>\n",
       "<text fill=\"#000000\" font-family=\"Times,serif\" font-size=\"14.00\" text-anchor=\"middle\" x=\"202.0921\" y=\"-28.2275\">9</text>\n",
       "</g>\n",
       "<!-- 1&#45;&gt;9 -->\n",
       "<g class=\"edge\" id=\"edge7\">\n",
       "<title>1-&gt;9</title>\n",
       "<path d=\"M133.6764,-55.7601C144.2258,-52.0852 156.7521,-47.7217 168.185,-43.739\" fill=\"none\" stroke=\"#000000\"/>\n",
       "<polygon fill=\"#000000\" points=\"169.5815,-46.9589 177.8736,-40.364 167.2788,-40.3485 169.5815,-46.9589\" stroke=\"#000000\"/>\n",
       "</g>\n",
       "<!-- 7 -->\n",
       "<g class=\"node\" id=\"node9\">\n",
       "<title>7</title>\n",
       "<ellipse cx=\"163.0365\" cy=\"-156.3568\" fill=\"none\" rx=\"27\" ry=\"18\" stroke=\"#000000\"/>\n",
       "<text fill=\"#000000\" font-family=\"Times,serif\" font-size=\"14.00\" text-anchor=\"middle\" x=\"163.0365\" y=\"-152.6568\">7</text>\n",
       "</g>\n",
       "<!-- 2&#45;&gt;7 -->\n",
       "<g class=\"edge\" id=\"edge10\">\n",
       "<title>2-&gt;7</title>\n",
       "<path d=\"M98.8144,-162.8106C107.3513,-161.9527 116.9501,-160.9881 126.073,-160.0713\" fill=\"none\" stroke=\"#000000\"/>\n",
       "<polygon fill=\"#000000\" points=\"126.4891,-163.5472 136.089,-159.0648 125.7892,-156.5823 126.4891,-163.5472\" stroke=\"#000000\"/>\n",
       "</g>\n",
       "<!-- 9&#45;&gt;6 -->\n",
       "<g class=\"edge\" id=\"edge16\">\n",
       "<title>9-&gt;6</title>\n",
       "<path d=\"M175.3398,-28.4399C162.7584,-26.7997 147.5561,-24.8178 133.9142,-23.0393\" fill=\"none\" stroke=\"#000000\"/>\n",
       "<polygon fill=\"#000000\" points=\"134.2242,-19.5502 123.8556,-21.728 133.3193,-26.4915 134.2242,-19.5502\" stroke=\"#000000\"/>\n",
       "</g>\n",
       "<!-- 8 -->\n",
       "<g class=\"node\" id=\"node10\">\n",
       "<title>8</title>\n",
       "<ellipse cx=\"248.3303\" cy=\"-128.4789\" fill=\"none\" rx=\"27\" ry=\"18\" stroke=\"#000000\"/>\n",
       "<text fill=\"#000000\" font-family=\"Times,serif\" font-size=\"14.00\" text-anchor=\"middle\" x=\"248.3303\" y=\"-124.7789\">8</text>\n",
       "</g>\n",
       "<!-- 9&#45;&gt;8 -->\n",
       "<g class=\"edge\" id=\"edge15\">\n",
       "<title>9-&gt;8</title>\n",
       "<path d=\"M205.0678,-50.1025C210.4882,-65.3959 220.6415,-87.3402 229.8786,-104.1396\" fill=\"none\" stroke=\"#000000\"/>\n",
       "<polygon fill=\"#000000\" points=\"226.8717,-105.9319 234.8802,-112.8684 232.9453,-102.4517 226.8717,-105.9319\" stroke=\"#000000\"/>\n",
       "</g>\n",
       "<!-- 6&#45;&gt;4 -->\n",
       "<g class=\"edge\" id=\"edge17\">\n",
       "<title>6-&gt;4</title>\n",
       "<path d=\"M107.7708,-35.2067C116.2079,-48.6826 128.1397,-67.7401 137.7144,-83.0327\" fill=\"none\" stroke=\"#000000\"/>\n",
       "<polygon fill=\"#000000\" points=\"134.7619,-84.9126 143.0352,-91.5311 140.695,-81.1979 134.7619,-84.9126\" stroke=\"#000000\"/>\n",
       "</g>\n",
       "<!-- 7&#45;&gt;1 -->\n",
       "<g class=\"edge\" id=\"edge11\">\n",
       "<title>7-&gt;1</title>\n",
       "<path d=\"M153.1795,-139.4636C145.0737,-125.5716 133.4589,-105.6658 124.2143,-89.8222\" fill=\"none\" stroke=\"#000000\"/>\n",
       "<polygon fill=\"#000000\" points=\"127.1524,-87.9127 119.0896,-81.0394 121.1063,-91.4405 127.1524,-87.9127\" stroke=\"#000000\"/>\n",
       "</g>\n",
       "<!-- 7&#45;&gt;8 -->\n",
       "<g class=\"edge\" id=\"edge12\">\n",
       "<title>7-&gt;8</title>\n",
       "<path d=\"M187.707,-148.2933C196.0003,-145.5827 205.4038,-142.5092 214.2875,-139.6056\" fill=\"none\" stroke=\"#000000\"/>\n",
       "<polygon fill=\"#000000\" points=\"215.592,-142.8615 224.0098,-136.4279 213.4172,-136.2079 215.592,-142.8615\" stroke=\"#000000\"/>\n",
       "</g>\n",
       "<!-- 8&#45;&gt;5 -->\n",
       "<g class=\"edge\" id=\"edge13\">\n",
       "<title>8-&gt;5</title>\n",
       "<path d=\"M233.9173,-143.8046C222.3582,-156.0958 205.9666,-173.5255 192.9102,-187.4088\" fill=\"none\" stroke=\"#000000\"/>\n",
       "<polygon fill=\"#000000\" points=\"190.3528,-185.0193 186.0516,-194.7018 195.4521,-189.8149 190.3528,-185.0193\" stroke=\"#000000\"/>\n",
       "</g>\n",
       "<!-- 8&#45;&gt;9 -->\n",
       "<g class=\"edge\" id=\"edge14\">\n",
       "<title>8-&gt;9</title>\n",
       "<path d=\"M245.3546,-110.3039C239.9342,-95.0105 229.7809,-73.0662 220.5438,-56.2668\" fill=\"none\" stroke=\"#000000\"/>\n",
       "<polygon fill=\"#000000\" points=\"223.5507,-54.4745 215.5422,-47.5381 217.4771,-57.9547 223.5507,-54.4745\" stroke=\"#000000\"/>\n",
       "</g>\n",
       "</g>\n",
       "</svg>"
      ],
      "text/plain": [
       "<IPython.core.display.SVG object>"
      ]
     },
     "metadata": {},
     "output_type": "display_data"
    }
   ],
   "source": [
    "import networkx as nx\n",
    "from IPython.display import SVG, display\n",
    "\n",
    "G = nx.DiGraph()\n",
    "G.add_path([3, 5, 4, 1, 0, 2, 7, 8, 9, 6])\n",
    "G.add_path([3, 0, 6, 4, 2, 7, 1, 9, 8, 5])\n",
    "\n",
    "svg = SVG(nx.nx_agraph.to_agraph(G).draw(prog='fdp', format='svg'))\n",
    "display(svg)"
   ]
  },
  {
   "cell_type": "markdown",
   "metadata": {},
   "source": [
    "[サンプルコード置き場](git@github.com:maksim2042/SNABook.git)"
   ]
  }
 ],
 "metadata": {
  "kernelspec": {
   "display_name": "Python 3",
   "language": "python",
   "name": "python3"
  },
  "language_info": {
   "codemirror_mode": {
    "name": "ipython",
    "version": 3
   },
   "file_extension": ".py",
   "mimetype": "text/x-python",
   "name": "python",
   "nbconvert_exporter": "python",
   "pygments_lexer": "ipython3",
   "version": "3.7.3"
  }
 },
 "nbformat": 4,
 "nbformat_minor": 2
}
