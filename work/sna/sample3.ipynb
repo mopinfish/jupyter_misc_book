{
 "cells": [
  {
   "cell_type": "code",
   "execution_count": 1,
   "metadata": {},
   "outputs": [
    {
     "name": "stdout",
     "output_type": "stream",
     "text": [
      "count    4.00000\n",
      "mean     5.00000\n",
      "std      2.94392\n",
      "min      2.00000\n",
      "25%      3.50000\n",
      "50%      4.50000\n",
      "75%      6.00000\n",
      "max      9.00000\n",
      "dtype: float64\n"
     ]
    }
   ],
   "source": [
    "import numpy as np\n",
    "import pandas as pd\n",
    "import scipy.stats\n",
    "\n",
    "a = pd.Series([5, 2, 4, 9])\n",
    "print(a.describe())  # 要約統計量一覧"
   ]
  },
  {
   "cell_type": "code",
   "execution_count": 2,
   "metadata": {},
   "outputs": [
    {
     "name": "stdout",
     "output_type": "stream",
     "text": [
      "[10, 20)    2\n",
      "[20, 30)    3\n",
      "[30, 40)    1\n",
      "dtype: int64\n"
     ]
    }
   ],
   "source": [
    "ages = [24, 31, 14, 27, 18, 25]\n",
    "print(pd.value_counts(pd.cut(ages, range(10, 41, 10), False), False))"
   ]
  }
 ],
 "metadata": {
  "kernelspec": {
   "display_name": "Python 3",
   "language": "python",
   "name": "python3"
  },
  "language_info": {
   "codemirror_mode": {
    "name": "ipython",
    "version": 3
   },
   "file_extension": ".py",
   "mimetype": "text/x-python",
   "name": "python",
   "nbconvert_exporter": "python",
   "pygments_lexer": "ipython3",
   "version": "3.6.7"
  }
 },
 "nbformat": 4,
 "nbformat_minor": 2
}
