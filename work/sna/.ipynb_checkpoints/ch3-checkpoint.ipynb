{
 "cells": [
  {
   "cell_type": "code",
   "execution_count": 3,
   "metadata": {},
   "outputs": [
    {
     "data": {
      "image/png": "[encoded data removed]",
      "text/plain": [
       "<Figure size 432x288 with 1 Axes>"
      ]
     },
     "metadata": {},
     "output_type": "display_data"
    }
   ],
   "source": [
    "import networkx as net\n",
    "import urllib\n",
    "\n",
    "# 空のグラフを作る\n",
    "g = net.Graph()\n",
    "\n",
    "# グラフにエッジを挿入する。ノードは自動的に挿入される\n",
    "g.add_edge('a','b')\n",
    "g.add_edge('b','c')\n",
    "g.add_edge('c', 'a')\n",
    "net.draw_networkx(g)"
   ]
  },
  {
   "cell_type": "code",
   "execution_count": 2,
   "metadata": {},
   "outputs": [
    {
     "data": {
      "text/plain": [
       "NodeView(('a', 'b', 'c'))"
      ]
     },
     "execution_count": 2,
     "metadata": {},
     "output_type": "execute_result"
    }
   ],
   "source": [
    "g.nodes()"
   ]
  },
  {
   "cell_type": "code",
   "execution_count": 6,
   "metadata": {},
   "outputs": [
    {
     "data": {
      "text/plain": [
       "EdgeView([('a', 'b'), ('a', 'c'), ('b', 'c')])"
      ]
     },
     "execution_count": 6,
     "metadata": {},
     "output_type": "execute_result"
    }
   ],
   "source": [
    "g.edges()"
   ]
  },
  {
   "cell_type": "code",
   "execution_count": 10,
   "metadata": {},
   "outputs": [
    {
     "data": {
      "text/plain": [
       "{('a', 'b'): Text(0.4254574809084459, 0.2630860266063059, '{}'),\n",
       " ('a', 'c'): Text(0.015110441967546795, -0.5, '{}'),\n",
       " ('b', 'c'): Text(-0.44056792287599267, 0.23691397339369408, '{}')}"
      ]
     },
     "execution_count": 10,
     "metadata": {},
     "output_type": "execute_result"
    },
    {
     "data": {
      "image/png": "[encoded data removed]",
      "text/plain": [
       "<Figure size 432x288 with 1 Axes>"
      ]
     },
     "metadata": {},
     "output_type": "display_data"
    }
   ],
   "source": [
    "net.draw_networkx_edge_labels(g, pos=net.spring_layout(g))"
   ]
  },
  {
   "cell_type": "code",
   "execution_count": 11,
   "metadata": {},
   "outputs": [
    {
     "data": {
      "image/png": "[encoded data removed]",
      "text/plain": [
       "<Figure size 432x288 with 1 Axes>"
      ]
     },
     "metadata": {},
     "output_type": "display_data"
    }
   ],
   "source": [
    "G = net.dodecahedral_graph()\n",
    "edge_labels = net.draw_networkx_edge_labels(G, pos=net.spring_layout(G))"
   ]
  },
  {
   "cell_type": "code",
   "execution_count": 12,
   "metadata": {},
   "outputs": [
    {
     "data": {
      "image/png": "[encoded data removed]",
      "text/plain": [
       "<Figure size 432x288 with 1 Axes>"
      ]
     },
     "metadata": {},
     "output_type": "display_data"
    }
   ],
   "source": [
    "G = net.Graph()\n",
    "G.add_nodes_from([(1, {'color': 'red'}), (2, {'color': 'blue'}), (3, {'color': 'red'})])\n",
    "G.nodes(data = True)\n",
    "net.draw_networkx(G)"
   ]
  },
  {
   "cell_type": "code",
   "execution_count": 4,
   "metadata": {},
   "outputs": [
    {
     "data": {
      "text/plain": [
       "309"
      ]
     },
     "execution_count": 4,
     "metadata": {},
     "output_type": "execute_result"
    }
   ],
   "source": [
    "import networkx as net\n",
    "import urllib\n",
    "# curl -X get https://www.livejournal.com/misc/fdata.bml?user=valerois\n",
    "def read_lj_friends(g, name):\n",
    "    # LiveJournal.comから友人リストをフェッチする\n",
    "    response = urllib.request.urlopen(\"https://www.livejournal.com/misc/fdata.bml?user=\" + name)\n",
    "\n",
    "    # responseないの行を反復処理して、ネットワークのエッジとして追加してく\n",
    "    for line in response.readlines():\n",
    "        if str(line).startswith('#'): continue\n",
    "\n",
    "        # フォーマットは\"<name\"（相手から）か\">name\"（相手に）\n",
    "        # 空行を作らないようにする\n",
    "        parts = line.split()\n",
    "\n",
    "        if len(parts) == 0: continue\n",
    "\n",
    "        # ネットワークにエッジを追加する\n",
    "        if parts[0] == '<':\n",
    "            g.add_edge(parts[1], name)\n",
    "        else:\n",
    "            g.add_edge(name, parts[1])\n",
    "\n",
    "    \n",
    "g = net.Graph()\n",
    "read_lj_friends(g, 'valerois')\n",
    "len(g) # count the number of nodes returned"
   ]
  },
  {
   "cell_type": "code",
   "execution_count": 7,
   "metadata": {},
   "outputs": [
    {
     "data": {
      "text/plain": [
       "87250"
      ]
     },
     "execution_count": 7,
     "metadata": {},
     "output_type": "execute_result"
    }
   ],
   "source": [
    "import networkx as net\n",
    "\n",
    "# ロシア人ネットワークの次数中心性\n",
    "g = net.read_pajek(\"../../data/russians.net\")\n",
    "len(g)"
   ]
  },
  {
   "cell_type": "code",
   "execution_count": 9,
   "metadata": {},
   "outputs": [
    {
     "data": {
      "text/plain": [
       "232"
      ]
     },
     "execution_count": 9,
     "metadata": {},
     "output_type": "execute_result"
    }
   ],
   "source": [
    "# compute degree\n",
    "deg = net.degree(g)\n",
    "deg['valerois']"
   ]
  },
  {
   "cell_type": "code",
   "execution_count": 15,
   "metadata": {},
   "outputs": [
    {
     "ename": "SyntaxError",
     "evalue": "invalid syntax (<ipython-input-15-e3610a3962ee>, line 2)",
     "output_type": "error",
     "traceback": [
      "\u001b[0;36m  File \u001b[0;32m\"<ipython-input-15-e3610a3962ee>\"\u001b[0;36m, line \u001b[0;32m2\u001b[0m\n\u001b[0;31m    ms=sorted(map.iteritems(),key=lambda(k,v):(v,k))\u001b[0m\n\u001b[0m                                        ^\u001b[0m\n\u001b[0;31mSyntaxError\u001b[0m\u001b[0;31m:\u001b[0m invalid syntax\n"
     ]
    }
   ],
   "source": [
    "def sorted_map(map):\n",
    "    ms=sorted(map.iteritems(),key=lambda(k,v):(v,k))\n",
    "    return ms\n",
    "\n",
    "ds = sorted_map(d)"
   ]
  }
 ],
 "metadata": {
  "kernelspec": {
   "display_name": "Python 3",
   "language": "python",
   "name": "python3"
  },
  "language_info": {
   "codemirror_mode": {
    "name": "ipython",
    "version": 3
   },
   "file_extension": ".py",
   "mimetype": "text/x-python",
   "name": "python",
   "nbconvert_exporter": "python",
   "pygments_lexer": "ipython3",
   "version": "3.7.3"
  }
 },
 "nbformat": 4,
 "nbformat_minor": 2
}
