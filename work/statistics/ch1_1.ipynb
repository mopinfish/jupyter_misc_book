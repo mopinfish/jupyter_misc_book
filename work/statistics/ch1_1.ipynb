{
 "cells": [
  {
   "cell_type": "code",
   "execution_count": 1,
   "metadata": {},
   "outputs": [],
   "source": [
    "# 変数の代入\n",
    "x <- 0\n",
    "y <- 2"
   ]
  },
  {
   "cell_type": "code",
   "execution_count": 2,
   "metadata": {},
   "outputs": [
    {
     "name": "stdout",
     "output_type": "stream",
     "text": [
      "[1] 0\n",
      "[1] 2\n"
     ]
    }
   ],
   "source": [
    "# 値を確認\n",
    "print(x)\n",
    "print(y)"
   ]
  },
  {
   "cell_type": "code",
   "execution_count": 3,
   "metadata": {},
   "outputs": [
    {
     "data": {
      "text/html": [
       "11"
      ],
      "text/latex": [
       "11"
      ],
      "text/markdown": [
       "11"
      ],
      "text/plain": [
       "[1] 11"
      ]
     },
     "metadata": {},
     "output_type": "display_data"
    }
   ],
   "source": [
    "# 1-6\n",
    "1 * 2 + 3^2"
   ]
  },
  {
   "cell_type": "code",
   "execution_count": 4,
   "metadata": {},
   "outputs": [
    {
     "data": {
      "text/html": [
       "3.14159265358979"
      ],
      "text/latex": [
       "3.14159265358979"
      ],
      "text/markdown": [
       "3.14159265358979"
      ],
      "text/plain": [
       "[1] 3.141593"
      ]
     },
     "metadata": {},
     "output_type": "display_data"
    }
   ],
   "source": [
    "pi # バイは定義されている"
   ]
  },
  {
   "cell_type": "code",
   "execution_count": 5,
   "metadata": {},
   "outputs": [
    {
     "name": "stdout",
     "output_type": "stream",
     "text": [
      "[1] 3.141592653589793115998\n"
     ]
    }
   ],
   "source": [
    "print(pi, digits = 22) # 表示する桁数を指定"
   ]
  },
  {
   "cell_type": "code",
   "execution_count": 6,
   "metadata": {},
   "outputs": [
    {
     "data": {
      "text/html": [
       "2"
      ],
      "text/latex": [
       "2"
      ],
      "text/markdown": [
       "2"
      ],
      "text/plain": [
       "[1] 2"
      ]
     },
     "metadata": {},
     "output_type": "display_data"
    }
   ],
   "source": [
    "8^(1/3) # 累乗根"
   ]
  },
  {
   "cell_type": "code",
   "execution_count": 7,
   "metadata": {},
   "outputs": [
    {
     "data": {
      "text/html": [
       "1.4142135623731"
      ],
      "text/latex": [
       "1.4142135623731"
      ],
      "text/markdown": [
       "1.4142135623731"
      ],
      "text/plain": [
       "[1] 1.414214"
      ]
     },
     "metadata": {},
     "output_type": "display_data"
    }
   ],
   "source": [
    "sqrt(2) # 平方根"
   ]
  },
  {
   "cell_type": "code",
   "execution_count": 8,
   "metadata": {},
   "outputs": [
    {
     "data": {
      "text/html": [
       "22026.4657948067"
      ],
      "text/latex": [
       "22026.4657948067"
      ],
      "text/markdown": [
       "22026.4657948067"
      ],
      "text/plain": [
       "[1] 22026.47"
      ]
     },
     "metadata": {},
     "output_type": "display_data"
    }
   ],
   "source": [
    "exp(10) # eの10乗"
   ]
  },
  {
   "cell_type": "code",
   "execution_count": 9,
   "metadata": {},
   "outputs": [
    {
     "data": {
      "text/html": [
       "2.30258509299405"
      ],
      "text/latex": [
       "2.30258509299405"
      ],
      "text/markdown": [
       "2.30258509299405"
      ],
      "text/plain": [
       "[1] 2.302585"
      ]
     },
     "metadata": {},
     "output_type": "display_data"
    }
   ],
   "source": [
    "log(10) # 対数"
   ]
  },
  {
   "cell_type": "code",
   "execution_count": 10,
   "metadata": {},
   "outputs": [
    {
     "data": {
      "text/html": [
       "1"
      ],
      "text/latex": [
       "1"
      ],
      "text/markdown": [
       "1"
      ],
      "text/plain": [
       "[1] 1"
      ]
     },
     "metadata": {},
     "output_type": "display_data"
    }
   ],
   "source": [
    "sinpi(1/2) # sin(pi * 2)"
   ]
  },
  {
   "cell_type": "code",
   "execution_count": 11,
   "metadata": {},
   "outputs": [
    {
     "name": "stdout",
     "output_type": "stream",
     "text": [
      "[1] 55299\n",
      "[1] 6700417\n",
      "[1] 1\n"
     ]
    }
   ],
   "source": [
    "# 演習1\n",
    "# (1)\n",
    "a1 <- 123 * 456 - 789\n",
    "print(a1)\n",
    "\n",
    "# (2)\n",
    "a2 <- (2^2^5 + 1) / 641\n",
    "print(a2)\n",
    "\n",
    "# (3)\n",
    "a3 <- sinpi(1/3)^2 + cospi(1/3)^2\n",
    "print(a3)"
   ]
  },
  {
   "cell_type": "code",
   "execution_count": 12,
   "metadata": {},
   "outputs": [
    {
     "data": {
      "text/html": [
       "4"
      ],
      "text/latex": [
       "4"
      ],
      "text/markdown": [
       "4"
      ],
      "text/plain": [
       "[1] 4"
      ]
     },
     "metadata": {},
     "output_type": "display_data"
    }
   ],
   "source": [
    "log(x = 10000, base = 10) # 対数の底を指定"
   ]
  },
  {
   "cell_type": "code",
   "execution_count": 13,
   "metadata": {},
   "outputs": [
    {
     "data": {
      "text/html": [
       "\n",
       "<table width=\"100%\" summary=\"page for Trig {base}\"><tr><td>Trig {base}</td><td style=\"text-align: right;\">R Documentation</td></tr></table>\n",
       "\n",
       "<h2>Trigonometric Functions</h2>\n",
       "\n",
       "<h3>Description</h3>\n",
       "\n",
       "<p>These functions give the obvious trigonometric functions.  They\n",
       "respectively compute the cosine, sine, tangent, arc-cosine, arc-sine,\n",
       "arc-tangent, and the two-argument arc-tangent.\n",
       "</p>\n",
       "<p><code>cospi(x)</code>, <code>sinpi(x)</code>, and <code>tanpi(x)</code>, compute\n",
       "<code>cos(pi*x)</code>, <code>sin(pi*x)</code>, and <code>tan(pi*x)</code>.\n",
       "</p>\n",
       "\n",
       "\n",
       "<h3>Usage</h3>\n",
       "\n",
       "<pre>\n",
       "cos(x)\n",
       "sin(x)\n",
       "tan(x)\n",
       "\n",
       "acos(x)\n",
       "asin(x)\n",
       "atan(x)\n",
       "atan2(y, x)\n",
       "\n",
       "cospi(x)\n",
       "sinpi(x)\n",
       "tanpi(x)\n",
       "</pre>\n",
       "\n",
       "\n",
       "<h3>Arguments</h3>\n",
       "\n",
       "<table summary=\"R argblock\">\n",
       "<tr valign=\"top\"><td><code>x, y</code></td>\n",
       "<td>\n",
       "<p>numeric or complex vectors.</p>\n",
       "</td></tr>\n",
       "</table>\n",
       "\n",
       "\n",
       "<h3>Details</h3>\n",
       "\n",
       "<p>The arc-tangent of two arguments <code>atan2(y, x)</code> returns the angle\n",
       "between the x-axis and the vector from the origin to <i>(x, y)</i>,\n",
       "i.e., for positive arguments <code>atan2(y, x) == atan(y/x)</code>.\n",
       "</p>\n",
       "<p>Angles are in radians, not degrees, for the standard versions (i.e., a\n",
       "right angle is <i>&pi;/2</i>), and in &lsquo;half-rotations&rsquo; for\n",
       "<code>cospi</code> etc.\n",
       "</p>\n",
       "<p><code>cospi(x)</code>, <code>sinpi(x)</code>, and <code>tanpi(x)</code> are accurate\n",
       "for <code>x</code> values which are multiples of a half.\n",
       "</p>\n",
       "<p>All except <code>atan2</code> are internal generic primitive\n",
       "functions: methods can be defined for them individually or via the\n",
       "<code>Math</code> group generic.\n",
       "</p>\n",
       "<p>These are all wrappers to system calls of the same name (with prefix\n",
       "<code>c</code> for complex arguments) where available.  (<code>cospi</code>,\n",
       "<code>sinpi</code>, and <code>tanpi</code> are part of a C11 extension\n",
       "and provided by e.g. macOS and Solaris: where not yet\n",
       "available call to <code>cos</code> <em>etc</em> are used, with special cases\n",
       "for  multiples of a half.)\n",
       "</p>\n",
       "\n",
       "\n",
       "<h3>Value</h3>\n",
       "\n",
       "<p><code>tanpi(0.5)</code> is <code>NaN</code>.  Similarly for other inputs\n",
       "with fractional part <code>0.5</code>.\n",
       "</p>\n",
       "\n",
       "\n",
       "<h3>Complex values</h3>\n",
       "\n",
       "<p>For the inverse trigonometric functions, branch cuts are defined as in\n",
       "Abramowitz and Stegun, figure 4.4, page 79.\n",
       "</p>\n",
       "<p>For <code>asin</code> and <code>acos</code>, there are two cuts, both along\n",
       "the real axis: <i>(-Inf, -1]</i> and\n",
       "<i>[1, Inf)</i>.\n",
       "</p>\n",
       "<p>For <code>atan</code> there are two cuts, both along the pure imaginary\n",
       "axis: <i>(-1i*Inf, -1i]</i> and\n",
       "<i>[1i, 1i*Inf)</i>.\n",
       "</p>\n",
       "<p>The behaviour actually on the cuts follows the C99 standard which\n",
       "requires continuity coming round the endpoint in a counter-clockwise\n",
       "direction.\n",
       "</p>\n",
       "<p>Complex arguments for  <code>cospi</code>, <code>sinpi</code>, and <code>tanpi</code>\n",
       "are not yet implemented, and they are a &lsquo;future direction&rsquo; of\n",
       "ISO/IEC TS 18661-4.\n",
       "</p>\n",
       "\n",
       "\n",
       "<h3>S4 methods</h3>\n",
       "\n",
       "<p>All except <code>atan2</code> are S4 generic functions: methods can be defined\n",
       "for them individually or via the\n",
       "<code>Math</code> group generic.\n",
       "</p>\n",
       "\n",
       "\n",
       "<h3>References</h3>\n",
       "\n",
       "<p>Becker, R. A., Chambers, J. M. and Wilks, A. R. (1988)\n",
       "<em>The New S Language</em>.\n",
       "Wadsworth &amp; Brooks/Cole.\n",
       "</p>\n",
       "<p>Abramowitz, M. and Stegun, I. A. (1972). <em>Handbook of\n",
       "Mathematical Functions</em>. New York: Dover.<br />\n",
       "Chapter 4. Elementary Transcendental Functions: Logarithmic,\n",
       "Exponential, Circular and Hyperbolic Functions\n",
       "</p>\n",
       "<p>For <code>cospi</code>, <code>sinpi</code>, and <code>tanpi</code> the C11 extension\n",
       "ISO/IEC TS 18661-4:2015 (draft at\n",
       "<a href=\"http://www.open-std.org/jtc1/sc22/wg14/www/docs/n1950.pdf\">http://www.open-std.org/jtc1/sc22/wg14/www/docs/n1950.pdf</a>).\n",
       "</p>\n",
       "\n",
       "\n",
       "<h3>Examples</h3>\n",
       "\n",
       "<pre>\n",
       "x &lt;- seq(-3, 7, by = 1/8)\n",
       "tx &lt;- cbind(x, cos(pi*x), cospi(x), sin(pi*x), sinpi(x),\n",
       "               tan(pi*x), tanpi(x), deparse.level=2)\n",
       "op &lt;- options(digits = 4, width = 90) # for nice formatting\n",
       "head(tx)\n",
       "tx[ (x %% 1) %in% c(0, 0.5) ,]\n",
       "options(op)\n",
       "</pre>\n",
       "\n",
       "<hr /><div style=\"text-align: center;\">[Package <em>base</em> version 3.5.1 ]</div>"
      ],
      "text/latex": [
       "\\inputencoding{utf8}\n",
       "\\HeaderA{Trig}{Trigonometric Functions}{Trig}\n",
       "\\aliasA{acos}{Trig}{acos}\n",
       "\\aliasA{arccos}{Trig}{arccos}\n",
       "\\aliasA{arcsin}{Trig}{arcsin}\n",
       "\\aliasA{arctan}{Trig}{arctan}\n",
       "\\aliasA{asin}{Trig}{asin}\n",
       "\\aliasA{atan}{Trig}{atan}\n",
       "\\aliasA{atan2}{Trig}{atan2}\n",
       "\\aliasA{cos}{Trig}{cos}\n",
       "\\aliasA{cospi}{Trig}{cospi}\n",
       "\\aliasA{sin}{Trig}{sin}\n",
       "\\aliasA{sinpi}{Trig}{sinpi}\n",
       "\\aliasA{tan}{Trig}{tan}\n",
       "\\aliasA{tanpi}{Trig}{tanpi}\n",
       "\\keyword{math}{Trig}\n",
       "%\n",
       "\\begin{Description}\\relax\n",
       "These functions give the obvious trigonometric functions.  They\n",
       "respectively compute the cosine, sine, tangent, arc-cosine, arc-sine,\n",
       "arc-tangent, and the two-argument arc-tangent.\n",
       "\n",
       "\\code{cospi(x)}, \\code{sinpi(x)}, and \\code{tanpi(x)}, compute\n",
       "\\code{cos(pi*x)}, \\code{sin(pi*x)}, and \\code{tan(pi*x)}.\n",
       "\\end{Description}\n",
       "%\n",
       "\\begin{Usage}\n",
       "\\begin{verbatim}\n",
       "cos(x)\n",
       "sin(x)\n",
       "tan(x)\n",
       "\n",
       "acos(x)\n",
       "asin(x)\n",
       "atan(x)\n",
       "atan2(y, x)\n",
       "\n",
       "cospi(x)\n",
       "sinpi(x)\n",
       "tanpi(x)\n",
       "\\end{verbatim}\n",
       "\\end{Usage}\n",
       "%\n",
       "\\begin{Arguments}\n",
       "\\begin{ldescription}\n",
       "\\item[\\code{x, y}] numeric or complex vectors.\n",
       "\\end{ldescription}\n",
       "\\end{Arguments}\n",
       "%\n",
       "\\begin{Details}\\relax\n",
       "The arc-tangent of two arguments \\code{atan2(y, x)} returns the angle\n",
       "between the x-axis and the vector from the origin to \\eqn{(x, y)}{},\n",
       "i.e., for positive arguments \\code{atan2(y, x) == atan(y/x)}.\n",
       "\n",
       "Angles are in radians, not degrees, for the standard versions (i.e., a\n",
       "right angle is \\eqn{\\pi/2}{}), and in `half-rotations' for\n",
       "\\code{cospi} etc.\n",
       "\n",
       "\\code{cospi(x)}, \\code{sinpi(x)}, and \\code{tanpi(x)} are accurate\n",
       "for \\code{x} values which are multiples of a half.\n",
       "\n",
       "All except \\code{atan2} are \\LinkA{internal generic}{internal generic} \\LinkA{primitive}{primitive}\n",
       "functions: methods can be defined for them individually or via the\n",
       "\\code{\\LinkA{Math}{S3groupGeneric}} group generic.\n",
       "\n",
       "These are all wrappers to system calls of the same name (with prefix\n",
       "\\code{c} for complex arguments) where available.  (\\code{cospi},\n",
       "\\code{sinpi}, and \\code{tanpi} are part of a C11 extension\n",
       "and provided by e.g.~macOS and Solaris: where not yet\n",
       "available call to \\code{cos} \\emph{etc} are used, with special cases\n",
       "for  multiples of a half.)\n",
       "\\end{Details}\n",
       "%\n",
       "\\begin{Value}\n",
       "\\code{tanpi(0.5)} is \\code{\\LinkA{NaN}{NaN}}.  Similarly for other inputs\n",
       "with fractional part \\code{0.5}.\n",
       "\\end{Value}\n",
       "%\n",
       "\\begin{Section}{Complex values}\n",
       "For the inverse trigonometric functions, branch cuts are defined as in\n",
       "Abramowitz and Stegun, figure 4.4, page 79.\n",
       "\n",
       "For \\code{asin} and \\code{acos}, there are two cuts, both along\n",
       "the real axis: \\eqn{\\left(-\\infty, -1\\right]}{} and\n",
       "\\eqn{\\left[1, \\infty\\right)}{}.\n",
       "\n",
       "For \\code{atan} there are two cuts, both along the pure imaginary\n",
       "axis: \\eqn{\\left(-\\infty i, -1i\\right]}{} and\n",
       "\\eqn{\\left[1i, \\infty i\\right)}{}.\n",
       "\n",
       "The behaviour actually on the cuts follows the C99 standard which\n",
       "requires continuity coming round the endpoint in a counter-clockwise\n",
       "direction.\n",
       "\n",
       "Complex arguments for  \\code{cospi}, \\code{sinpi}, and \\code{tanpi}\n",
       "are not yet implemented, and they are a `future direction' of\n",
       "ISO/IEC TS 18661-4.\n",
       "\\end{Section}\n",
       "%\n",
       "\\begin{Section}{S4 methods}\n",
       "All except \\code{atan2} are S4 generic functions: methods can be defined\n",
       "for them individually or via the\n",
       "\\code{\\LinkA{Math}{S4groupGeneric}} group generic.\n",
       "\\end{Section}\n",
       "%\n",
       "\\begin{References}\\relax\n",
       "Becker, R. A., Chambers, J. M. and Wilks, A. R. (1988)\n",
       "\\emph{The New S Language}.\n",
       "Wadsworth \\& Brooks/Cole.\n",
       "\n",
       "Abramowitz, M. and Stegun, I. A. (1972). \\emph{Handbook of\n",
       "Mathematical Functions}. New York: Dover.\\\\{}\n",
       "Chapter 4. Elementary Transcendental Functions: Logarithmic,\n",
       "Exponential, Circular and Hyperbolic Functions\n",
       "\n",
       "For \\code{cospi}, \\code{sinpi}, and \\code{tanpi} the C11 extension\n",
       "ISO/IEC TS 18661-4:2015 (draft at\n",
       "\\url{http://www.open-std.org/jtc1/sc22/wg14/www/docs/n1950.pdf}).\n",
       "\n",
       "\\end{References}\n",
       "%\n",
       "\\begin{Examples}\n",
       "\\begin{ExampleCode}\n",
       "x <- seq(-3, 7, by = 1/8)\n",
       "tx <- cbind(x, cos(pi*x), cospi(x), sin(pi*x), sinpi(x),\n",
       "               tan(pi*x), tanpi(x), deparse.level=2)\n",
       "op <- options(digits = 4, width = 90) # for nice formatting\n",
       "head(tx)\n",
       "tx[ (x %% 1) %in% c(0, 0.5) ,]\n",
       "options(op)\n",
       "\\end{ExampleCode}\n",
       "\\end{Examples}"
      ],
      "text/plain": [
       "Trig                   package:base                    R Documentation\n",
       "\n",
       "_\bT_\br_\bi_\bg_\bo_\bn_\bo_\bm_\be_\bt_\br_\bi_\bc _\bF_\bu_\bn_\bc_\bt_\bi_\bo_\bn_\bs\n",
       "\n",
       "_\bD_\be_\bs_\bc_\br_\bi_\bp_\bt_\bi_\bo_\bn:\n",
       "\n",
       "     These functions give the obvious trigonometric functions.  They\n",
       "     respectively compute the cosine, sine, tangent, arc-cosine,\n",
       "     arc-sine, arc-tangent, and the two-argument arc-tangent.\n",
       "\n",
       "     ‘cospi(x)’, ‘sinpi(x)’, and ‘tanpi(x)’, compute ‘cos(pi*x)’,\n",
       "     ‘sin(pi*x)’, and ‘tan(pi*x)’.\n",
       "\n",
       "_\bU_\bs_\ba_\bg_\be:\n",
       "\n",
       "     cos(x)\n",
       "     sin(x)\n",
       "     tan(x)\n",
       "     \n",
       "     acos(x)\n",
       "     asin(x)\n",
       "     atan(x)\n",
       "     atan2(y, x)\n",
       "     \n",
       "     cospi(x)\n",
       "     sinpi(x)\n",
       "     tanpi(x)\n",
       "     \n",
       "_\bA_\br_\bg_\bu_\bm_\be_\bn_\bt_\bs:\n",
       "\n",
       "    x, y: numeric or complex vectors.\n",
       "\n",
       "_\bD_\be_\bt_\ba_\bi_\bl_\bs:\n",
       "\n",
       "     The arc-tangent of two arguments ‘atan2(y, x)’ returns the angle\n",
       "     between the x-axis and the vector from the origin to (x, y), i.e.,\n",
       "     for positive arguments ‘atan2(y, x) == atan(y/x)’.\n",
       "\n",
       "     Angles are in radians, not degrees, for the standard versions\n",
       "     (i.e., a right angle is pi/2), and in ‘half-rotations’ for ‘cospi’\n",
       "     etc.\n",
       "\n",
       "     ‘cospi(x)’, ‘sinpi(x)’, and ‘tanpi(x)’ are accurate for ‘x’ values\n",
       "     which are multiples of a half.\n",
       "\n",
       "     All except ‘atan2’ are internal generic primitive functions:\n",
       "     methods can be defined for them individually or via the ‘Math’\n",
       "     group generic.\n",
       "\n",
       "     These are all wrappers to system calls of the same name (with\n",
       "     prefix ‘c’ for complex arguments) where available.  (‘cospi’,\n",
       "     ‘sinpi’, and ‘tanpi’ are part of a C11 extension and provided by\n",
       "     e.g. macOS and Solaris: where not yet available call to ‘cos’\n",
       "     _etc_ are used, with special cases for multiples of a half.)\n",
       "\n",
       "_\bV_\ba_\bl_\bu_\be:\n",
       "\n",
       "     ‘tanpi(0.5)’ is ‘NaN’.  Similarly for other inputs with fractional\n",
       "     part ‘0.5’.\n",
       "\n",
       "_\bC_\bo_\bm_\bp_\bl_\be_\bx _\bv_\ba_\bl_\bu_\be_\bs:\n",
       "\n",
       "     For the inverse trigonometric functions, branch cuts are defined\n",
       "     as in Abramowitz and Stegun, figure 4.4, page 79.\n",
       "\n",
       "     For ‘asin’ and ‘acos’, there are two cuts, both along the real\n",
       "     axis: (-Inf, -1] and [1, Inf).\n",
       "\n",
       "     For ‘atan’ there are two cuts, both along the pure imaginary axis:\n",
       "     (-1i*Inf, -1i] and [1i, 1i*Inf).\n",
       "\n",
       "     The behaviour actually on the cuts follows the C99 standard which\n",
       "     requires continuity coming round the endpoint in a\n",
       "     counter-clockwise direction.\n",
       "\n",
       "     Complex arguments for ‘cospi’, ‘sinpi’, and ‘tanpi’ are not yet\n",
       "     implemented, and they are a ‘future direction’ of ISO/IEC TS\n",
       "     18661-4.\n",
       "\n",
       "_\bS_\b4 _\bm_\be_\bt_\bh_\bo_\bd_\bs:\n",
       "\n",
       "     All except ‘atan2’ are S4 generic functions: methods can be\n",
       "     defined for them individually or via the ‘Math’ group generic.\n",
       "\n",
       "_\bR_\be_\bf_\be_\br_\be_\bn_\bc_\be_\bs:\n",
       "\n",
       "     Becker, R. A., Chambers, J. M. and Wilks, A. R. (1988) _The New S\n",
       "     Language_.  Wadsworth & Brooks/Cole.\n",
       "\n",
       "     Abramowitz, M. and Stegun, I. A. (1972). _Handbook of Mathematical\n",
       "     Functions_. New York: Dover.\n",
       "     Chapter 4. Elementary Transcendental Functions: Logarithmic,\n",
       "     Exponential, Circular and Hyperbolic Functions\n",
       "\n",
       "     For ‘cospi’, ‘sinpi’, and ‘tanpi’ the C11 extension ISO/IEC TS\n",
       "     18661-4:2015 (draft at <URL:\n",
       "     http://www.open-std.org/jtc1/sc22/wg14/www/docs/n1950.pdf>).\n",
       "\n",
       "_\bE_\bx_\ba_\bm_\bp_\bl_\be_\bs:\n",
       "\n",
       "     x <- seq(-3, 7, by = 1/8)\n",
       "     tx <- cbind(x, cos(pi*x), cospi(x), sin(pi*x), sinpi(x),\n",
       "                    tan(pi*x), tanpi(x), deparse.level=2)\n",
       "     op <- options(digits = 4, width = 90) # for nice formatting\n",
       "     head(tx)\n",
       "     tx[ (x %% 1) %in% c(0, 0.5) ,]\n",
       "     options(op)\n",
       "     "
      ]
     },
     "metadata": {},
     "output_type": "display_data"
    }
   ],
   "source": [
    "# ヘルプの見方\n",
    "help(sin) \n",
    "# または\n",
    "?sin\n"
   ]
  },
  {
   "cell_type": "code",
   "execution_count": 14,
   "metadata": {},
   "outputs": [
    {
     "data": {
      "text/html": [
       "\n",
       "<table width=\"100%\" summary=\"page for quit {base}\"><tr><td>quit {base}</td><td style=\"text-align: right;\">R Documentation</td></tr></table>\n",
       "\n",
       "<h2>Terminate an R Session</h2>\n",
       "\n",
       "<h3>Description</h3>\n",
       "\n",
       "<p>The function <code>quit</code> or its alias <code>q</code> terminate the current\n",
       "<span style=\"font-family: Courier New, Courier; color: #666666;\"><b>R</b></span> session.\n",
       "</p>\n",
       "\n",
       "\n",
       "<h3>Usage</h3>\n",
       "\n",
       "<pre>\n",
       "quit(save = \"default\", status = 0, runLast = TRUE)\n",
       "   q(save = \"default\", status = 0, runLast = TRUE)\n",
       "</pre>\n",
       "\n",
       "\n",
       "<h3>Arguments</h3>\n",
       "\n",
       "<table summary=\"R argblock\">\n",
       "<tr valign=\"top\"><td><code>save</code></td>\n",
       "<td>\n",
       "<p>a character string indicating whether the environment\n",
       "(workspace) should be saved, one of <code>\"no\"</code>, <code>\"yes\"</code>,\n",
       "<code>\"ask\"</code> or <code>\"default\"</code>.</p>\n",
       "</td></tr>\n",
       "<tr valign=\"top\"><td><code>status</code></td>\n",
       "<td>\n",
       "<p>the (numerical) error status to be returned to the\n",
       "operating system, where relevant.  Conventionally <code>0</code>\n",
       "indicates successful completion.</p>\n",
       "</td></tr>\n",
       "<tr valign=\"top\"><td><code>runLast</code></td>\n",
       "<td>\n",
       "<p>should <code>.Last()</code> be executed?</p>\n",
       "</td></tr>\n",
       "</table>\n",
       "\n",
       "\n",
       "<h3>Details</h3>\n",
       "\n",
       "<p><code>save</code> must be one of <code>\"no\"</code>, <code>\"yes\"</code>,\n",
       "<code>\"ask\"</code> or <code>\"default\"</code>.  In the first case the workspace\n",
       "is not saved, in the second it is saved and in the third the user is\n",
       "prompted and can also decide <em>not</em> to quit.  The default is to\n",
       "ask in interactive use but may be overridden by command-line\n",
       "arguments (which must be supplied in non-interactive use).\n",
       "</p>\n",
       "<p>Immediately <em>before</em> normal termination, <code>.Last()</code> is\n",
       "executed if the function <code>.Last</code> exists and <code>runLast</code> is\n",
       "true.  If in interactive use there are errors in the <code>.Last</code>\n",
       "function, control will be returned to the command prompt, so do test\n",
       "the function thoroughly.  There is a system analogue,\n",
       "<code>.Last.sys()</code>, which is run after <code>.Last()</code> if\n",
       "<code>runLast</code> is true.\n",
       "</p>\n",
       "<p>Exactly what happens at termination of an <span style=\"font-family: Courier New, Courier; color: #666666;\"><b>R</b></span> session depends on the\n",
       "platform and GUI interface in use.  A typical sequence is to run\n",
       "<code>.Last()</code> and <code>.Last.sys()</code> (unless <code>runLast</code> is\n",
       "false), to save the workspace if requested (and in most cases also\n",
       "to save the session history: see <code>savehistory</code>), then\n",
       "run any finalizers (see <code>reg.finalizer</code>) that have been\n",
       "set to be run on exit, close all open graphics devices, remove the\n",
       "session temporary directory and print any remaining warnings\n",
       "(e.g., from <code>.Last()</code> and device closure).\n",
       "</p>\n",
       "<p>Some error status values are used by <span style=\"font-family: Courier New, Courier; color: #666666;\"><b>R</b></span> itself.  The default error\n",
       "handler for non-interactive use effectively calls <code>q(\"no\", 1,\n",
       "    FALSE)</code> and returns error status 1.  Error status 2 is used for <span style=\"font-family: Courier New, Courier; color: #666666;\"><b>R</b></span>\n",
       "&lsquo;suicide&rsquo;, that is a catastrophic failure, and other small\n",
       "numbers are used by specific ports for initialization failures.  It\n",
       "is recommended that users choose statuses of 10 or more.\n",
       "</p>\n",
       "<p>Valid values of <code>status</code> are system-dependent, but <code>0:255</code>\n",
       "are normally valid.  (Many OSes will report the last byte of the\n",
       "value, that is report the value modulo 256.  But not all.)\n",
       "</p>\n",
       "\n",
       "\n",
       "<h3>Warning</h3>\n",
       "\n",
       "<p>The value of <code>.Last</code> is for the end user to control: as\n",
       "it can be replaced later in the session, it cannot safely be used\n",
       "programmatically, e.g. by a package.  The other way to set code to be run\n",
       "at the end of the session is to use a <em>finalizer</em>: see\n",
       "<code>reg.finalizer</code>.\n",
       "</p>\n",
       "\n",
       "\n",
       "<h3>Note</h3>\n",
       "\n",
       "<p>The <code>R.app</code> GUI on macOS has its own version of these functions\n",
       "with slightly different behaviour for the <code>save</code> argument (the\n",
       "GUI's &lsquo;Startup&rsquo; preferences for this action are taken into account).\n",
       "</p>\n",
       "\n",
       "\n",
       "<h3>References</h3>\n",
       "\n",
       "<p>Becker, R. A., Chambers, J. M. and Wilks, A. R. (1988)\n",
       "<em>The New S Language</em>.\n",
       "Wadsworth &amp; Brooks/Cole.\n",
       "</p>\n",
       "\n",
       "\n",
       "<h3>See Also</h3>\n",
       "\n",
       "<p><code>.First</code> for setting things on startup.\n",
       "</p>\n",
       "\n",
       "\n",
       "<h3>Examples</h3>\n",
       "\n",
       "<pre>\n",
       "## Not run: ## Unix-flavour example\n",
       ".Last &lt;- function() {\n",
       "  graphics.off() # close devices before printing\n",
       "  cat(\"Now sending PDF graphics to the printer:\\n\")\n",
       "  system(\"lpr Rplots.pdf\")\n",
       "  cat(\"bye bye...\\n\")\n",
       "}\n",
       "quit(\"yes\")\n",
       "## End(Not run)\n",
       "</pre>\n",
       "\n",
       "<hr /><div style=\"text-align: center;\">[Package <em>base</em> version 3.5.1 ]</div>"
      ],
      "text/latex": [
       "\\inputencoding{utf8}\n",
       "\\HeaderA{quit}{Terminate an R Session}{quit}\n",
       "\\aliasA{.Last}{quit}{.Last}\n",
       "\\methaliasA{.Last.sys}{quit}{.Last.sys}\n",
       "\\aliasA{q}{quit}{q}\n",
       "\\keyword{environment}{quit}\n",
       "%\n",
       "\\begin{Description}\\relax\n",
       "The function \\code{quit} or its alias \\code{q} terminate the current\n",
       "\\R{} session.\n",
       "\\end{Description}\n",
       "%\n",
       "\\begin{Usage}\n",
       "\\begin{verbatim}\n",
       "quit(save = \"default\", status = 0, runLast = TRUE)\n",
       "   q(save = \"default\", status = 0, runLast = TRUE)\n",
       "\\end{verbatim}\n",
       "\\end{Usage}\n",
       "%\n",
       "\\begin{Arguments}\n",
       "\\begin{ldescription}\n",
       "\\item[\\code{save}] a character string indicating whether the environment\n",
       "(workspace) should be saved, one of \\code{\"no\"}, \\code{\"yes\"},\n",
       "\\code{\"ask\"} or \\code{\"default\"}.\n",
       "\\item[\\code{status}] the (numerical) error status to be returned to the\n",
       "operating system, where relevant.  Conventionally \\code{0}\n",
       "indicates successful completion.\n",
       "\\item[\\code{runLast}] should \\code{.Last()} be executed?\n",
       "\\end{ldescription}\n",
       "\\end{Arguments}\n",
       "%\n",
       "\\begin{Details}\\relax\n",
       "\\code{save} must be one of \\code{\"no\"}, \\code{\"yes\"},\n",
       "\\code{\"ask\"} or \\code{\"default\"}.  In the first case the workspace\n",
       "is not saved, in the second it is saved and in the third the user is\n",
       "prompted and can also decide \\emph{not} to quit.  The default is to\n",
       "ask in interactive use but may be overridden by command-line\n",
       "arguments (which must be supplied in non-interactive use).\n",
       "\n",
       "Immediately \\emph{before} normal termination, \\code{.Last()} is\n",
       "executed if the function \\code{.Last} exists and \\code{runLast} is\n",
       "true.  If in interactive use there are errors in the \\code{.Last}\n",
       "function, control will be returned to the command prompt, so do test\n",
       "the function thoroughly.  There is a system analogue,\n",
       "\\code{.Last.sys()}, which is run after \\code{.Last()} if\n",
       "\\code{runLast} is true.\n",
       "\n",
       "Exactly what happens at termination of an \\R{} session depends on the\n",
       "platform and GUI interface in use.  A typical sequence is to run\n",
       "\\code{.Last()} and \\code{.Last.sys()} (unless \\code{runLast} is\n",
       "false), to save the workspace if requested (and in most cases also\n",
       "to save the session history: see \\code{\\LinkA{savehistory}{savehistory}}), then\n",
       "run any finalizers (see \\code{\\LinkA{reg.finalizer}{reg.finalizer}}) that have been\n",
       "set to be run on exit, close all open graphics devices, remove the\n",
       "session temporary directory and print any remaining warnings\n",
       "(e.g., from \\code{.Last()} and device closure).\n",
       "\n",
       "Some error status values are used by \\R{} itself.  The default error\n",
       "handler for non-interactive use effectively calls \\code{q(\"no\", 1,\n",
       "    FALSE)} and returns error status 1.  Error status 2 is used for \\R{}\n",
       "`suicide', that is a catastrophic failure, and other small\n",
       "numbers are used by specific ports for initialization failures.  It\n",
       "is recommended that users choose statuses of 10 or more.\n",
       "\n",
       "Valid values of \\code{status} are system-dependent, but \\code{0:255}\n",
       "are normally valid.  (Many OSes will report the last byte of the\n",
       "value, that is report the value modulo 256.  But not all.)\n",
       "\\end{Details}\n",
       "%\n",
       "\\begin{Section}{Warning}\n",
       "The value of \\code{.Last} is for the end user to control: as\n",
       "it can be replaced later in the session, it cannot safely be used\n",
       "programmatically, e.g.~by a package.  The other way to set code to be run\n",
       "at the end of the session is to use a \\emph{finalizer}: see\n",
       "\\code{\\LinkA{reg.finalizer}{reg.finalizer}}.\n",
       "\\end{Section}\n",
       "%\n",
       "\\begin{Note}\\relax\n",
       "The \\code{R.app} GUI on macOS has its own version of these functions\n",
       "with slightly different behaviour for the \\code{save} argument (the\n",
       "GUI's `Startup' preferences for this action are taken into account).\n",
       "\\end{Note}\n",
       "%\n",
       "\\begin{References}\\relax\n",
       "Becker, R. A., Chambers, J. M. and Wilks, A. R. (1988)\n",
       "\\emph{The New S Language}.\n",
       "Wadsworth \\& Brooks/Cole.\n",
       "\\end{References}\n",
       "%\n",
       "\\begin{SeeAlso}\\relax\n",
       "\\code{\\LinkA{.First}{.First}} for setting things on startup.\n",
       "\\end{SeeAlso}\n",
       "%\n",
       "\\begin{Examples}\n",
       "\\begin{ExampleCode}\n",
       "## Not run: ## Unix-flavour example\n",
       ".Last <- function() {\n",
       "  graphics.off() # close devices before printing\n",
       "  cat(\"Now sending PDF graphics to the printer:\\n\")\n",
       "  system(\"lpr Rplots.pdf\")\n",
       "  cat(\"bye bye...\\n\")\n",
       "}\n",
       "quit(\"yes\")\n",
       "## End(Not run)\n",
       "\\end{ExampleCode}\n",
       "\\end{Examples}"
      ],
      "text/plain": [
       "quit                   package:base                    R Documentation\n",
       "\n",
       "_\bT_\be_\br_\bm_\bi_\bn_\ba_\bt_\be _\ba_\bn _\bR _\bS_\be_\bs_\bs_\bi_\bo_\bn\n",
       "\n",
       "_\bD_\be_\bs_\bc_\br_\bi_\bp_\bt_\bi_\bo_\bn:\n",
       "\n",
       "     The function ‘quit’ or its alias ‘q’ terminate the current R\n",
       "     session.\n",
       "\n",
       "_\bU_\bs_\ba_\bg_\be:\n",
       "\n",
       "     quit(save = \"default\", status = 0, runLast = TRUE)\n",
       "        q(save = \"default\", status = 0, runLast = TRUE)\n",
       "     \n",
       "_\bA_\br_\bg_\bu_\bm_\be_\bn_\bt_\bs:\n",
       "\n",
       "    save: a character string indicating whether the environment\n",
       "          (workspace) should be saved, one of ‘\"no\"’, ‘\"yes\"’, ‘\"ask\"’\n",
       "          or ‘\"default\"’.\n",
       "\n",
       "  status: the (numerical) error status to be returned to the operating\n",
       "          system, where relevant.  Conventionally ‘0’ indicates\n",
       "          successful completion.\n",
       "\n",
       " runLast: should ‘.Last()’ be executed?\n",
       "\n",
       "_\bD_\be_\bt_\ba_\bi_\bl_\bs:\n",
       "\n",
       "     ‘save’ must be one of ‘\"no\"’, ‘\"yes\"’, ‘\"ask\"’ or ‘\"default\"’.  In\n",
       "     the first case the workspace is not saved, in the second it is\n",
       "     saved and in the third the user is prompted and can also decide\n",
       "     _not_ to quit.  The default is to ask in interactive use but may\n",
       "     be overridden by command-line arguments (which must be supplied in\n",
       "     non-interactive use).\n",
       "\n",
       "     Immediately _before_ normal termination, ‘.Last()’ is executed if\n",
       "     the function ‘.Last’ exists and ‘runLast’ is true.  If in\n",
       "     interactive use there are errors in the ‘.Last’ function, control\n",
       "     will be returned to the command prompt, so do test the function\n",
       "     thoroughly.  There is a system analogue, ‘.Last.sys()’, which is\n",
       "     run after ‘.Last()’ if ‘runLast’ is true.\n",
       "\n",
       "     Exactly what happens at termination of an R session depends on the\n",
       "     platform and GUI interface in use.  A typical sequence is to run\n",
       "     ‘.Last()’ and ‘.Last.sys()’ (unless ‘runLast’ is false), to save\n",
       "     the workspace if requested (and in most cases also to save the\n",
       "     session history: see ‘savehistory’), then run any finalizers (see\n",
       "     ‘reg.finalizer’) that have been set to be run on exit, close all\n",
       "     open graphics devices, remove the session temporary directory and\n",
       "     print any remaining warnings (e.g., from ‘.Last()’ and device\n",
       "     closure).\n",
       "\n",
       "     Some error status values are used by R itself.  The default error\n",
       "     handler for non-interactive use effectively calls ‘q(\"no\", 1,\n",
       "     FALSE)’ and returns error status 1.  Error status 2 is used for R\n",
       "     ‘suicide’, that is a catastrophic failure, and other small numbers\n",
       "     are used by specific ports for initialization failures.  It is\n",
       "     recommended that users choose statuses of 10 or more.\n",
       "\n",
       "     Valid values of ‘status’ are system-dependent, but ‘0:255’ are\n",
       "     normally valid.  (Many OSes will report the last byte of the\n",
       "     value, that is report the value modulo 256.  But not all.)\n",
       "\n",
       "_\bW_\ba_\br_\bn_\bi_\bn_\bg:\n",
       "\n",
       "     The value of ‘.Last’ is for the end user to control: as it can be\n",
       "     replaced later in the session, it cannot safely be used\n",
       "     programmatically, e.g. by a package.  The other way to set code to\n",
       "     be run at the end of the session is to use a _finalizer_: see\n",
       "     ‘reg.finalizer’.\n",
       "\n",
       "_\bN_\bo_\bt_\be:\n",
       "\n",
       "     The ‘R.app’ GUI on macOS has its own version of these functions\n",
       "     with slightly different behaviour for the ‘save’ argument (the\n",
       "     GUI's ‘Startup’ preferences for this action are taken into\n",
       "     account).\n",
       "\n",
       "_\bR_\be_\bf_\be_\br_\be_\bn_\bc_\be_\bs:\n",
       "\n",
       "     Becker, R. A., Chambers, J. M. and Wilks, A. R. (1988) _The New S\n",
       "     Language_.  Wadsworth & Brooks/Cole.\n",
       "\n",
       "_\bS_\be_\be _\bA_\bl_\bs_\bo:\n",
       "\n",
       "     ‘.First’ for setting things on startup.\n",
       "\n",
       "_\bE_\bx_\ba_\bm_\bp_\bl_\be_\bs:\n",
       "\n",
       "     ## Not run:\n",
       "     ## Unix-flavour example\n",
       "     .Last <- function() {\n",
       "       graphics.off() # close devices before printing\n",
       "       cat(\"Now sending PDF graphics to the printer:\\n\")\n",
       "       system(\"lpr Rplots.pdf\")\n",
       "       cat(\"bye bye...\\n\")\n",
       "     }\n",
       "     quit(\"yes\")\n",
       "     ## End(Not run)\n",
       "     "
      ]
     },
     "metadata": {},
     "output_type": "display_data"
    }
   ],
   "source": [
    "?q"
   ]
  },
  {
   "cell_type": "code",
   "execution_count": 21,
   "metadata": {},
   "outputs": [
    {
     "ename": "ERROR",
     "evalue": "Error in help.search(trigonometric): object 'trigonometric' not found\n",
     "output_type": "error",
     "traceback": [
      "Error in help.search(trigonometric): object 'trigonometric' not found\nTraceback:\n",
      "1. help.search(trigonometric)"
     ]
    }
   ],
   "source": [
    "# キーワードでヘルプファイルを検索\n",
    "help.search('trigonometric')\n",
    "# または\n",
    "??trigonometric"
   ]
  },
  {
   "cell_type": "code",
   "execution_count": 7,
   "metadata": {},
   "outputs": [
    {
     "name": "stdout",
     "output_type": "stream",
     "text": [
      "[1] 55299\n",
      "[1] 6700417\n",
      "[1] 1\n"
     ]
    }
   ],
   "source": [
    "a1 = 123 * 456 -789\n",
    "print(a1)\n",
    "\n",
    "a2 = (2^2^5+1) / 641\n",
    "print(a2)\n",
    "\n",
    "a3 = sin(pi / 3) ^ 2 + cos(pi / 3) ^ 2\n",
    "print(a3)"
   ]
  }
 ],
 "metadata": {
  "kernelspec": {
   "display_name": "R",
   "language": "R",
   "name": "ir"
  },
  "language_info": {
   "codemirror_mode": "r",
   "file_extension": ".r",
   "mimetype": "text/x-r-source",
   "name": "R",
   "pygments_lexer": "r",
   "version": "3.5.1"
  }
 },
 "nbformat": 4,
 "nbformat_minor": 2
}
