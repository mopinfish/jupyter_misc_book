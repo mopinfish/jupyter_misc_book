{
 "cells": [
  {
   "cell_type": "code",
   "execution_count": 26,
   "metadata": {},
   "outputs": [],
   "source": [
    "import numpy as np\n",
    "import math\n",
    "from sympy import  Symbol, solve"
   ]
  },
  {
   "cell_type": "code",
   "execution_count": 16,
   "metadata": {},
   "outputs": [
    {
     "name": "stdout",
     "output_type": "stream",
     "text": [
      "0.982793723247329\n",
      "56.309932474020215\n"
     ]
    }
   ],
   "source": [
    "# ベクトルの方向を求める\n",
    "rad = math.atan2(3, 2) # 座標(3,2)に対する角度をarctangentによって求める\n",
    "print(rad)\n",
    "th = math.degrees(rad) # 弧度法 -> 度数法\n",
    "print(th)"
   ]
  },
  {
   "cell_type": "code",
   "execution_count": 24,
   "metadata": {},
   "outputs": [
    {
     "data": {
      "text/plain": [
       "array([ 4, -3])"
      ]
     },
     "execution_count": 24,
     "metadata": {},
     "output_type": "execute_result"
    }
   ],
   "source": [
    "# ベクトルの演算\n",
    "a = np.array([2, 3])\n",
    "b = np.array([2, -1])\n",
    "a + b\n",
    "\n",
    "a -b\n",
    "\n",
    "2 * a\n",
    "\n",
    "a * b"
   ]
  },
  {
   "cell_type": "code",
   "execution_count": 27,
   "metadata": {},
   "outputs": [
    {
     "data": {
      "text/plain": [
       "{a: 2/3, b: 8/3}"
      ]
     },
     "execution_count": 27,
     "metadata": {},
     "output_type": "execute_result"
    }
   ],
   "source": [
    "# 直線の方程式\n",
    "a = Symbol('a')\n",
    "b = Symbol('b')\n",
    "# 式の定義\n",
    "ex1 = -1 * a + b -2\n",
    "ex2 = 2 * a + b -4\n",
    "solve((ex1, ex2))"
   ]
  },
  {
   "cell_type": "code",
   "execution_count": 33,
   "metadata": {},
   "outputs": [
    {
     "name": "stdout",
     "output_type": "stream",
     "text": [
      "[ 4 -6]\n",
      "[4 2]\n",
      "7.211102550927978\n",
      "4.47213595499958\n",
      "4\n",
      "82.8749836510982\n"
     ]
    }
   ],
   "source": [
    "# ベクトルの内積\n",
    "# 座標\n",
    "a = np.array([2, 7])\n",
    "b = np.array([6, 1])\n",
    "c = np.array([2, 3])\n",
    "d = np.array([6, 5])\n",
    "\n",
    "# ベクトルaとベクトルbの成分\n",
    "va = b - a\n",
    "vb = d - c\n",
    "print(va)\n",
    "print(vb)\n",
    "\n",
    "# ベクトルの大きさ\n",
    "norm_a = np.linalg.norm(va)\n",
    "norm_b = np.linalg.norm(vb)\n",
    "print(norm_a)\n",
    "print(norm_b)\n",
    "\n",
    "# ベクトルの内積\n",
    "dot_ab = np.dot(va, vb)\n",
    "print(dot_ab)\n",
    "\n",
    "# 角度を求める\n",
    "cos_th = dot_ab / (norm_a * norm_b)\n",
    "rad = math.acos(cos_th)\n",
    "deg = math.degrees(rad)\n",
    "print(deg)"
   ]
  },
  {
   "cell_type": "code",
   "execution_count": 21,
   "metadata": {},
   "outputs": [
    {
     "data": {
      "text/plain": [
       "array(3)"
      ]
     },
     "execution_count": 21,
     "metadata": {},
     "output_type": "execute_result"
    }
   ],
   "source": [
    "# 法線ベクトル（外積）\n",
    "a = np.array([6, 1])\n",
    "b = np.array([3, 1])\n",
    "np.cross(a, b)"
   ]
  },
  {
   "cell_type": "code",
   "execution_count": 29,
   "metadata": {},
   "outputs": [
    {
     "name": "stdout",
     "output_type": "stream",
     "text": [
      "[  5   5 -10]\n"
     ]
    },
    {
     "data": {
      "text/plain": [
       "6.123724356957945"
      ]
     },
     "execution_count": 29,
     "metadata": {},
     "output_type": "execute_result"
    }
   ],
   "source": [
    "# 法線ベクトル（外積）\n",
    "a = np.array([2, 4, 3,])\n",
    "b = np.array([3, 1, 2])\n",
    "cross_ab = np.cross(a, b)\n",
    "print(cross_ab)\n",
    "s = np.linalg.norm(cross_ab)\n",
    "s/2"
   ]
  }
 ],
 "metadata": {
  "kernelspec": {
   "display_name": "Python 3",
   "language": "python",
   "name": "python3"
  },
  "language_info": {
   "codemirror_mode": {
    "name": "ipython",
    "version": 3
   },
   "file_extension": ".py",
   "mimetype": "text/x-python",
   "name": "python",
   "nbconvert_exporter": "python",
   "pygments_lexer": "ipython3",
   "version": "3.7.3"
  }
 },
 "nbformat": 4,
 "nbformat_minor": 2
}
