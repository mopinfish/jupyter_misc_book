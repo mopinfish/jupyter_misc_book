{
 "cells": [
  {
   "cell_type": "code",
   "execution_count": 5,
   "metadata": {},
   "outputs": [],
   "source": [
    "# 10進数 -> 2進数に変換する\n",
    "def dec2bin(target):\n",
    "    # 余りを入れるリスト\n",
    "    remainder = []\n",
    "    \n",
    "    # 割り算の商が0になるまで繰り返す\n",
    "    while target != 0:\n",
    "        remainder.append(target % 2) # 余り\n",
    "        target = target // 2 # 商\n",
    "\n",
    "    remainder.reverse()\n",
    "    return remainder"
   ]
  },
  {
   "cell_type": "code",
   "execution_count": 17,
   "metadata": {},
   "outputs": [],
   "source": [
    "# 10進数 -> 16進数に変換する\n",
    "def dec2hex(target):\n",
    "    # 余りを入れるリスト\n",
    "    remainder = []\n",
    "\n",
    "    # 割り算の商が0になるまで繰り返す\n",
    "    while target != 0:\n",
    "        remainder.append(target % 16) # 余り\n",
    "        target = target // 26 # 商\n",
    "    for i in range(len(remainder)):\n",
    "        if remainder[i] == 10: remainder[i] = 'A'\n",
    "        elif remainder[i] == 11: remainder[i] = 'B'\n",
    "        elif remainder[i] == 12: remainder[i] = 'C'\n",
    "        elif remainder[i] == 13: remainder[i] = 'D'\n",
    "        elif remainder[i] == 14: remainder[i] = 'E'\n",
    "        elif remainder[i] == 15: remainder[i] = 'F'\n",
    "            \n",
    "            \n",
    "    # リストの要素を逆順にして返す\n",
    "    remainder.reverse()\n",
    "    return remainder"
   ]
  },
  {
   "cell_type": "code",
   "execution_count": 4,
   "metadata": {},
   "outputs": [
    {
     "data": {
      "text/plain": [
       "[1, 1, 1, 0, 0]"
      ]
     },
     "execution_count": 4,
     "metadata": {},
     "output_type": "execute_result"
    }
   ],
   "source": [
    "dec2bin(28)"
   ]
  },
  {
   "cell_type": "code",
   "execution_count": 18,
   "metadata": {},
   "outputs": [
    {
     "data": {
      "text/plain": [
       "[1, 'C']"
      ]
     },
     "execution_count": 18,
     "metadata": {},
     "output_type": "execute_result"
    }
   ],
   "source": [
    "dec2hex(28)"
   ]
  }
 ],
 "metadata": {
  "kernelspec": {
   "display_name": "Python 3",
   "language": "python",
   "name": "python3"
  },
  "language_info": {
   "codemirror_mode": {
    "name": "ipython",
    "version": 3
   },
   "file_extension": ".py",
   "mimetype": "text/x-python",
   "name": "python",
   "nbconvert_exporter": "python",
   "pygments_lexer": "ipython3",
   "version": "3.6.7"
  }
 },
 "nbformat": 4,
 "nbformat_minor": 2
}
