{
 "cells": [
  {
   "cell_type": "markdown",
   "metadata": {},
   "source": [
    "参考）[Python の NetworkX 入門](https://qiita.com/tomov3/items/64f7315474747fc01a6c)"
   ]
  },
  {
   "cell_type": "code",
   "execution_count": 4,
   "metadata": {},
   "outputs": [
    {
     "data": {
      "text/plain": [
       "88234"
      ]
     },
     "execution_count": 4,
     "metadata": {},
     "output_type": "execute_result"
    }
   ],
   "source": [
    "# networkx の import\n",
    "import networkx as nx\n",
    "\n",
    "# グラフを構築\n",
    "G = nx.read_edgelist('../../data/facebook_combined.txt.gz', nodetype=int)\n",
    "\n",
    "# ノード数とエッジ数を出力\n",
    "nodes_count = nx.number_of_nodes(G)\n",
    "edges_count = nx.number_of_edges(G)"
   ]
  }
 ],
 "metadata": {
  "kernelspec": {
   "display_name": "Python 3",
   "language": "python",
   "name": "python3"
  },
  "language_info": {
   "codemirror_mode": {
    "name": "ipython",
    "version": 3
   },
   "file_extension": ".py",
   "mimetype": "text/x-python",
   "name": "python",
   "nbconvert_exporter": "python",
   "pygments_lexer": "ipython3",
   "version": "3.7.3"
  }
 },
 "nbformat": 4,
 "nbformat_minor": 2
}
