{
 "cells": [
  {
   "cell_type": "markdown",
   "metadata": {},
   "source": [
    "# sample of cats code"
   ]
  },
  {
   "cell_type": "code",
   "execution_count": 1,
   "metadata": {},
   "outputs": [
    {
     "name": "stderr",
     "output_type": "stream",
     "text": [
      "Downloading https://repo1.maven.org/maven2/org/typelevel/cats-core_2.12/1.4.0/cats-core_2.12-1.4.0.pom\n",
      "Downloading https://repo1.maven.org/maven2/org/typelevel/cats-core_2.12/1.4.0/cats-core_2.12-1.4.0.pom.sha1\n",
      "Downloaded https://repo1.maven.org/maven2/org/typelevel/cats-core_2.12/1.4.0/cats-core_2.12-1.4.0.pom\n",
      "Downloaded https://repo1.maven.org/maven2/org/typelevel/cats-core_2.12/1.4.0/cats-core_2.12-1.4.0.pom.sha1\n",
      "Downloading https://repo1.maven.org/maven2/org/typelevel/cats-core_2.12/1.4.0/\n",
      "Downloaded https://repo1.maven.org/maven2/org/typelevel/cats-core_2.12/1.4.0/\n",
      "Downloading https://repo1.maven.org/maven2/org/typelevel/cats-macros_2.12/1.4.0/cats-macros_2.12-1.4.0.pom\n",
      "Downloading https://repo1.maven.org/maven2/org/typelevel/cats-kernel_2.12/1.4.0/cats-kernel_2.12-1.4.0.pom.sha1\n",
      "Downloading https://repo1.maven.org/maven2/org/typelevel/cats-kernel_2.12/1.4.0/cats-kernel_2.12-1.4.0.pom\n",
      "Downloading https://repo1.maven.org/maven2/org/typelevel/cats-macros_2.12/1.4.0/cats-macros_2.12-1.4.0.pom.sha1\n",
      "Downloading https://repo1.maven.org/maven2/org/typelevel/machinist_2.12/0.6.5/machinist_2.12-0.6.5.pom\n",
      "Downloading https://repo1.maven.org/maven2/org/typelevel/machinist_2.12/0.6.5/machinist_2.12-0.6.5.pom.sha1\n",
      "Downloaded https://repo1.maven.org/maven2/org/typelevel/cats-macros_2.12/1.4.0/cats-macros_2.12-1.4.0.pom\n",
      "Downloaded https://repo1.maven.org/maven2/org/typelevel/machinist_2.12/0.6.5/machinist_2.12-0.6.5.pom.sha1\n",
      "Downloaded https://repo1.maven.org/maven2/org/typelevel/machinist_2.12/0.6.5/machinist_2.12-0.6.5.pom\n",
      "Downloaded https://repo1.maven.org/maven2/org/typelevel/cats-macros_2.12/1.4.0/cats-macros_2.12-1.4.0.pom.sha1\n",
      "Downloaded https://repo1.maven.org/maven2/org/typelevel/cats-kernel_2.12/1.4.0/cats-kernel_2.12-1.4.0.pom\n",
      "Downloaded https://repo1.maven.org/maven2/org/typelevel/cats-kernel_2.12/1.4.0/cats-kernel_2.12-1.4.0.pom.sha1\n",
      "Downloading https://repo1.maven.org/maven2/org/typelevel/machinist_2.12/0.6.5/\n",
      "Downloading https://repo1.maven.org/maven2/org/typelevel/cats-macros_2.12/1.4.0/\n",
      "Downloading https://repo1.maven.org/maven2/org/typelevel/cats-kernel_2.12/1.4.0/\n",
      "Downloaded https://repo1.maven.org/maven2/org/typelevel/machinist_2.12/0.6.5/\n",
      "Downloaded https://repo1.maven.org/maven2/org/typelevel/cats-kernel_2.12/1.4.0/\n",
      "Downloaded https://repo1.maven.org/maven2/org/typelevel/cats-macros_2.12/1.4.0/\n",
      "Downloading https://repo1.maven.org/maven2/org/typelevel/cats-kernel_2.12/1.4.0/cats-kernel_2.12-1.4.0.jar\n",
      "Downloading https://repo1.maven.org/maven2/org/typelevel/cats-kernel_2.12/1.4.0/cats-kernel_2.12-1.4.0.jar.sha1\n",
      "Downloading https://repo1.maven.org/maven2/org/typelevel/cats-macros_2.12/1.4.0/cats-macros_2.12-1.4.0.jar.sha1\n",
      "Downloading https://repo1.maven.org/maven2/org/typelevel/cats-macros_2.12/1.4.0/cats-macros_2.12-1.4.0.jar\n",
      "Downloading https://repo1.maven.org/maven2/org/typelevel/machinist_2.12/0.6.5/machinist_2.12-0.6.5.jar\n",
      "Downloading https://repo1.maven.org/maven2/org/typelevel/machinist_2.12/0.6.5/machinist_2.12-0.6.5.jar.sha1\n",
      "Downloaded https://repo1.maven.org/maven2/org/typelevel/cats-kernel_2.12/1.4.0/cats-kernel_2.12-1.4.0.jar.sha1\n",
      "Downloaded https://repo1.maven.org/maven2/org/typelevel/cats-macros_2.12/1.4.0/cats-macros_2.12-1.4.0.jar.sha1\n",
      "Downloading https://repo1.maven.org/maven2/org/typelevel/cats-core_2.12/1.4.0/cats-core_2.12-1.4.0.jar\n",
      "Downloaded https://repo1.maven.org/maven2/org/typelevel/cats-macros_2.12/1.4.0/cats-macros_2.12-1.4.0.jar\n",
      "Downloading https://repo1.maven.org/maven2/org/typelevel/cats-core_2.12/1.4.0/cats-core_2.12-1.4.0.jar.sha1\n",
      "Downloaded https://repo1.maven.org/maven2/org/typelevel/machinist_2.12/0.6.5/machinist_2.12-0.6.5.jar\n",
      "Downloaded https://repo1.maven.org/maven2/org/typelevel/cats-core_2.12/1.4.0/cats-core_2.12-1.4.0.jar.sha1\n",
      "Downloaded https://repo1.maven.org/maven2/org/typelevel/machinist_2.12/0.6.5/machinist_2.12-0.6.5.jar.sha1\n",
      "https://repo1.maven.org/maven2/org/typelevel/cats-core_2.12/1.… (42.50 %, 18759…\n",
      "https://repo1.maven.org/maven2/org/typelevel/cats-kernel_2.12/… (23.49 %, 75312…\n",
      "\n",
      "https://repo1.maven.org/maven2/org/typelevel/cats-core_2.12/1.… (92.95 %, 41024…\n",
      "https://repo1.maven.org/maven2/org/typelevel/cats-kernel_2.12/… (48.02 %, 15395…\n",
      "\n",
      "Downloaded https://repo1.maven.org/maven2/org/typelevel/cats-core_2.12/1.4.0/cats-core_2.12-1.4.0.jar\n",
      "https://repo1.maven.org/maven2/org/typelevel/cats-kernel_2.12/… (89.36 %, 28651…\n",
      "\n",
      "Downloaded https://repo1.maven.org/maven2/org/typelevel/cats-kernel_2.12/1.4.0/cats-kernel_2.12-1.4.0.jar\n",
      "Downloading https://repo1.maven.org/maven2/org/typelevel/cats-kernel_2.12/1.4.0/cats-kernel_2.12-1.4.0-sources.jar.sha1\n",
      "Downloading https://repo1.maven.org/maven2/org/typelevel/cats-kernel_2.12/1.4.0/cats-kernel_2.12-1.4.0-sources.jar\n",
      "Downloading https://repo1.maven.org/maven2/org/typelevel/cats-macros_2.12/1.4.0/cats-macros_2.12-1.4.0-sources.jar.sha1\n",
      "Downloading https://repo1.maven.org/maven2/org/typelevel/machinist_2.12/0.6.5/machinist_2.12-0.6.5-sources.jar\n",
      "Downloading https://repo1.maven.org/maven2/org/typelevel/machinist_2.12/0.6.5/machinist_2.12-0.6.5-sources.jar.sha1\n",
      "Downloading https://repo1.maven.org/maven2/org/typelevel/cats-macros_2.12/1.4.0/cats-macros_2.12-1.4.0-sources.jar\n",
      "Downloaded https://repo1.maven.org/maven2/org/typelevel/cats-kernel_2.12/1.4.0/cats-kernel_2.12-1.4.0-sources.jar.sha1\n",
      "Downloaded https://repo1.maven.org/maven2/org/typelevel/machinist_2.12/0.6.5/machinist_2.12-0.6.5-sources.jar\n",
      "Downloading https://repo1.maven.org/maven2/org/typelevel/cats-core_2.12/1.4.0/cats-core_2.12-1.4.0-sources.jar\n",
      "Downloaded https://repo1.maven.org/maven2/org/typelevel/cats-macros_2.12/1.4.0/cats-macros_2.12-1.4.0-sources.jar.sha1\n",
      "Downloading https://repo1.maven.org/maven2/org/typelevel/cats-core_2.12/1.4.0/cats-core_2.12-1.4.0-sources.jar.sha1\n",
      "Downloaded https://repo1.maven.org/maven2/org/typelevel/machinist_2.12/0.6.5/machinist_2.12-0.6.5-sources.jar.sha1\n",
      "Downloaded https://repo1.maven.org/maven2/org/typelevel/cats-core_2.12/1.4.0/cats-core_2.12-1.4.0-sources.jar.sha1\n",
      "Downloaded https://repo1.maven.org/maven2/org/typelevel/cats-kernel_2.12/1.4.0/cats-kernel_2.12-1.4.0-sources.jar\n",
      "Downloaded https://repo1.maven.org/maven2/org/typelevel/cats-macros_2.12/1.4.0/cats-macros_2.12-1.4.0-sources.jar\n",
      "Downloaded https://repo1.maven.org/maven2/org/typelevel/cats-core_2.12/1.4.0/cats-core_2.12-1.4.0-sources.jar\n",
      "Downloading https://repo1.maven.org/maven2/io/circe/circe-parser_2.12/0.10.1/circe-parser_2.12-0.10.1.pom.sha1\n",
      "Downloading https://repo1.maven.org/maven2/io/circe/circe-parser_2.12/0.10.1/circe-parser_2.12-0.10.1.pom\n",
      "Downloaded https://repo1.maven.org/maven2/io/circe/circe-parser_2.12/0.10.1/circe-parser_2.12-0.10.1.pom.sha1\n",
      "Downloaded https://repo1.maven.org/maven2/io/circe/circe-parser_2.12/0.10.1/circe-parser_2.12-0.10.1.pom\n",
      "Downloading https://repo1.maven.org/maven2/io/circe/circe-parser_2.12/0.10.1/\n",
      "Downloaded https://repo1.maven.org/maven2/io/circe/circe-parser_2.12/0.10.1/\n",
      "Downloading https://repo1.maven.org/maven2/io/circe/circe-core_2.12/0.10.1/circe-core_2.12-0.10.1.pom.sha1\n",
      "Downloading https://repo1.maven.org/maven2/io/circe/circe-jawn_2.12/0.10.1/circe-jawn_2.12-0.10.1.pom.sha1\n",
      "Downloading https://repo1.maven.org/maven2/io/circe/circe-core_2.12/0.10.1/circe-core_2.12-0.10.1.pom\n",
      "Downloading https://repo1.maven.org/maven2/io/circe/circe-jawn_2.12/0.10.1/circe-jawn_2.12-0.10.1.pom\n",
      "Downloaded https://repo1.maven.org/maven2/io/circe/circe-core_2.12/0.10.1/circe-core_2.12-0.10.1.pom.sha1\n",
      "Downloaded https://repo1.maven.org/maven2/io/circe/circe-jawn_2.12/0.10.1/circe-jawn_2.12-0.10.1.pom.sha1\n",
      "Downloaded https://repo1.maven.org/maven2/io/circe/circe-jawn_2.12/0.10.1/circe-jawn_2.12-0.10.1.pom\n",
      "Downloaded https://repo1.maven.org/maven2/io/circe/circe-core_2.12/0.10.1/circe-core_2.12-0.10.1.pom\n",
      "Downloading https://repo1.maven.org/maven2/io/circe/circe-jawn_2.12/0.10.1/\n",
      "Downloading https://repo1.maven.org/maven2/io/circe/circe-core_2.12/0.10.1/\n",
      "Downloaded https://repo1.maven.org/maven2/io/circe/circe-core_2.12/0.10.1/\n",
      "Downloaded https://repo1.maven.org/maven2/io/circe/circe-jawn_2.12/0.10.1/\n",
      "Downloading https://repo1.maven.org/maven2/io/circe/circe-numbers_2.12/0.10.1/circe-numbers_2.12-0.10.1.pom\n",
      "Downloading https://repo1.maven.org/maven2/io/circe/circe-numbers_2.12/0.10.1/circe-numbers_2.12-0.10.1.pom.sha1\n",
      "Downloading https://repo1.maven.org/maven2/org/spire-math/jawn-parser_2.12/0.13.0/jawn-parser_2.12-0.13.0.pom\n",
      "Downloading https://repo1.maven.org/maven2/org/spire-math/jawn-parser_2.12/0.13.0/jawn-parser_2.12-0.13.0.pom.sha1\n",
      "Downloaded https://repo1.maven.org/maven2/io/circe/circe-numbers_2.12/0.10.1/circe-numbers_2.12-0.10.1.pom.sha1\n",
      "Downloaded https://repo1.maven.org/maven2/io/circe/circe-numbers_2.12/0.10.1/circe-numbers_2.12-0.10.1.pom\n",
      "Downloading https://repo1.maven.org/maven2/io/circe/circe-numbers_2.12/0.10.1/\n",
      "Downloaded https://repo1.maven.org/maven2/org/spire-math/jawn-parser_2.12/0.13.0/jawn-parser_2.12-0.13.0.pom\n",
      "Downloaded https://repo1.maven.org/maven2/org/spire-math/jawn-parser_2.12/0.13.0/jawn-parser_2.12-0.13.0.pom.sha1\n",
      "Downloading https://repo1.maven.org/maven2/org/spire-math/jawn-parser_2.12/0.13.0/\n",
      "Downloaded https://repo1.maven.org/maven2/io/circe/circe-numbers_2.12/0.10.1/\n",
      "Downloaded https://repo1.maven.org/maven2/org/spire-math/jawn-parser_2.12/0.13.0/\n",
      "Downloading https://repo1.maven.org/maven2/io/circe/circe-core_2.12/0.10.1/circe-core_2.12-0.10.1.jar\n",
      "Downloading https://repo1.maven.org/maven2/io/circe/circe-core_2.12/0.10.1/circe-core_2.12-0.10.1.jar.sha1\n",
      "Downloading https://repo1.maven.org/maven2/io/circe/circe-numbers_2.12/0.10.1/circe-numbers_2.12-0.10.1.jar\n",
      "Downloading https://repo1.maven.org/maven2/io/circe/circe-numbers_2.12/0.10.1/circe-numbers_2.12-0.10.1.jar.sha1\n",
      "Downloading https://repo1.maven.org/maven2/io/circe/circe-parser_2.12/0.10.1/circe-parser_2.12-0.10.1.jar\n",
      "Downloading https://repo1.maven.org/maven2/io/circe/circe-parser_2.12/0.10.1/circe-parser_2.12-0.10.1.jar.sha1\n",
      "Downloaded https://repo1.maven.org/maven2/io/circe/circe-core_2.12/0.10.1/circe-core_2.12-0.10.1.jar.sha1\n",
      "Downloading https://repo1.maven.org/maven2/org/spire-math/jawn-parser_2.12/0.13.0/jawn-parser_2.12-0.13.0.jar\n",
      "Downloaded https://repo1.maven.org/maven2/io/circe/circe-numbers_2.12/0.10.1/circe-numbers_2.12-0.10.1.jar\n",
      "Downloaded https://repo1.maven.org/maven2/io/circe/circe-numbers_2.12/0.10.1/circe-numbers_2.12-0.10.1.jar.sha1\n",
      "Downloading https://repo1.maven.org/maven2/org/spire-math/jawn-parser_2.12/0.13.0/jawn-parser_2.12-0.13.0.jar.sha1\n",
      "Downloading https://repo1.maven.org/maven2/io/circe/circe-jawn_2.12/0.10.1/circe-jawn_2.12-0.10.1.jar\n",
      "Downloaded https://repo1.maven.org/maven2/io/circe/circe-parser_2.12/0.10.1/circe-parser_2.12-0.10.1.jar\n",
      "Downloading https://repo1.maven.org/maven2/io/circe/circe-jawn_2.12/0.10.1/circe-jawn_2.12-0.10.1.jar.sha1\n",
      "Downloaded https://repo1.maven.org/maven2/org/spire-math/jawn-parser_2.12/0.13.0/jawn-parser_2.12-0.13.0.jar.sha1\n",
      "Downloaded https://repo1.maven.org/maven2/io/circe/circe-jawn_2.12/0.10.1/circe-jawn_2.12-0.10.1.jar\n",
      "Downloaded https://repo1.maven.org/maven2/io/circe/circe-jawn_2.12/0.10.1/circe-jawn_2.12-0.10.1.jar.sha1\n",
      "Downloaded https://repo1.maven.org/maven2/io/circe/circe-parser_2.12/0.10.1/circe-parser_2.12-0.10.1.jar.sha1\n",
      "Downloaded https://repo1.maven.org/maven2/org/spire-math/jawn-parser_2.12/0.13.0/jawn-parser_2.12-0.13.0.jar\n",
      "Downloaded https://repo1.maven.org/maven2/io/circe/circe-core_2.12/0.10.1/circe-core_2.12-0.10.1.jar\n",
      "Downloading https://repo1.maven.org/maven2/io/circe/circe-core_2.12/0.10.1/circe-core_2.12-0.10.1-sources.jar\n",
      "Downloading https://repo1.maven.org/maven2/io/circe/circe-core_2.12/0.10.1/circe-core_2.12-0.10.1-sources.jar.sha1\n",
      "Downloading https://repo1.maven.org/maven2/io/circe/circe-numbers_2.12/0.10.1/circe-numbers_2.12-0.10.1-sources.jar\n",
      "Downloading https://repo1.maven.org/maven2/io/circe/circe-numbers_2.12/0.10.1/circe-numbers_2.12-0.10.1-sources.jar.sha1\n",
      "Downloading https://repo1.maven.org/maven2/io/circe/circe-parser_2.12/0.10.1/circe-parser_2.12-0.10.1-sources.jar\n",
      "Downloading https://repo1.maven.org/maven2/io/circe/circe-parser_2.12/0.10.1/circe-parser_2.12-0.10.1-sources.jar.sha1\n",
      "Downloaded https://repo1.maven.org/maven2/io/circe/circe-numbers_2.12/0.10.1/circe-numbers_2.12-0.10.1-sources.jar\n",
      "Downloading https://repo1.maven.org/maven2/org/spire-math/jawn-parser_2.12/0.13.0/jawn-parser_2.12-0.13.0-sources.jar.sha1\n",
      "Downloaded https://repo1.maven.org/maven2/io/circe/circe-numbers_2.12/0.10.1/circe-numbers_2.12-0.10.1-sources.jar.sha1\n",
      "Downloading https://repo1.maven.org/maven2/org/spire-math/jawn-parser_2.12/0.13.0/jawn-parser_2.12-0.13.0-sources.jar\n",
      "Downloaded https://repo1.maven.org/maven2/io/circe/circe-core_2.12/0.10.1/circe-core_2.12-0.10.1-sources.jar.sha1\n",
      "Downloaded https://repo1.maven.org/maven2/io/circe/circe-parser_2.12/0.10.1/circe-parser_2.12-0.10.1-sources.jar\n",
      "Downloading https://repo1.maven.org/maven2/io/circe/circe-jawn_2.12/0.10.1/circe-jawn_2.12-0.10.1-sources.jar\n",
      "Downloading https://repo1.maven.org/maven2/io/circe/circe-jawn_2.12/0.10.1/circe-jawn_2.12-0.10.1-sources.jar.sha1\n",
      "Downloaded https://repo1.maven.org/maven2/org/spire-math/jawn-parser_2.12/0.13.0/jawn-parser_2.12-0.13.0-sources.jar.sha1\n",
      "Downloaded https://repo1.maven.org/maven2/org/spire-math/jawn-parser_2.12/0.13.0/jawn-parser_2.12-0.13.0-sources.jar\n",
      "Downloaded https://repo1.maven.org/maven2/io/circe/circe-core_2.12/0.10.1/circe-core_2.12-0.10.1-sources.jar\n",
      "Downloaded https://repo1.maven.org/maven2/io/circe/circe-jawn_2.12/0.10.1/circe-jawn_2.12-0.10.1-sources.jar.sha1\n",
      "Downloaded https://repo1.maven.org/maven2/io/circe/circe-jawn_2.12/0.10.1/circe-jawn_2.12-0.10.1-sources.jar\n",
      "Downloaded https://repo1.maven.org/maven2/io/circe/circe-parser_2.12/0.10.1/circe-parser_2.12-0.10.1-sources.jar.sha1\n"
     ]
    },
    {
     "data": {
      "text/plain": [
       "\u001b[32mimport \u001b[39m\u001b[36m$ivy.$                               \n",
       "\u001b[39m\n",
       "\u001b[32mimport \u001b[39m\u001b[36m$ivy.$                              \u001b[39m"
      ]
     },
     "execution_count": 1,
     "metadata": {},
     "output_type": "execute_result"
    }
   ],
   "source": [
    "import $ivy.`org.typelevel::cats-core:1.4.0`\n",
    "import $ivy.`io.circe::circe-parser:0.10.1`"
   ]
  },
  {
   "cell_type": "code",
   "execution_count": null,
   "metadata": {},
   "outputs": [
    {
     "name": "stderr",
     "output_type": "stream",
     "text": [
      "cmd0.sc:1: value some is not a member of String\n",
      "val res0 = \"apple\".some\n",
      "                   ^Compilation Failed"
     ]
    },
    {
     "ename": "",
     "evalue": "",
     "output_type": "error",
     "traceback": [
      "Compilation Failed"
     ]
    }
   ],
   "source": [
    "\"apple\".some"
   ]
  },
  {
   "cell_type": "markdown",
   "metadata": {},
   "source": [
    "# sample of spark code"
   ]
  },
  {
   "cell_type": "code",
   "execution_count": 6,
   "metadata": {},
   "outputs": [
    {
     "name": "stderr",
     "output_type": "stream",
     "text": [
      "Downloading https://repo1.maven.org/maven2/org/apache/spark/spark-sql_2.12/2.2.0/spark-sql_2.12-2.2.0.pom\n",
      "Downloading https://repo1.maven.org/maven2/org/apache/spark/spark-sql_2.12/2.2.0/spark-sql_2.12-2.2.0.pom.sha1\n",
      "Failed to resolve ivy dependencies:\n",
      "  org.apache.spark:spark-sql_2.12:2.2.0 \n",
      "    not found: /home/jovyan/.ivy2/local/org.apache.spark/spark-sql_2.12/2.2.0/ivys/ivy.xml\n",
      "    not found: https://repo1.maven.org/maven2/org/apache/spark/spark-sql_2.12/2.2.0/spark-sql_2.12-2.2.0.pom"
     ]
    },
    {
     "ename": "",
     "evalue": "",
     "output_type": "error",
     "traceback": [
      "Failed to resolve ivy dependencies:\n  org.apache.spark:spark-sql_2.12:2.2.0 \n    not found: /home/jovyan/.ivy2/local/org.apache.spark/spark-sql_2.12/2.2.0/ivys/ivy.xml\n    not found: https://repo1.maven.org/maven2/org/apache/spark/spark-sql_2.12/2.2.0/spark-sql_2.12-2.2.0.pom"
     ]
    }
   ],
   "source": [
    "import $ivy.`org.apache.spark::spark-sql:2.2.0`\n",
    "import $ivy.`org.apache.hadoop:hadoop-aws:2.7.3`\n",
    "import $ivy.`org.jupyter-scala::spark:0.4.2`"
   ]
  },
  {
   "cell_type": "code",
   "execution_count": null,
   "metadata": {},
   "outputs": [],
   "source": [
    "import org.apache.spark.sql.SparkSession\n",
    "import org.apache.spark.{SparkConf, SparkContext}"
   ]
  },
  {
   "cell_type": "code",
   "execution_count": null,
   "metadata": {},
   "outputs": [],
   "source": [
    "//Configuration\n",
    "import jupyter.spark.session._\n",
    "\n",
    "val spark = JupyterSparkSession\n",
    "  .builder() // important - call this rather than SparkSession.builder()\n",
    "  .jupyter()\n",
    "  .master(\"local[*]\")\n",
    "  .config(\"spark.driver.memory\",\"2g\")\n",
    "  .config(\"spark.memory.useLegacyMode\", \"true\")\n",
    "  .appName(\"notebook\")\n",
    "  .getOrCreate()"
   ]
  },
  {
   "cell_type": "code",
   "execution_count": null,
   "metadata": {},
   "outputs": [],
   "source": [
    "spark\n",
    "  .sparkContext\n",
    "  .parallelize(Array(\"Hello\", \"World\", \"!\"))\n",
    "  .foreach(System.err.println)"
   ]
  },
  {
   "cell_type": "code",
   "execution_count": null,
   "metadata": {},
   "outputs": [],
   "source": [
    "spark.stop()"
   ]
  }
 ],
 "metadata": {
  "kernelspec": {
   "display_name": "Scala",
   "language": "scala",
   "name": "scala"
  },
  "language_info": {
   "codemirror_mode": "text/x-scala",
   "file_extension": ".scala",
   "mimetype": "text/x-scala",
   "name": "scala",
   "nbconvert_exporter": "script",
   "version": "2.12.7"
  }
 },
 "nbformat": 4,
 "nbformat_minor": 2
}
