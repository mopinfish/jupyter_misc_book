{
 "cells": [
  {
   "cell_type": "code",
   "execution_count": 26,
   "metadata": {},
   "outputs": [
    {
     "name": "stdout",
     "output_type": "stream",
     "text": [
      "配列: [ 9  2  3  4 10  6  7  8  1  5]\n",
      "配列の次元数: 1\n",
      "配列の形状: (10,)\n",
      "配列の要素数: 10\n",
      "掛け算: [ 81   4   9  16 100  36  49  64   1  25]\n",
      "累乗: [ 729    8   27   64 1000  216  343  512    1  125]\n",
      "割り算: [4.5 1.  1.5 2.  5.  3.  3.5 4.  0.5 2.5]\n",
      "降順: [10  9  8  7  6  5  4  3  2  1]\n",
      "昇順: [ 1  2  3  4  5  6  7  8  9 10]\n",
      "最小値: 1\n",
      "最大値: 10\n",
      "合計: 55\n",
      "積み上げ合計: [ 9 11 14 18 28 34 41 49 50 55]\n",
      "積み上げ合計/合計: [0.16363636 0.2        0.25454545 0.32727273 0.50909091 0.61818182\n",
      " 0.74545455 0.89090909 0.90909091 1.        ]\n"
     ]
    }
   ],
   "source": [
    "import numpy as np\n",
    "\n",
    "arr = np.array([9, 2, 3, 4, 10, 6, 7, 8, 1, 5])\n",
    "\n",
    "# 配列の表示\n",
    "print('配列:', arr)\n",
    "print('配列の次元数:', arr.ndim)\n",
    "print('配列の形状:', arr.shape)\n",
    "print('配列の要素数:', arr.size)\n",
    "\n",
    "# 配列の掛け算、累乗、割り算\n",
    "print('掛け算:', arr * arr)\n",
    "print('累乗:', arr ** 3)\n",
    "print('割り算:', arr / 2)\n",
    "\n",
    "# ソート\n",
    "print('降順:', np.sort(arr)[::-1])\n",
    "print('昇順:', np.sort(arr))\n",
    "\n",
    "# 最小値、最大値、合計、積み上げ合計、積み上げ合計/合計\n",
    "print('最小値:', arr.min())\n",
    "print('最大値:', arr.max())\n",
    "print('合計:', arr.sum())\n",
    "print('積み上げ合計:', arr.cumsum())\n",
    "print('積み上げ合計/合計:', arr.cumsum() / arr.sum())"
   ]
  }
 ],
 "metadata": {
  "kernelspec": {
   "display_name": "Python 3",
   "language": "python",
   "name": "python3"
  },
  "language_info": {
   "codemirror_mode": {
    "name": "ipython",
    "version": 3
   },
   "file_extension": ".py",
   "mimetype": "text/x-python",
   "name": "python",
   "nbconvert_exporter": "python",
   "pygments_lexer": "ipython3",
   "version": "3.7.3"
  }
 },
 "nbformat": 4,
 "nbformat_minor": 4
}
