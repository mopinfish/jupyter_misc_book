{
 "cells": [
  {
   "cell_type": "code",
   "execution_count": 3,
   "metadata": {},
   "outputs": [
    {
     "data": {
      "text/plain": [
       "'%.3f'"
      ]
     },
     "execution_count": 3,
     "metadata": {},
     "output_type": "execute_result"
    }
   ],
   "source": [
    "# 以下のライブラリをあらかじめ読み込む\n",
    "import numpy as np\n",
    "import numpy.random as random\n",
    "import scipy as sp\n",
    "# 線形代数用ライブラリ\n",
    "import scipy.linalg as linalg\n",
    "# 最適化計算（最小値）用のライブラリ\n",
    "from scipy.optimize import minimize_scalar\n",
    "import pandas as pd\n",
    "from pandas import Series, DataFrame\n",
    "\n",
    "# 可視化ライブラリ\n",
    "import matplotlib.pyplot as plt\n",
    "import matplotlib as mpl\n",
    "import seaborn as sns\n",
    "%matplotlib inline\n",
    "\n",
    "# 少数第３位まで表示\n",
    "%precision 3"
   ]
  },
  {
   "cell_type": "code",
   "execution_count": 12,
   "metadata": {},
   "outputs": [
    {
     "data": {
      "text/plain": [
       "array([[ 1,  2,  3,  9,  2],\n",
       "       [ 7,  4, 10,  6,  7],\n",
       "       [ 1,  2,  3,  4,  5]])"
      ]
     },
     "execution_count": 12,
     "metadata": {},
     "output_type": "execute_result"
    }
   ],
   "source": [
    "# Numpyの基礎\n",
    "## 配列の作成\n",
    "data = np.array([[1, 2, 3, 9, 2], [7, 4, 10, 6, 7], [1, 2, 3, 4, 5]])\n",
    "data"
   ]
  },
  {
   "cell_type": "code",
   "execution_count": 13,
   "metadata": {},
   "outputs": [
    {
     "data": {
      "text/plain": [
       "dtype('int64')"
      ]
     },
     "execution_count": 13,
     "metadata": {},
     "output_type": "execute_result"
    }
   ],
   "source": [
    "# データの型\n",
    "data.dtype"
   ]
  },
  {
   "cell_type": "code",
   "execution_count": 14,
   "metadata": {},
   "outputs": [
    {
     "name": "stdout",
     "output_type": "stream",
     "text": [
      "次元数: 2\n",
      "要素数: 15\n"
     ]
    }
   ],
   "source": [
    "print(\"次元数:\", data.ndim)\n",
    "print(\"要素数:\", data.size)"
   ]
  },
  {
   "cell_type": "code",
   "execution_count": 17,
   "metadata": {},
   "outputs": [
    {
     "data": {
      "text/plain": [
       "array([[ 100,  200,  300,  900,  200],\n",
       "       [ 700,  400, 1000,  600,  700],\n",
       "       [ 100,  200,  300,  400,  500]])"
      ]
     },
     "execution_count": 17,
     "metadata": {},
     "output_type": "execute_result"
    }
   ],
   "source": [
    "# 全ての要素に対する計算\n",
    "data + 100\n",
    "data * 100"
   ]
  },
  {
   "cell_type": "code",
   "execution_count": 20,
   "metadata": {},
   "outputs": [
    {
     "name": "stdout",
     "output_type": "stream",
     "text": [
      "ソート後: [[ 1  2  2  3  9]\n",
      " [ 4  6  7  7 10]\n",
      " [ 1  2  3  4  5]]\n"
     ]
    }
   ],
   "source": [
    "# ソート\n",
    "data.sort()\n",
    "print(\"ソート後:\", data)"
   ]
  },
  {
   "cell_type": "code",
   "execution_count": 26,
   "metadata": {},
   "outputs": [
    {
     "data": {
      "text/plain": [
       "array([[ 1,  2,  2,  3,  9],\n",
       "       [ 4,  6,  7,  7, 10],\n",
       "       [ 1,  2,  3,  4,  5]])"
      ]
     },
     "execution_count": 26,
     "metadata": {},
     "output_type": "execute_result"
    }
   ],
   "source": [
    "data[::1][::-1].sort()\n",
    "data"
   ]
  },
  {
   "cell_type": "code",
   "execution_count": 31,
   "metadata": {},
   "outputs": [
    {
     "name": "stdout",
     "output_type": "stream",
     "text": [
      "min: 1\n",
      "max: 10\n",
      "sum: 66\n",
      "cum: [ 1  3  5  8 17 21 27 34 41 51 52 54 57 61 66]\n",
      "ratio: [0.015 0.045 0.076 0.121 0.258 0.318 0.409 0.515 0.621 0.773 0.788 0.818\n",
      " 0.864 0.924 1.   ]\n"
     ]
    }
   ],
   "source": [
    "print(\"min:\", data.min())\n",
    "print(\"max:\", data.max())\n",
    "print(\"sum:\", data.sum())\n",
    "print(\"cum:\", data.cumsum()) # 積み上げ\n",
    "print(\"ratio:\", data.cumsum() / data.sum()) # 積み上げ割合"
   ]
  },
  {
   "cell_type": "code",
   "execution_count": 67,
   "metadata": {},
   "outputs": [
    {
     "name": "stdout",
     "output_type": "stream",
     "text": [
      "乱数１０個の配列: [ 1.764  0.4    0.979  2.241  1.868 -0.977  0.95  -0.151 -0.103  0.411]\n"
     ]
    }
   ],
   "source": [
    "## 乱数\n",
    "random.seed(0)\n",
    "\n",
    "# 正規分布（平均0, 分散1）の乱数を10個生成\n",
    "rnd_data = random.randn(10)\n",
    "print(\"乱数１０個の配列:\", rnd_data)"
   ]
  },
  {
   "cell_type": "code",
   "execution_count": 52,
   "metadata": {},
   "outputs": [
    {
     "data": {
      "text/plain": [
       "array([10,  1,  2,  9,  6,  3,  7,  4,  8,  5])"
      ]
     },
     "execution_count": 52,
     "metadata": {},
     "output_type": "execute_result"
    }
   ],
   "source": [
    "## 抽出\n",
    "data = np.array([9, 2, 3, 4, 10, 6, 7, 8, 1, 5])\n",
    "\n",
    "# ランダム抽出\n",
    "# １０個を抽出（重複あり、復元抽出）\n",
    "random.choice(data, 10)\n",
    "\n",
    "# １０個を抽出（重複なし、非復元抽出）\n",
    "random.choice(data, 10, replace = False)"
   ]
  },
  {
   "cell_type": "code",
   "execution_count": 78,
   "metadata": {},
   "outputs": [
    {
     "name": "stdout",
     "output_type": "stream",
     "text": [
      "[[0 1 2]\n",
      " [3 4 5]\n",
      " [6 7 8]]\n",
      "[0 1 2]\n"
     ]
    }
   ],
   "source": [
    "## 行列\n",
    "array1 = np.arange(9).reshape(3, 3)\n",
    "print(array1)\n",
    "\n",
    "# 1行目\n",
    "print(array1[0,:])"
   ]
  },
  {
   "cell_type": "code",
   "execution_count": 81,
   "metadata": {},
   "outputs": [
    {
     "data": {
      "text/plain": [
       "array([[ 42,  45,  48],\n",
       "       [150, 162, 174],\n",
       "       [258, 279, 300]])"
      ]
     },
     "execution_count": 81,
     "metadata": {},
     "output_type": "execute_result"
    }
   ],
   "source": [
    "## 行列の計算\n",
    "array2 = np.arange(9, 18).reshape(3, 3)\n",
    "\n",
    "# 行列の積\n",
    "np.dot(array1, array2)"
   ]
  },
  {
   "cell_type": "code",
   "execution_count": 88,
   "metadata": {},
   "outputs": [
    {
     "name": "stdout",
     "output_type": "stream",
     "text": [
      "[[0 0 0]\n",
      " [0 0 0]]\n",
      "[[1. 1. 1.]\n",
      " [1. 1. 1.]]\n"
     ]
    }
   ],
   "source": [
    "print(np.zeros((2, 3), dtype = np.int32))\n",
    "print(np.ones((2, 3), dtype = np.float64))"
   ]
  },
  {
   "cell_type": "code",
   "execution_count": 96,
   "metadata": {},
   "outputs": [
    {
     "name": "stdout",
     "output_type": "stream",
     "text": [
      "1225\n",
      "data: [ 1.624 -0.612 -0.528 -1.073  0.865 -2.302  1.745 -0.761  0.319 -0.249]\n",
      "min: -2.3015386968802827\n",
      "max: 1.74481176421648\n",
      "sum: -0.9714089080609984\n"
     ]
    },
    {
     "data": {
      "text/plain": [
       "array([[45, 45, 45, 45, 45],\n",
       "       [45, 45, 45, 45, 45],\n",
       "       [45, 45, 45, 45, 45],\n",
       "       [45, 45, 45, 45, 45],\n",
       "       [45, 45, 45, 45, 45]], dtype=int32)"
      ]
     },
     "execution_count": 96,
     "metadata": {},
     "output_type": "execute_result"
    }
   ],
   "source": [
    "## Practice\n",
    "\n",
    "### 2-1 OK\n",
    "print(np.arange(1, 50).sum())\n",
    "\n",
    "### 2-2 OK \n",
    "random.seed(1)\n",
    "rnd_data = random.randn(10)\n",
    "print(\"data:\", rnd_data)\n",
    "print(\"min:\", rnd_data.min())\n",
    "print(\"max:\", rnd_data.max())\n",
    "print(\"sum:\", rnd_data.sum())\n",
    "\n",
    "### 2-3 Re:OK\n",
    "np.ones((5, 5), np.int32) * 3 ** 2 # fail\n",
    "\n",
    "matrix = np.ones((5, 5), np.int32) * 3\n",
    "np.dot(matrix, matrix) # right"
   ]
  },
  {
   "cell_type": "code",
   "execution_count": 8,
   "metadata": {},
   "outputs": [
    {
     "name": "stdout",
     "output_type": "stream",
     "text": [
      "行列式\n",
      "-4.0\n",
      "逆行列\n",
      "[[ 0.  -0.5 -0.5]\n",
      " [-0.5 -0.  -0.5]\n",
      " [-0.5 -0.5  0. ]]\n",
      "固有値\n",
      "[-1.+0.j  2.+0.j  2.+0.j]\n",
      "固有ベクトル\n",
      "[[ 0.577  0.816  0.408]\n",
      " [ 0.577 -0.408 -0.816]\n",
      " [ 0.577 -0.408  0.408]]\n"
     ]
    }
   ],
   "source": [
    "# Scipy Basics\n",
    "matrix = np.array([[1, -1, -1], [-1, 1, -1], [-1, -1, 1]])\n",
    "\n",
    "# 行列式\n",
    "print('行列式')\n",
    "print(linalg.det(matrix))\n",
    "\n",
    "# 逆行列\n",
    "print('逆行列')\n",
    "print(linalg.inv(matrix))\n",
    "\n",
    "# 固有値と固有ベクトル\n",
    "eig_value, eig_vector = linalg.eig(matrix)\n",
    "print('固有値')\n",
    "print(eig_value)\n",
    "print('固有ベクトル')\n",
    "print(eig_vector)"
   ]
  },
  {
   "cell_type": "code",
   "execution_count": 16,
   "metadata": {},
   "outputs": [
    {
     "name": "stdout",
     "output_type": "stream",
     "text": [
      "-2.999999976409712\n",
      "     fun: 0.0\n",
      "    nfev: 10\n",
      "     nit: 4\n",
      " success: True\n",
      "       x: -3.0000000000000004\n"
     ]
    }
   ],
   "source": [
    "## ニュートン法\n",
    "def my_function(x):\n",
    "    return (x ** 2 + 6 * x + 9)\n",
    "\n",
    "# ライブラリ読み込み\n",
    "from scipy.optimize import newton\n",
    "\n",
    "# ニュートン法で計算\n",
    "print(newton(my_function, 0))\n",
    "\n",
    "# Brent法で最小値を求める計算実行\n",
    "print(minimize_scalar(my_function, method = 'Brent'))"
   ]
  },
  {
   "cell_type": "code",
   "execution_count": 21,
   "metadata": {},
   "outputs": [
    {
     "name": "stdout",
     "output_type": "stream",
     "text": [
      "行列式 -12.000000000000002\n",
      "逆行列 [[-0.333  0.083  0.417]\n",
      " [-0.333  0.583 -0.083]\n",
      " [ 0.667 -0.417 -0.083]]\n",
      "固有値 [ 6.   +0.j -1.414+0.j  1.414+0.j]\n",
      "固有ベクトル [[-0.577 -0.722  0.16 ]\n",
      " [-0.577 -0.143 -0.811]\n",
      " [-0.577  0.677  0.563]]\n",
      "ニュートン法 -0.4533976515164037\n"
     ]
    }
   ],
   "source": [
    "# Prictice\n",
    "## 2-4\n",
    "matrix = np.array([[1, 2, 3], [1, 3, 2], [3, 1, 2]])\n",
    "print('行列式', linalg.det(matrix))\n",
    "\n",
    "## 2-5\n",
    "print('逆行列', linalg.inv(matrix))\n",
    "eig_value, eig_vector = linalg.eig(matrix)\n",
    "print('固有値', eig_value)\n",
    "print('固有ベクトル', eig_vector)\n",
    "\n",
    "## 2-6\n",
    "def my_function2(x):\n",
    "    return x ** 3 + 2 * x + 1\n",
    "\n",
    "print('ニュートン法', newton(my_function2, 0))"
   ]
  }
 ],
 "metadata": {
  "kernelspec": {
   "display_name": "Python 3",
   "language": "python",
   "name": "python3"
  },
  "language_info": {
   "codemirror_mode": {
    "name": "ipython",
    "version": 3
   },
   "file_extension": ".py",
   "mimetype": "text/x-python",
   "name": "python",
   "nbconvert_exporter": "python",
   "pygments_lexer": "ipython3",
   "version": "3.6.7"
  }
 },
 "nbformat": 4,
 "nbformat_minor": 2
}
