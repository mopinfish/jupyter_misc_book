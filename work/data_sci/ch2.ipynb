{
 "cells": [
  {
   "cell_type": "code",
   "execution_count": 2,
   "metadata": {},
   "outputs": [
    {
     "data": {
      "text/plain": [
       "'%.3f'"
      ]
     },
     "execution_count": 2,
     "metadata": {},
     "output_type": "execute_result"
    }
   ],
   "source": [
    "# 以下のライブラリをあらかじめ読み込む\n",
    "import numpy as np\n",
    "import numpy.random as random\n",
    "import scipy as sp\n",
    "# 線形代数用ライブラリ\n",
    "import scipy.linalg as linalg\n",
    "# 最適化計算（最小値）用のライブラリ\n",
    "from scipy.optimize import minimize_scalar\n",
    "import pandas as pd\n",
    "from pandas import Series, DataFrame\n",
    "\n",
    "# 可視化ライブラリ\n",
    "import matplotlib.pyplot as plt\n",
    "import matplotlib as mpl\n",
    "import seaborn as sns\n",
    "%matplotlib inline\n",
    "\n",
    "# 少数第３位まで表示\n",
    "%precision 3"
   ]
  },
  {
   "cell_type": "code",
   "execution_count": 12,
   "metadata": {},
   "outputs": [
    {
     "data": {
      "text/plain": [
       "array([[ 1,  2,  3,  9,  2],\n",
       "       [ 7,  4, 10,  6,  7],\n",
       "       [ 1,  2,  3,  4,  5]])"
      ]
     },
     "execution_count": 12,
     "metadata": {},
     "output_type": "execute_result"
    }
   ],
   "source": [
    "# Numpyの基礎\n",
    "## 配列の作成\n",
    "data = np.array([[1, 2, 3, 9, 2], [7, 4, 10, 6, 7], [1, 2, 3, 4, 5]])\n",
    "data"
   ]
  },
  {
   "cell_type": "code",
   "execution_count": 13,
   "metadata": {},
   "outputs": [
    {
     "data": {
      "text/plain": [
       "dtype('int64')"
      ]
     },
     "execution_count": 13,
     "metadata": {},
     "output_type": "execute_result"
    }
   ],
   "source": [
    "# データの型\n",
    "data.dtype"
   ]
  },
  {
   "cell_type": "code",
   "execution_count": 14,
   "metadata": {},
   "outputs": [
    {
     "name": "stdout",
     "output_type": "stream",
     "text": [
      "次元数: 2\n",
      "要素数: 15\n"
     ]
    }
   ],
   "source": [
    "print(\"次元数:\", data.ndim)\n",
    "print(\"要素数:\", data.size)"
   ]
  },
  {
   "cell_type": "code",
   "execution_count": 17,
   "metadata": {},
   "outputs": [
    {
     "data": {
      "text/plain": [
       "array([[ 100,  200,  300,  900,  200],\n",
       "       [ 700,  400, 1000,  600,  700],\n",
       "       [ 100,  200,  300,  400,  500]])"
      ]
     },
     "execution_count": 17,
     "metadata": {},
     "output_type": "execute_result"
    }
   ],
   "source": [
    "# 全ての要素に対する計算\n",
    "data + 100\n",
    "data * 100"
   ]
  },
  {
   "cell_type": "code",
   "execution_count": 20,
   "metadata": {},
   "outputs": [
    {
     "name": "stdout",
     "output_type": "stream",
     "text": [
      "ソート後: [[ 1  2  2  3  9]\n",
      " [ 4  6  7  7 10]\n",
      " [ 1  2  3  4  5]]\n"
     ]
    }
   ],
   "source": [
    "# ソート\n",
    "data.sort()\n",
    "print(\"ソート後:\", data)"
   ]
  },
  {
   "cell_type": "code",
   "execution_count": 26,
   "metadata": {},
   "outputs": [
    {
     "data": {
      "text/plain": [
       "array([[ 1,  2,  2,  3,  9],\n",
       "       [ 4,  6,  7,  7, 10],\n",
       "       [ 1,  2,  3,  4,  5]])"
      ]
     },
     "execution_count": 26,
     "metadata": {},
     "output_type": "execute_result"
    }
   ],
   "source": [
    "data[::1][::-1].sort()\n",
    "data"
   ]
  },
  {
   "cell_type": "code",
   "execution_count": 31,
   "metadata": {},
   "outputs": [
    {
     "name": "stdout",
     "output_type": "stream",
     "text": [
      "min: 1\n",
      "max: 10\n",
      "sum: 66\n",
      "cum: [ 1  3  5  8 17 21 27 34 41 51 52 54 57 61 66]\n",
      "ratio: [0.015 0.045 0.076 0.121 0.258 0.318 0.409 0.515 0.621 0.773 0.788 0.818\n",
      " 0.864 0.924 1.   ]\n"
     ]
    }
   ],
   "source": [
    "print(\"min:\", data.min())\n",
    "print(\"max:\", data.max())\n",
    "print(\"sum:\", data.sum())\n",
    "print(\"cum:\", data.cumsum()) # 積み上げ\n",
    "print(\"ratio:\", data.cumsum() / data.sum()) # 積み上げ割合"
   ]
  },
  {
   "cell_type": "code",
   "execution_count": 67,
   "metadata": {},
   "outputs": [
    {
     "name": "stdout",
     "output_type": "stream",
     "text": [
      "乱数１０個の配列: [ 1.764  0.4    0.979  2.241  1.868 -0.977  0.95  -0.151 -0.103  0.411]\n"
     ]
    }
   ],
   "source": [
    "## 乱数\n",
    "random.seed(0)\n",
    "\n",
    "# 正規分布（平均0, 分散1）の乱数を10個生成\n",
    "rnd_data = random.randn(10)\n",
    "print(\"乱数１０個の配列:\", rnd_data)"
   ]
  },
  {
   "cell_type": "code",
   "execution_count": 52,
   "metadata": {},
   "outputs": [
    {
     "data": {
      "text/plain": [
       "array([10,  1,  2,  9,  6,  3,  7,  4,  8,  5])"
      ]
     },
     "execution_count": 52,
     "metadata": {},
     "output_type": "execute_result"
    }
   ],
   "source": [
    "## 抽出\n",
    "data = np.array([9, 2, 3, 4, 10, 6, 7, 8, 1, 5])\n",
    "\n",
    "# ランダム抽出\n",
    "# １０個を抽出（重複あり、復元抽出）\n",
    "random.choice(data, 10)\n",
    "\n",
    "# １０個を抽出（重複なし、非復元抽出）\n",
    "random.choice(data, 10, replace = False)"
   ]
  },
  {
   "cell_type": "code",
   "execution_count": 78,
   "metadata": {},
   "outputs": [
    {
     "name": "stdout",
     "output_type": "stream",
     "text": [
      "[[0 1 2]\n",
      " [3 4 5]\n",
      " [6 7 8]]\n",
      "[0 1 2]\n"
     ]
    }
   ],
   "source": [
    "## 行列\n",
    "array1 = np.arange(9).reshape(3, 3)\n",
    "print(array1)\n",
    "\n",
    "# 1行目\n",
    "print(array1[0,:])"
   ]
  },
  {
   "cell_type": "code",
   "execution_count": 81,
   "metadata": {},
   "outputs": [
    {
     "data": {
      "text/plain": [
       "array([[ 42,  45,  48],\n",
       "       [150, 162, 174],\n",
       "       [258, 279, 300]])"
      ]
     },
     "execution_count": 81,
     "metadata": {},
     "output_type": "execute_result"
    }
   ],
   "source": [
    "## 行列の計算\n",
    "array2 = np.arange(9, 18).reshape(3, 3)\n",
    "\n",
    "# 行列の積\n",
    "np.dot(array1, array2)"
   ]
  },
  {
   "cell_type": "code",
   "execution_count": 88,
   "metadata": {},
   "outputs": [
    {
     "name": "stdout",
     "output_type": "stream",
     "text": [
      "[[0 0 0]\n",
      " [0 0 0]]\n",
      "[[1. 1. 1.]\n",
      " [1. 1. 1.]]\n"
     ]
    }
   ],
   "source": [
    "print(np.zeros((2, 3), dtype = np.int32))\n",
    "print(np.ones((2, 3), dtype = np.float64))"
   ]
  },
  {
   "cell_type": "code",
   "execution_count": 96,
   "metadata": {},
   "outputs": [
    {
     "name": "stdout",
     "output_type": "stream",
     "text": [
      "1225\n",
      "data: [ 1.624 -0.612 -0.528 -1.073  0.865 -2.302  1.745 -0.761  0.319 -0.249]\n",
      "min: -2.3015386968802827\n",
      "max: 1.74481176421648\n",
      "sum: -0.9714089080609984\n"
     ]
    },
    {
     "data": {
      "text/plain": [
       "array([[45, 45, 45, 45, 45],\n",
       "       [45, 45, 45, 45, 45],\n",
       "       [45, 45, 45, 45, 45],\n",
       "       [45, 45, 45, 45, 45],\n",
       "       [45, 45, 45, 45, 45]], dtype=int32)"
      ]
     },
     "execution_count": 96,
     "metadata": {},
     "output_type": "execute_result"
    }
   ],
   "source": [
    "## Practice\n",
    "\n",
    "### 2-1 OK\n",
    "print(np.arange(1, 50).sum())\n",
    "\n",
    "### 2-2 OK \n",
    "random.seed(1)\n",
    "rnd_data = random.randn(10)\n",
    "print(\"data:\", rnd_data)\n",
    "print(\"min:\", rnd_data.min())\n",
    "print(\"max:\", rnd_data.max())\n",
    "print(\"sum:\", rnd_data.sum())\n",
    "\n",
    "### 2-3 Re:OK\n",
    "np.ones((5, 5), np.int32) * 3 ** 2 # fail\n",
    "\n",
    "matrix = np.ones((5, 5), np.int32) * 3\n",
    "np.dot(matrix, matrix) # right"
   ]
  },
  {
   "cell_type": "code",
   "execution_count": 8,
   "metadata": {},
   "outputs": [
    {
     "name": "stdout",
     "output_type": "stream",
     "text": [
      "行列式\n",
      "-4.0\n",
      "逆行列\n",
      "[[ 0.  -0.5 -0.5]\n",
      " [-0.5 -0.  -0.5]\n",
      " [-0.5 -0.5  0. ]]\n",
      "固有値\n",
      "[-1.+0.j  2.+0.j  2.+0.j]\n",
      "固有ベクトル\n",
      "[[ 0.577  0.816  0.408]\n",
      " [ 0.577 -0.408 -0.816]\n",
      " [ 0.577 -0.408  0.408]]\n"
     ]
    }
   ],
   "source": [
    "# Scipy Basics\n",
    "matrix = np.array([[1, -1, -1], [-1, 1, -1], [-1, -1, 1]])\n",
    "\n",
    "# 行列式\n",
    "print('行列式')\n",
    "print(linalg.det(matrix))\n",
    "\n",
    "# 逆行列\n",
    "print('逆行列')\n",
    "print(linalg.inv(matrix))\n",
    "\n",
    "# 固有値と固有ベクトル\n",
    "eig_value, eig_vector = linalg.eig(matrix)\n",
    "print('固有値')\n",
    "print(eig_value)\n",
    "print('固有ベクトル')\n",
    "print(eig_vector)"
   ]
  },
  {
   "cell_type": "code",
   "execution_count": 16,
   "metadata": {},
   "outputs": [
    {
     "name": "stdout",
     "output_type": "stream",
     "text": [
      "-2.999999976409712\n",
      "     fun: 0.0\n",
      "    nfev: 10\n",
      "     nit: 4\n",
      " success: True\n",
      "       x: -3.0000000000000004\n"
     ]
    }
   ],
   "source": [
    "## ニュートン法\n",
    "def my_function(x):\n",
    "    return (x ** 2 + 6 * x + 9)\n",
    "\n",
    "# ライブラリ読み込み\n",
    "from scipy.optimize import newton\n",
    "\n",
    "# ニュートン法で計算\n",
    "print(newton(my_function, 0))\n",
    "\n",
    "# Brent法で最小値を求める計算実行\n",
    "print(minimize_scalar(my_function, method = 'Brent'))"
   ]
  },
  {
   "cell_type": "code",
   "execution_count": 21,
   "metadata": {},
   "outputs": [
    {
     "name": "stdout",
     "output_type": "stream",
     "text": [
      "行列式 -12.000000000000002\n",
      "逆行列 [[-0.333  0.083  0.417]\n",
      " [-0.333  0.583 -0.083]\n",
      " [ 0.667 -0.417 -0.083]]\n",
      "固有値 [ 6.   +0.j -1.414+0.j  1.414+0.j]\n",
      "固有ベクトル [[-0.577 -0.722  0.16 ]\n",
      " [-0.577 -0.143 -0.811]\n",
      " [-0.577  0.677  0.563]]\n",
      "ニュートン法 -0.4533976515164037\n"
     ]
    }
   ],
   "source": [
    "# Prictice\n",
    "## 2-4\n",
    "matrix = np.array([[1, 2, 3], [1, 3, 2], [3, 1, 2]])\n",
    "print('行列式', linalg.det(matrix))\n",
    "\n",
    "## 2-5\n",
    "print('逆行列', linalg.inv(matrix))\n",
    "eig_value, eig_vector = linalg.eig(matrix)\n",
    "print('固有値', eig_value)\n",
    "print('固有ベクトル', eig_vector)\n",
    "\n",
    "## 2-6\n",
    "def my_function2(x):\n",
    "    return x ** 3 + 2 * x + 1\n",
    "\n",
    "print('ニュートン法', newton(my_function2, 0))"
   ]
  },
  {
   "cell_type": "code",
   "execution_count": 8,
   "metadata": {},
   "outputs": [
    {
     "name": "stdout",
     "output_type": "stream",
     "text": [
      "0     0\n",
      "1    10\n",
      "2    20\n",
      "3    30\n",
      "4    40\n",
      "5    50\n",
      "6    60\n",
      "7    70\n",
      "8    80\n",
      "9    90\n",
      "dtype: int64\n",
      "a     0\n",
      "b    10\n",
      "c    20\n",
      "d    30\n",
      "e    40\n",
      "f    50\n",
      "g    60\n",
      "h    70\n",
      "i    80\n",
      "j    90\n",
      "dtype: int64\n",
      "データの値 [ 0 10 20 30 40 50 60 70 80 90]\n",
      "インデックスの値 Index(['a', 'b', 'c', 'd', 'e', 'f', 'g', 'h', 'i', 'j'], dtype='object')\n"
     ]
    }
   ],
   "source": [
    "## Pandas Basics\n",
    "# Series\n",
    "sample_pandas_data = Series([0, 10, 20, 30, 40, 50, 60, 70, 80, 90])\n",
    "print(sample_pandas_data)\n",
    "\n",
    "indexed_data = Series([0, 10, 20, 30, 40, 50, 60, 70, 80, 90], index = ['a', 'b', 'c', 'd', 'e', 'f', 'g', 'h', 'i', 'j'])\n",
    "print(indexed_data)\n",
    "\n",
    "print('データの値', indexed_data.values)\n",
    "print('インデックスの値', indexed_data.index)\n"
   ]
  },
  {
   "cell_type": "code",
   "execution_count": 4,
   "metadata": {},
   "outputs": [
    {
     "data": {
      "text/html": [
       "<div>\n",
       "<style scoped>\n",
       "    .dataframe tbody tr th:only-of-type {\n",
       "        vertical-align: middle;\n",
       "    }\n",
       "\n",
       "    .dataframe tbody tr th {\n",
       "        vertical-align: top;\n",
       "    }\n",
       "\n",
       "    .dataframe thead th {\n",
       "        text-align: right;\n",
       "    }\n",
       "</style>\n",
       "<table border=\"1\" class=\"dataframe\">\n",
       "  <thead>\n",
       "    <tr style=\"text-align: right;\">\n",
       "      <th></th>\n",
       "      <th>ID</th>\n",
       "      <th>City</th>\n",
       "      <th>Birth_Year</th>\n",
       "      <th>Name</th>\n",
       "    </tr>\n",
       "  </thead>\n",
       "  <tbody>\n",
       "    <tr>\n",
       "      <th>a</th>\n",
       "      <td>101</td>\n",
       "      <td>Tokyo</td>\n",
       "      <td>1990</td>\n",
       "      <td>Hiroshi</td>\n",
       "    </tr>\n",
       "    <tr>\n",
       "      <th>b</th>\n",
       "      <td>102</td>\n",
       "      <td>Osaka</td>\n",
       "      <td>1989</td>\n",
       "      <td>Akiko</td>\n",
       "    </tr>\n",
       "    <tr>\n",
       "      <th>c</th>\n",
       "      <td>103</td>\n",
       "      <td>Kyoto</td>\n",
       "      <td>1992</td>\n",
       "      <td>Yuki</td>\n",
       "    </tr>\n",
       "    <tr>\n",
       "      <th>d</th>\n",
       "      <td>104</td>\n",
       "      <td>Hokkaido</td>\n",
       "      <td>1997</td>\n",
       "      <td>Satoru</td>\n",
       "    </tr>\n",
       "    <tr>\n",
       "      <th>e</th>\n",
       "      <td>105</td>\n",
       "      <td>Tokyo</td>\n",
       "      <td>1982</td>\n",
       "      <td>Steve</td>\n",
       "    </tr>\n",
       "  </tbody>\n",
       "</table>\n",
       "</div>"
      ],
      "text/plain": [
       "    ID      City  Birth_Year     Name\n",
       "a  101     Tokyo        1990  Hiroshi\n",
       "b  102     Osaka        1989    Akiko\n",
       "c  103     Kyoto        1992     Yuki\n",
       "d  104  Hokkaido        1997   Satoru\n",
       "e  105     Tokyo        1982    Steve"
      ]
     },
     "execution_count": 4,
     "metadata": {},
     "output_type": "execute_result"
    }
   ],
   "source": [
    "attri_data1 = {\n",
    "    'ID': ['101', '102', '103', '104', '105'],\n",
    "    'City': ['Tokyo', 'Osaka', 'Kyoto', 'Hokkaido', 'Tokyo'],\n",
    "    'Birth_Year': [1990, 1989, 1992, 1997, 1982],\n",
    "    'Name': ['Hiroshi', 'Akiko', 'Yuki', 'Satoru', 'Steve'],\n",
    "}\n",
    "\n",
    "attri_data_frame1 = DataFrame(attri_data1, index = ['a', 'b', 'c', 'd', 'e'])\n",
    "\n",
    "attri_data_frame1"
   ]
  },
  {
   "cell_type": "code",
   "execution_count": 5,
   "metadata": {},
   "outputs": [
    {
     "data": {
      "text/html": [
       "<div>\n",
       "<style scoped>\n",
       "    .dataframe tbody tr th:only-of-type {\n",
       "        vertical-align: middle;\n",
       "    }\n",
       "\n",
       "    .dataframe tbody tr th {\n",
       "        vertical-align: top;\n",
       "    }\n",
       "\n",
       "    .dataframe thead th {\n",
       "        text-align: right;\n",
       "    }\n",
       "</style>\n",
       "<table border=\"1\" class=\"dataframe\">\n",
       "  <thead>\n",
       "    <tr style=\"text-align: right;\">\n",
       "      <th></th>\n",
       "      <th>a</th>\n",
       "      <th>b</th>\n",
       "      <th>c</th>\n",
       "      <th>d</th>\n",
       "      <th>e</th>\n",
       "    </tr>\n",
       "  </thead>\n",
       "  <tbody>\n",
       "    <tr>\n",
       "      <th>ID</th>\n",
       "      <td>101</td>\n",
       "      <td>102</td>\n",
       "      <td>103</td>\n",
       "      <td>104</td>\n",
       "      <td>105</td>\n",
       "    </tr>\n",
       "    <tr>\n",
       "      <th>City</th>\n",
       "      <td>Tokyo</td>\n",
       "      <td>Osaka</td>\n",
       "      <td>Kyoto</td>\n",
       "      <td>Hokkaido</td>\n",
       "      <td>Tokyo</td>\n",
       "    </tr>\n",
       "    <tr>\n",
       "      <th>Birth_Year</th>\n",
       "      <td>1990</td>\n",
       "      <td>1989</td>\n",
       "      <td>1992</td>\n",
       "      <td>1997</td>\n",
       "      <td>1982</td>\n",
       "    </tr>\n",
       "    <tr>\n",
       "      <th>Name</th>\n",
       "      <td>Hiroshi</td>\n",
       "      <td>Akiko</td>\n",
       "      <td>Yuki</td>\n",
       "      <td>Satoru</td>\n",
       "      <td>Steve</td>\n",
       "    </tr>\n",
       "  </tbody>\n",
       "</table>\n",
       "</div>"
      ],
      "text/plain": [
       "                  a      b      c         d      e\n",
       "ID              101    102    103       104    105\n",
       "City          Tokyo  Osaka  Kyoto  Hokkaido  Tokyo\n",
       "Birth_Year     1990   1989   1992      1997   1982\n",
       "Name        Hiroshi  Akiko   Yuki    Satoru  Steve"
      ]
     },
     "execution_count": 5,
     "metadata": {},
     "output_type": "execute_result"
    }
   ],
   "source": [
    "# 転置\n",
    "attri_data_frame1.T"
   ]
  },
  {
   "cell_type": "code",
   "execution_count": 6,
   "metadata": {},
   "outputs": [
    {
     "data": {
      "text/plain": [
       "a    1990\n",
       "b    1989\n",
       "c    1992\n",
       "d    1997\n",
       "e    1982\n",
       "Name: Birth_Year, dtype: int64"
      ]
     },
     "execution_count": 6,
     "metadata": {},
     "output_type": "execute_result"
    }
   ],
   "source": [
    "# 列名の指定（一つの場合）\n",
    "attri_data_frame1.Birth_Year"
   ]
  },
  {
   "cell_type": "code",
   "execution_count": 7,
   "metadata": {},
   "outputs": [
    {
     "data": {
      "text/html": [
       "<div>\n",
       "<style scoped>\n",
       "    .dataframe tbody tr th:only-of-type {\n",
       "        vertical-align: middle;\n",
       "    }\n",
       "\n",
       "    .dataframe tbody tr th {\n",
       "        vertical-align: top;\n",
       "    }\n",
       "\n",
       "    .dataframe thead th {\n",
       "        text-align: right;\n",
       "    }\n",
       "</style>\n",
       "<table border=\"1\" class=\"dataframe\">\n",
       "  <thead>\n",
       "    <tr style=\"text-align: right;\">\n",
       "      <th></th>\n",
       "      <th>a</th>\n",
       "      <th>b</th>\n",
       "      <th>c</th>\n",
       "      <th>d</th>\n",
       "      <th>e</th>\n",
       "    </tr>\n",
       "  </thead>\n",
       "  <tbody>\n",
       "    <tr>\n",
       "      <th>Name</th>\n",
       "      <td>Hiroshi</td>\n",
       "      <td>Akiko</td>\n",
       "      <td>Yuki</td>\n",
       "      <td>Satoru</td>\n",
       "      <td>Steve</td>\n",
       "    </tr>\n",
       "    <tr>\n",
       "      <th>Birth_Year</th>\n",
       "      <td>1990</td>\n",
       "      <td>1989</td>\n",
       "      <td>1992</td>\n",
       "      <td>1997</td>\n",
       "      <td>1982</td>\n",
       "    </tr>\n",
       "  </tbody>\n",
       "</table>\n",
       "</div>"
      ],
      "text/plain": [
       "                  a      b     c       d      e\n",
       "Name        Hiroshi  Akiko  Yuki  Satoru  Steve\n",
       "Birth_Year     1990   1989  1992    1997   1982"
      ]
     },
     "execution_count": 7,
     "metadata": {},
     "output_type": "execute_result"
    }
   ],
   "source": [
    "# 列名の指定（複数）\n",
    "attri_data_frame1[['Name', 'Birth_Year']].T"
   ]
  },
  {
   "cell_type": "code",
   "execution_count": 8,
   "metadata": {},
   "outputs": [
    {
     "name": "stdout",
     "output_type": "stream",
     "text": [
      "a     True\n",
      "b    False\n",
      "c    False\n",
      "d    False\n",
      "e     True\n",
      "Name: City, dtype: bool\n"
     ]
    },
    {
     "data": {
      "text/html": [
       "<div>\n",
       "<style scoped>\n",
       "    .dataframe tbody tr th:only-of-type {\n",
       "        vertical-align: middle;\n",
       "    }\n",
       "\n",
       "    .dataframe tbody tr th {\n",
       "        vertical-align: top;\n",
       "    }\n",
       "\n",
       "    .dataframe thead th {\n",
       "        text-align: right;\n",
       "    }\n",
       "</style>\n",
       "<table border=\"1\" class=\"dataframe\">\n",
       "  <thead>\n",
       "    <tr style=\"text-align: right;\">\n",
       "      <th></th>\n",
       "      <th>ID</th>\n",
       "      <th>City</th>\n",
       "      <th>Birth_Year</th>\n",
       "      <th>Name</th>\n",
       "    </tr>\n",
       "  </thead>\n",
       "  <tbody>\n",
       "    <tr>\n",
       "      <th>a</th>\n",
       "      <td>101</td>\n",
       "      <td>Tokyo</td>\n",
       "      <td>1990</td>\n",
       "      <td>Hiroshi</td>\n",
       "    </tr>\n",
       "    <tr>\n",
       "      <th>e</th>\n",
       "      <td>105</td>\n",
       "      <td>Tokyo</td>\n",
       "      <td>1982</td>\n",
       "      <td>Steve</td>\n",
       "    </tr>\n",
       "  </tbody>\n",
       "</table>\n",
       "</div>"
      ],
      "text/plain": [
       "    ID   City  Birth_Year     Name\n",
       "a  101  Tokyo        1990  Hiroshi\n",
       "e  105  Tokyo        1982    Steve"
      ]
     },
     "execution_count": 8,
     "metadata": {},
     "output_type": "execute_result"
    }
   ],
   "source": [
    "# 抽出\n",
    "print(attri_data_frame1['City'] == 'Tokyo')\n",
    "attri_data_frame1[attri_data_frame1['City'] == 'Tokyo']"
   ]
  },
  {
   "cell_type": "code",
   "execution_count": 9,
   "metadata": {},
   "outputs": [
    {
     "name": "stdout",
     "output_type": "stream",
     "text": [
      "a     True\n",
      "b     True\n",
      "c    False\n",
      "d    False\n",
      "e     True\n",
      "Name: Birth_Year, dtype: bool\n",
      "a    False\n",
      "b    False\n",
      "c    False\n",
      "d     True\n",
      "e     True\n",
      "Name: ID, dtype: bool\n"
     ]
    },
    {
     "data": {
      "text/html": [
       "<div>\n",
       "<style scoped>\n",
       "    .dataframe tbody tr th:only-of-type {\n",
       "        vertical-align: middle;\n",
       "    }\n",
       "\n",
       "    .dataframe tbody tr th {\n",
       "        vertical-align: top;\n",
       "    }\n",
       "\n",
       "    .dataframe thead th {\n",
       "        text-align: right;\n",
       "    }\n",
       "</style>\n",
       "<table border=\"1\" class=\"dataframe\">\n",
       "  <thead>\n",
       "    <tr style=\"text-align: right;\">\n",
       "      <th></th>\n",
       "      <th>ID</th>\n",
       "      <th>City</th>\n",
       "      <th>Birth_Year</th>\n",
       "      <th>Name</th>\n",
       "    </tr>\n",
       "  </thead>\n",
       "  <tbody>\n",
       "    <tr>\n",
       "      <th>d</th>\n",
       "      <td>104</td>\n",
       "      <td>Hokkaido</td>\n",
       "      <td>1997</td>\n",
       "      <td>Satoru</td>\n",
       "    </tr>\n",
       "    <tr>\n",
       "      <th>e</th>\n",
       "      <td>105</td>\n",
       "      <td>Tokyo</td>\n",
       "      <td>1982</td>\n",
       "      <td>Steve</td>\n",
       "    </tr>\n",
       "  </tbody>\n",
       "</table>\n",
       "</div>"
      ],
      "text/plain": [
       "    ID      City  Birth_Year    Name\n",
       "d  104  Hokkaido        1997  Satoru\n",
       "e  105     Tokyo        1982   Steve"
      ]
     },
     "execution_count": 9,
     "metadata": {},
     "output_type": "execute_result"
    }
   ],
   "source": [
    "# Try\n",
    "## Birth_Yearが190以下\n",
    "print(attri_data_frame1['Birth_Year'] <= 1990)\n",
    "attri_data_frame1[attri_data_frame1['Birth_Year'] <= 1990]\n",
    "\n",
    "## IDが103より大きい\n",
    "print(attri_data_frame1['ID'] > '103')\n",
    "attri_data_frame1[attri_data_frame1['ID'] > '103']"
   ]
  },
  {
   "cell_type": "code",
   "execution_count": 10,
   "metadata": {},
   "outputs": [
    {
     "data": {
      "text/html": [
       "<div>\n",
       "<style scoped>\n",
       "    .dataframe tbody tr th:only-of-type {\n",
       "        vertical-align: middle;\n",
       "    }\n",
       "\n",
       "    .dataframe tbody tr th {\n",
       "        vertical-align: top;\n",
       "    }\n",
       "\n",
       "    .dataframe thead th {\n",
       "        text-align: right;\n",
       "    }\n",
       "</style>\n",
       "<table border=\"1\" class=\"dataframe\">\n",
       "  <thead>\n",
       "    <tr style=\"text-align: right;\">\n",
       "      <th></th>\n",
       "      <th>ID</th>\n",
       "      <th>City</th>\n",
       "      <th>Birth_Year</th>\n",
       "      <th>Name</th>\n",
       "    </tr>\n",
       "  </thead>\n",
       "  <tbody>\n",
       "    <tr>\n",
       "      <th>c</th>\n",
       "      <td>103</td>\n",
       "      <td>Kyoto</td>\n",
       "      <td>1992</td>\n",
       "      <td>Yuki</td>\n",
       "    </tr>\n",
       "    <tr>\n",
       "      <th>e</th>\n",
       "      <td>105</td>\n",
       "      <td>Tokyo</td>\n",
       "      <td>1982</td>\n",
       "      <td>Steve</td>\n",
       "    </tr>\n",
       "  </tbody>\n",
       "</table>\n",
       "</div>"
      ],
      "text/plain": [
       "    ID   City  Birth_Year   Name\n",
       "c  103  Kyoto        1992   Yuki\n",
       "e  105  Tokyo        1982  Steve"
      ]
     },
     "execution_count": 10,
     "metadata": {},
     "output_type": "execute_result"
    }
   ],
   "source": [
    "## delete\n",
    "\n",
    "# remove column\n",
    "attri_data_frame1.drop(['Birth_Year'], axis = 1)\n",
    "# remove row\n",
    "attri_data_frame1.drop(['a', 'b', 'd'], axis = 0)"
   ]
  },
  {
   "cell_type": "code",
   "execution_count": 11,
   "metadata": {},
   "outputs": [
    {
     "data": {
      "text/html": [
       "<div>\n",
       "<style scoped>\n",
       "    .dataframe tbody tr th:only-of-type {\n",
       "        vertical-align: middle;\n",
       "    }\n",
       "\n",
       "    .dataframe tbody tr th {\n",
       "        vertical-align: top;\n",
       "    }\n",
       "\n",
       "    .dataframe thead th {\n",
       "        text-align: right;\n",
       "    }\n",
       "</style>\n",
       "<table border=\"1\" class=\"dataframe\">\n",
       "  <thead>\n",
       "    <tr style=\"text-align: right;\">\n",
       "      <th></th>\n",
       "      <th>ID</th>\n",
       "      <th>Math</th>\n",
       "      <th>English</th>\n",
       "      <th>Sex</th>\n",
       "    </tr>\n",
       "  </thead>\n",
       "  <tbody>\n",
       "    <tr>\n",
       "      <th>0</th>\n",
       "      <td>100</td>\n",
       "      <td>50</td>\n",
       "      <td>90</td>\n",
       "      <td>M</td>\n",
       "    </tr>\n",
       "    <tr>\n",
       "      <th>1</th>\n",
       "      <td>101</td>\n",
       "      <td>43</td>\n",
       "      <td>30</td>\n",
       "      <td>F</td>\n",
       "    </tr>\n",
       "    <tr>\n",
       "      <th>2</th>\n",
       "      <td>102</td>\n",
       "      <td>33</td>\n",
       "      <td>20</td>\n",
       "      <td>F</td>\n",
       "    </tr>\n",
       "    <tr>\n",
       "      <th>3</th>\n",
       "      <td>105</td>\n",
       "      <td>76</td>\n",
       "      <td>50</td>\n",
       "      <td>M</td>\n",
       "    </tr>\n",
       "    <tr>\n",
       "      <th>4</th>\n",
       "      <td>107</td>\n",
       "      <td>98</td>\n",
       "      <td>30</td>\n",
       "      <td>M</td>\n",
       "    </tr>\n",
       "  </tbody>\n",
       "</table>\n",
       "</div>"
      ],
      "text/plain": [
       "    ID  Math  English Sex\n",
       "0  100    50       90   M\n",
       "1  101    43       30   F\n",
       "2  102    33       20   F\n",
       "3  105    76       50   M\n",
       "4  107    98       30   M"
      ]
     },
     "execution_count": 11,
     "metadata": {},
     "output_type": "execute_result"
    }
   ],
   "source": [
    "# join\n",
    "attri_data2 = {\n",
    "    'ID': ['100', '101', '102', '105', '107'],\n",
    "    'Math': [50, 43, 33, 76, 98],\n",
    "    'English': [90, 30, 20, 50, 30],\n",
    "    'Sex': ['M', 'F', 'F', 'M', 'M'],\n",
    "}\n",
    "\n",
    "attri_data_frame2 = DataFrame(attri_data2)\n",
    "attri_data_frame2"
   ]
  },
  {
   "cell_type": "code",
   "execution_count": 12,
   "metadata": {},
   "outputs": [
    {
     "data": {
      "text/html": [
       "<div>\n",
       "<style scoped>\n",
       "    .dataframe tbody tr th:only-of-type {\n",
       "        vertical-align: middle;\n",
       "    }\n",
       "\n",
       "    .dataframe tbody tr th {\n",
       "        vertical-align: top;\n",
       "    }\n",
       "\n",
       "    .dataframe thead th {\n",
       "        text-align: right;\n",
       "    }\n",
       "</style>\n",
       "<table border=\"1\" class=\"dataframe\">\n",
       "  <thead>\n",
       "    <tr style=\"text-align: right;\">\n",
       "      <th></th>\n",
       "      <th>ID</th>\n",
       "      <th>City</th>\n",
       "      <th>Birth_Year</th>\n",
       "      <th>Name</th>\n",
       "      <th>Math</th>\n",
       "      <th>English</th>\n",
       "      <th>Sex</th>\n",
       "    </tr>\n",
       "  </thead>\n",
       "  <tbody>\n",
       "    <tr>\n",
       "      <th>0</th>\n",
       "      <td>101</td>\n",
       "      <td>Tokyo</td>\n",
       "      <td>1990</td>\n",
       "      <td>Hiroshi</td>\n",
       "      <td>43</td>\n",
       "      <td>30</td>\n",
       "      <td>F</td>\n",
       "    </tr>\n",
       "    <tr>\n",
       "      <th>1</th>\n",
       "      <td>102</td>\n",
       "      <td>Osaka</td>\n",
       "      <td>1989</td>\n",
       "      <td>Akiko</td>\n",
       "      <td>33</td>\n",
       "      <td>20</td>\n",
       "      <td>F</td>\n",
       "    </tr>\n",
       "    <tr>\n",
       "      <th>2</th>\n",
       "      <td>105</td>\n",
       "      <td>Tokyo</td>\n",
       "      <td>1982</td>\n",
       "      <td>Steve</td>\n",
       "      <td>76</td>\n",
       "      <td>50</td>\n",
       "      <td>M</td>\n",
       "    </tr>\n",
       "  </tbody>\n",
       "</table>\n",
       "</div>"
      ],
      "text/plain": [
       "    ID   City  Birth_Year     Name  Math  English Sex\n",
       "0  101  Tokyo        1990  Hiroshi    43       30   F\n",
       "1  102  Osaka        1989    Akiko    33       20   F\n",
       "2  105  Tokyo        1982    Steve    76       50   M"
      ]
     },
     "execution_count": 12,
     "metadata": {},
     "output_type": "execute_result"
    }
   ],
   "source": [
    "## merge\n",
    "# データのマージ\n",
    "pd.merge(attri_data_frame1, attri_data_frame2)"
   ]
  },
  {
   "cell_type": "code",
   "execution_count": 13,
   "metadata": {},
   "outputs": [
    {
     "data": {
      "text/plain": [
       "Sex\n",
       "F    38.000000\n",
       "M    74.666667\n",
       "Name: Math, dtype: float64"
      ]
     },
     "execution_count": 13,
     "metadata": {},
     "output_type": "execute_result"
    }
   ],
   "source": [
    "## aggregation\n",
    "attri_data_frame2.groupby('Sex')['Math'].mean() # 平均"
   ]
  },
  {
   "cell_type": "code",
   "execution_count": 14,
   "metadata": {},
   "outputs": [
    {
     "name": "stdout",
     "output_type": "stream",
     "text": [
      "英語平均 Sex\n",
      "F    25.000000\n",
      "M    56.666667\n",
      "Name: English, dtype: float64\n",
      "英語最大 Sex\n",
      "F    30\n",
      "M    90\n",
      "Name: English, dtype: int64\n",
      "英語最小 Sex\n",
      "F    20\n",
      "M    30\n",
      "Name: English, dtype: int64\n"
     ]
    }
   ],
   "source": [
    "# try\n",
    "print('英語平均', attri_data_frame2.groupby('Sex')['English'].mean())\n",
    "\n",
    "print('英語最大', attri_data_frame2.groupby('Sex')['English'].max())\n",
    "print('英語最小', attri_data_frame2.groupby('Sex')['English'].min())"
   ]
  },
  {
   "cell_type": "code",
   "execution_count": 20,
   "metadata": {},
   "outputs": [
    {
     "data": {
      "text/html": [
       "<div>\n",
       "<style scoped>\n",
       "    .dataframe tbody tr th:only-of-type {\n",
       "        vertical-align: middle;\n",
       "    }\n",
       "\n",
       "    .dataframe tbody tr th {\n",
       "        vertical-align: top;\n",
       "    }\n",
       "\n",
       "    .dataframe thead th {\n",
       "        text-align: right;\n",
       "    }\n",
       "</style>\n",
       "<table border=\"1\" class=\"dataframe\">\n",
       "  <thead>\n",
       "    <tr style=\"text-align: right;\">\n",
       "      <th></th>\n",
       "      <th>ID</th>\n",
       "      <th>City</th>\n",
       "      <th>Birth_Year</th>\n",
       "      <th>Name</th>\n",
       "    </tr>\n",
       "  </thead>\n",
       "  <tbody>\n",
       "    <tr>\n",
       "      <th>e</th>\n",
       "      <td>100</td>\n",
       "      <td>Tokyo</td>\n",
       "      <td>1990</td>\n",
       "      <td>Hiroshi</td>\n",
       "    </tr>\n",
       "    <tr>\n",
       "      <th>b</th>\n",
       "      <td>101</td>\n",
       "      <td>Osaka</td>\n",
       "      <td>1989</td>\n",
       "      <td>Akiko</td>\n",
       "    </tr>\n",
       "    <tr>\n",
       "      <th>a</th>\n",
       "      <td>102</td>\n",
       "      <td>Kyoto</td>\n",
       "      <td>1992</td>\n",
       "      <td>Yuki</td>\n",
       "    </tr>\n",
       "    <tr>\n",
       "      <th>d</th>\n",
       "      <td>104</td>\n",
       "      <td>Hokkaido</td>\n",
       "      <td>1997</td>\n",
       "      <td>Satoru</td>\n",
       "    </tr>\n",
       "    <tr>\n",
       "      <th>c</th>\n",
       "      <td>103</td>\n",
       "      <td>Tokyo</td>\n",
       "      <td>1982</td>\n",
       "      <td>Steve</td>\n",
       "    </tr>\n",
       "  </tbody>\n",
       "</table>\n",
       "</div>"
      ],
      "text/plain": [
       "    ID      City  Birth_Year     Name\n",
       "e  100     Tokyo        1990  Hiroshi\n",
       "b  101     Osaka        1989    Akiko\n",
       "a  102     Kyoto        1992     Yuki\n",
       "d  104  Hokkaido        1997   Satoru\n",
       "c  103     Tokyo        1982    Steve"
      ]
     },
     "execution_count": 20,
     "metadata": {},
     "output_type": "execute_result"
    }
   ],
   "source": [
    "# sort\n",
    "attri_data3 = {\n",
    "    'ID': ['100', '101', '102', '104', '103'],\n",
    "    'City': ['Tokyo', 'Osaka', 'Kyoto', 'Hokkaido', 'Tokyo'],\n",
    "    'Birth_Year': [1990, 1989, 1992, 1997, 1982],\n",
    "    'Name': ['Hiroshi', 'Akiko', 'Yuki', 'Satoru', 'Steve'],\n",
    "}\n",
    "\n",
    "attri_data_frame3 = DataFrame(attri_data3, index = ['e', 'b', 'a', 'd', 'c'])\n",
    "attri_data_frame3"
   ]
  },
  {
   "cell_type": "code",
   "execution_count": 21,
   "metadata": {},
   "outputs": [
    {
     "data": {
      "text/html": [
       "<div>\n",
       "<style scoped>\n",
       "    .dataframe tbody tr th:only-of-type {\n",
       "        vertical-align: middle;\n",
       "    }\n",
       "\n",
       "    .dataframe tbody tr th {\n",
       "        vertical-align: top;\n",
       "    }\n",
       "\n",
       "    .dataframe thead th {\n",
       "        text-align: right;\n",
       "    }\n",
       "</style>\n",
       "<table border=\"1\" class=\"dataframe\">\n",
       "  <thead>\n",
       "    <tr style=\"text-align: right;\">\n",
       "      <th></th>\n",
       "      <th>ID</th>\n",
       "      <th>City</th>\n",
       "      <th>Birth_Year</th>\n",
       "      <th>Name</th>\n",
       "    </tr>\n",
       "  </thead>\n",
       "  <tbody>\n",
       "    <tr>\n",
       "      <th>a</th>\n",
       "      <td>102</td>\n",
       "      <td>Kyoto</td>\n",
       "      <td>1992</td>\n",
       "      <td>Yuki</td>\n",
       "    </tr>\n",
       "    <tr>\n",
       "      <th>b</th>\n",
       "      <td>101</td>\n",
       "      <td>Osaka</td>\n",
       "      <td>1989</td>\n",
       "      <td>Akiko</td>\n",
       "    </tr>\n",
       "    <tr>\n",
       "      <th>c</th>\n",
       "      <td>103</td>\n",
       "      <td>Tokyo</td>\n",
       "      <td>1982</td>\n",
       "      <td>Steve</td>\n",
       "    </tr>\n",
       "    <tr>\n",
       "      <th>d</th>\n",
       "      <td>104</td>\n",
       "      <td>Hokkaido</td>\n",
       "      <td>1997</td>\n",
       "      <td>Satoru</td>\n",
       "    </tr>\n",
       "    <tr>\n",
       "      <th>e</th>\n",
       "      <td>100</td>\n",
       "      <td>Tokyo</td>\n",
       "      <td>1990</td>\n",
       "      <td>Hiroshi</td>\n",
       "    </tr>\n",
       "  </tbody>\n",
       "</table>\n",
       "</div>"
      ],
      "text/plain": [
       "    ID      City  Birth_Year     Name\n",
       "a  102     Kyoto        1992     Yuki\n",
       "b  101     Osaka        1989    Akiko\n",
       "c  103     Tokyo        1982    Steve\n",
       "d  104  Hokkaido        1997   Satoru\n",
       "e  100     Tokyo        1990  Hiroshi"
      ]
     },
     "execution_count": 21,
     "metadata": {},
     "output_type": "execute_result"
    }
   ],
   "source": [
    "# インデックスによるソート\n",
    "attri_data_frame3.sort_index()"
   ]
  },
  {
   "cell_type": "code",
   "execution_count": 23,
   "metadata": {},
   "outputs": [
    {
     "data": {
      "text/html": [
       "<div>\n",
       "<style scoped>\n",
       "    .dataframe tbody tr th:only-of-type {\n",
       "        vertical-align: middle;\n",
       "    }\n",
       "\n",
       "    .dataframe tbody tr th {\n",
       "        vertical-align: top;\n",
       "    }\n",
       "\n",
       "    .dataframe thead th {\n",
       "        text-align: right;\n",
       "    }\n",
       "</style>\n",
       "<table border=\"1\" class=\"dataframe\">\n",
       "  <thead>\n",
       "    <tr style=\"text-align: right;\">\n",
       "      <th></th>\n",
       "      <th>ID</th>\n",
       "      <th>City</th>\n",
       "      <th>Birth_Year</th>\n",
       "      <th>Name</th>\n",
       "    </tr>\n",
       "  </thead>\n",
       "  <tbody>\n",
       "    <tr>\n",
       "      <th>c</th>\n",
       "      <td>103</td>\n",
       "      <td>Tokyo</td>\n",
       "      <td>1982</td>\n",
       "      <td>Steve</td>\n",
       "    </tr>\n",
       "    <tr>\n",
       "      <th>b</th>\n",
       "      <td>101</td>\n",
       "      <td>Osaka</td>\n",
       "      <td>1989</td>\n",
       "      <td>Akiko</td>\n",
       "    </tr>\n",
       "    <tr>\n",
       "      <th>e</th>\n",
       "      <td>100</td>\n",
       "      <td>Tokyo</td>\n",
       "      <td>1990</td>\n",
       "      <td>Hiroshi</td>\n",
       "    </tr>\n",
       "    <tr>\n",
       "      <th>a</th>\n",
       "      <td>102</td>\n",
       "      <td>Kyoto</td>\n",
       "      <td>1992</td>\n",
       "      <td>Yuki</td>\n",
       "    </tr>\n",
       "    <tr>\n",
       "      <th>d</th>\n",
       "      <td>104</td>\n",
       "      <td>Hokkaido</td>\n",
       "      <td>1997</td>\n",
       "      <td>Satoru</td>\n",
       "    </tr>\n",
       "  </tbody>\n",
       "</table>\n",
       "</div>"
      ],
      "text/plain": [
       "    ID      City  Birth_Year     Name\n",
       "c  103     Tokyo        1982    Steve\n",
       "b  101     Osaka        1989    Akiko\n",
       "e  100     Tokyo        1990  Hiroshi\n",
       "a  102     Kyoto        1992     Yuki\n",
       "d  104  Hokkaido        1997   Satoru"
      ]
     },
     "execution_count": 23,
     "metadata": {},
     "output_type": "execute_result"
    }
   ],
   "source": [
    "# 値によるソート\n",
    "attri_data_frame3.Birth_Year.sort_values()\n",
    "attri_data_frame3.sort_values('Birth_Year')"
   ]
  },
  {
   "cell_type": "code",
   "execution_count": 25,
   "metadata": {},
   "outputs": [
    {
     "data": {
      "text/html": [
       "<div>\n",
       "<style scoped>\n",
       "    .dataframe tbody tr th:only-of-type {\n",
       "        vertical-align: middle;\n",
       "    }\n",
       "\n",
       "    .dataframe tbody tr th {\n",
       "        vertical-align: top;\n",
       "    }\n",
       "\n",
       "    .dataframe thead th {\n",
       "        text-align: right;\n",
       "    }\n",
       "</style>\n",
       "<table border=\"1\" class=\"dataframe\">\n",
       "  <thead>\n",
       "    <tr style=\"text-align: right;\">\n",
       "      <th></th>\n",
       "      <th>ID</th>\n",
       "      <th>City</th>\n",
       "      <th>Birth_Year</th>\n",
       "      <th>Name</th>\n",
       "    </tr>\n",
       "  </thead>\n",
       "  <tbody>\n",
       "    <tr>\n",
       "      <th>e</th>\n",
       "      <td>False</td>\n",
       "      <td>True</td>\n",
       "      <td>False</td>\n",
       "      <td>False</td>\n",
       "    </tr>\n",
       "    <tr>\n",
       "      <th>b</th>\n",
       "      <td>False</td>\n",
       "      <td>False</td>\n",
       "      <td>False</td>\n",
       "      <td>False</td>\n",
       "    </tr>\n",
       "    <tr>\n",
       "      <th>a</th>\n",
       "      <td>False</td>\n",
       "      <td>False</td>\n",
       "      <td>False</td>\n",
       "      <td>False</td>\n",
       "    </tr>\n",
       "    <tr>\n",
       "      <th>d</th>\n",
       "      <td>False</td>\n",
       "      <td>False</td>\n",
       "      <td>False</td>\n",
       "      <td>False</td>\n",
       "    </tr>\n",
       "    <tr>\n",
       "      <th>c</th>\n",
       "      <td>False</td>\n",
       "      <td>True</td>\n",
       "      <td>False</td>\n",
       "      <td>False</td>\n",
       "    </tr>\n",
       "  </tbody>\n",
       "</table>\n",
       "</div>"
      ],
      "text/plain": [
       "      ID   City  Birth_Year   Name\n",
       "e  False   True       False  False\n",
       "b  False  False       False  False\n",
       "a  False  False       False  False\n",
       "d  False  False       False  False\n",
       "c  False   True       False  False"
      ]
     },
     "execution_count": 25,
     "metadata": {},
     "output_type": "execute_result"
    }
   ],
   "source": [
    "# 値があるかどうか判定\n",
    "attri_data_frame3.isin([\"Tokyo\"])"
   ]
  },
  {
   "cell_type": "code",
   "execution_count": 28,
   "metadata": {},
   "outputs": [
    {
     "data": {
      "text/html": [
       "<div>\n",
       "<style scoped>\n",
       "    .dataframe tbody tr th:only-of-type {\n",
       "        vertical-align: middle;\n",
       "    }\n",
       "\n",
       "    .dataframe tbody tr th {\n",
       "        vertical-align: top;\n",
       "    }\n",
       "\n",
       "    .dataframe thead th {\n",
       "        text-align: right;\n",
       "    }\n",
       "</style>\n",
       "<table border=\"1\" class=\"dataframe\">\n",
       "  <thead>\n",
       "    <tr style=\"text-align: right;\">\n",
       "      <th></th>\n",
       "      <th>ID</th>\n",
       "      <th>City</th>\n",
       "      <th>Birth_Year</th>\n",
       "      <th>Name</th>\n",
       "    </tr>\n",
       "  </thead>\n",
       "  <tbody>\n",
       "    <tr>\n",
       "      <th>e</th>\n",
       "      <td>False</td>\n",
       "      <td>False</td>\n",
       "      <td>False</td>\n",
       "      <td>True</td>\n",
       "    </tr>\n",
       "    <tr>\n",
       "      <th>b</th>\n",
       "      <td>False</td>\n",
       "      <td>False</td>\n",
       "      <td>False</td>\n",
       "      <td>True</td>\n",
       "    </tr>\n",
       "    <tr>\n",
       "      <th>a</th>\n",
       "      <td>False</td>\n",
       "      <td>False</td>\n",
       "      <td>False</td>\n",
       "      <td>True</td>\n",
       "    </tr>\n",
       "    <tr>\n",
       "      <th>d</th>\n",
       "      <td>False</td>\n",
       "      <td>False</td>\n",
       "      <td>False</td>\n",
       "      <td>True</td>\n",
       "    </tr>\n",
       "    <tr>\n",
       "      <th>c</th>\n",
       "      <td>False</td>\n",
       "      <td>False</td>\n",
       "      <td>False</td>\n",
       "      <td>True</td>\n",
       "    </tr>\n",
       "  </tbody>\n",
       "</table>\n",
       "</div>"
      ],
      "text/plain": [
       "      ID   City  Birth_Year  Name\n",
       "e  False  False       False  True\n",
       "b  False  False       False  True\n",
       "a  False  False       False  True\n",
       "d  False  False       False  True\n",
       "c  False  False       False  True"
      ]
     },
     "execution_count": 28,
     "metadata": {},
     "output_type": "execute_result"
    }
   ],
   "source": [
    "# 欠損値の取り扱い\n",
    "# nameを全てnanにする\n",
    "attri_data_frame3['Name'] = np.nan\n",
    "attri_data_frame3.isnull()"
   ]
  },
  {
   "cell_type": "code",
   "execution_count": 29,
   "metadata": {
    "collapsed": true,
    "jupyter": {
     "outputs_hidden": true
    }
   },
   "outputs": [
    {
     "data": {
      "text/plain": [
       "ID            0\n",
       "City          0\n",
       "Birth_Year    0\n",
       "Name          5\n",
       "dtype: int64"
      ]
     },
     "execution_count": 29,
     "metadata": {},
     "output_type": "execute_result"
    }
   ],
   "source": [
    "# nullを判定し合計する\n",
    "attri_data_frame3.isnull().sum()"
   ]
  },
  {
   "cell_type": "code",
   "execution_count": 33,
   "metadata": {},
   "outputs": [
    {
     "name": "stdout",
     "output_type": "stream",
     "text": [
      "  ID Sex  Money    Name\n",
      "2  3   M    500   Kondo\n",
      "3  4   F    300  Kawada\n"
     ]
    }
   ],
   "source": [
    "## practice 2-7 # => OK\n",
    "attri_data4 = {\n",
    "    'ID': ['1', '2', '3', '4', '5'],\n",
    "    'Sex': ['F', 'F', 'M', 'F', 'M'],\n",
    "    'Money': [1000, 2000, 500, 300, 700],\n",
    "    'Name': ['Saito', 'Horie', 'Kondo', 'Kawada', 'Matsubara']\n",
    "}\n",
    "attri_data_frame4 = DataFrame(attri_data4)\n",
    "\n",
    "# Moneyが５００以下のレコード\n",
    "attri_data_frame4[attri_data_frame4['Money'] <= 500]"
   ]
  },
  {
   "cell_type": "code",
   "execution_count": 35,
   "metadata": {},
   "outputs": [
    {
     "data": {
      "text/plain": [
       "Sex\n",
       "F    1100\n",
       "M     600\n",
       "Name: Money, dtype: int64"
      ]
     },
     "execution_count": 35,
     "metadata": {},
     "output_type": "execute_result"
    }
   ],
   "source": [
    "## practice 2-8 # => OK\n",
    "# 男女別の平均Money\n",
    "attri_data_frame4.groupby('Sex')['Money'].mean()"
   ]
  },
  {
   "cell_type": "code",
   "execution_count": 54,
   "metadata": {},
   "outputs": [
    {
     "name": "stdout",
     "output_type": "stream",
     "text": [
      "money平均 400.0\n",
      "math平均 45.0\n",
      "english平均 50.0\n"
     ]
    }
   ],
   "source": [
    "## practice 2-9 # => OK\n",
    "attri_data5 = {\n",
    "    'ID': ['3', '4', '7'],\n",
    "    'Math': [60, 30, 40],\n",
    "    'English': [80, 20, 30]\n",
    "}\n",
    "\n",
    "attri_data_frame5 = DataFrame(attri_data5)\n",
    "\n",
    "merged_frame = pd.merge(attri_data_frame4, attri_data_frame5)\n",
    "print('money平均', merged_frame['Money'].mean())\n",
    "print('math平均', merged_frame['Math'].mean())\n",
    "print('english平均', merged_frame['English'].mean())"
   ]
  },
  {
   "cell_type": "code",
   "execution_count": 63,
   "metadata": {},
   "outputs": [
    {
     "data": {
      "image/png": "[encoded data removed]",
      "text/plain": [
       "<Figure size 1440x432 with 1 Axes>"
      ]
     },
     "metadata": {
      "needs_background": "light"
     },
     "output_type": "display_data"
    }
   ],
   "source": [
    "# Matplotlib Basics\n",
    "\n",
    "# 散布図\n",
    "\n",
    "# シード値の固定\n",
    "random.seed(0)\n",
    "\n",
    "# x軸のデータ\n",
    "x = random.randn(30)\n",
    "\n",
    "# y軸のデータ\n",
    "y = np.sin(x) + random.randn(30)\n",
    "\n",
    "# グラフの大きさ指定\n",
    "plt.figure(figsize = (20, 6))\n",
    "\n",
    "# グラフの描画\n",
    "#plt.plot(x, y, 'o')\n",
    "\n",
    "# 以下でも散布図がかける\n",
    "plt.scatter(x, y)\n",
    "\n",
    "# タイトル\n",
    "plt.title('random scatter')\n",
    "\n",
    "# xの座標名\n",
    "plt.xlabel('X')\n",
    "\n",
    "# yの座標名\n",
    "plt.ylabel('Y')\n",
    "\n",
    "# grid（グラフの中にある縦線と横線）の表示\n",
    "plt.grid(True)"
   ]
  },
  {
   "cell_type": "code",
   "execution_count": 67,
   "metadata": {},
   "outputs": [
    {
     "data": {
      "image/png": "[encoded data removed]",
      "text/plain": [
       "<Figure size 1440x432 with 1 Axes>"
      ]
     },
     "metadata": {
      "needs_background": "light"
     },
     "output_type": "display_data"
    }
   ],
   "source": [
    "# 連続曲線\n",
    "\n",
    "# シードの値の指定\n",
    "random.seed(0)\n",
    "\n",
    "# データの範囲\n",
    "data_x = np.arange(1000)\n",
    "\n",
    "# 乱数の発生と積み上げ\n",
    "data_y = random.randn(1000).cumsum()\n",
    "\n",
    "# グラフの大きさを指定\n",
    "plt.figure(figsize = (20, 6))\n",
    "\n",
    "# label = とlegendでラベルをつけることが可能\n",
    "plt.plot(data_x, data_y, label = 'label')\n",
    "plt.legend()\n",
    "\n",
    "plt.xlabel('X')\n",
    "plt.ylabel('Y')\n",
    "plt.grid(True)\n"
   ]
  },
  {
   "cell_type": "code",
   "execution_count": 9,
   "metadata": {},
   "outputs": [
    {
     "data": {
      "image/png": "[encoded data removed]",
      "text/plain": [
       "<Figure size 1440x432 with 2 Axes>"
      ]
     },
     "metadata": {
      "needs_background": "light"
     },
     "output_type": "display_data"
    }
   ],
   "source": [
    "## グラフの分割\n",
    "# グラフの大きさを指定\n",
    "plt.figure(figsize = (20, 6))\n",
    "\n",
    "# 2行１列のグラフの１つ目\n",
    "plt.subplot(2, 1, 1)\n",
    "x = np.linspace(-10, 10, 100)\n",
    "plt.plot(x, np.sin(x))\n",
    "\n",
    "# 2行１列のグラフの２つ目\n",
    "plt.subplot(2, 1, 2)\n",
    "y = np.linspace(-10, 10, 100)\n",
    "plt.plot(y, np.sin(2 * y))\n",
    "\n",
    "plt.grid(color = '0.8')"
   ]
  },
  {
   "cell_type": "code",
   "execution_count": 12,
   "metadata": {},
   "outputs": [
    {
     "name": "stdout",
     "output_type": "stream",
     "text": [
      "[-10  -9  -8  -7  -6  -5  -4  -3  -2  -1   0   1   2   3   4   5   6   7\n",
      "   8   9]\n"
     ]
    },
    {
     "data": {
      "image/png": "[encoded data removed]",
      "text/plain": [
       "<Figure size 1440x432 with 1 Axes>"
      ]
     },
     "metadata": {
      "needs_background": "light"
     },
     "output_type": "display_data"
    }
   ],
   "source": [
    "# 関数グラフの描画\n",
    "def my_function(x):\n",
    "    return x ** 2 + 2 * x + 1\n",
    "\n",
    "x = np.arange(-10, 10)\n",
    "plt.figure(figsize = (20, 6))\n",
    "plt.plot(x, my_function(x))\n",
    "plt.grid(color = '0.6')\n",
    "print(x)"
   ]
  },
  {
   "cell_type": "code",
   "execution_count": 46,
   "metadata": {},
   "outputs": [
    {
     "data": {
      "image/png": "[encoded data removed]",
      "text/plain": [
       "<Figure size 1440x432 with 1 Axes>"
      ]
     },
     "metadata": {
      "needs_background": "light"
     },
     "output_type": "display_data"
    }
   ],
   "source": [
    "# ヒストグラム\n",
    "# シードの固定\n",
    "random.seed(0)\n",
    "# グラフの大きさ指定\n",
    "plt.figure(figsize = (20, 6))\n",
    "# ヒストグラムの描画\n",
    "plt.hist(random.randn(10 ** 5) * 10 + 50 , bins = 60, range = (20, 80))\n",
    "\n",
    "plt.grid(True)"
   ]
  },
  {
   "cell_type": "code",
   "execution_count": 84,
   "metadata": {},
   "outputs": [
    {
     "data": {
      "image/png": "[encoded data removed]",
      "text/plain": [
       "<Figure size 1440x432 with 1 Axes>"
      ]
     },
     "metadata": {
      "needs_background": "light"
     },
     "output_type": "display_data"
    }
   ],
   "source": [
    "## Practice\n",
    "\n",
    "## 2-10 y = 5x + 3\n",
    "def my_func2(x):\n",
    "    return 5 * x + 3\n",
    "\n",
    "x = np.arange(-10, 10)\n",
    "plt.figure(figsize = (20, 6))\n",
    "plt.plot(x, my_func2(x))\n",
    "plt.xlabel('X')\n",
    "plt.ylabel('Y')\n",
    "plt.grid(color = '0.8')"
   ]
  },
  {
   "cell_type": "code",
   "execution_count": 63,
   "metadata": {},
   "outputs": [
    {
     "data": {
      "image/png": "[encoded data removed]",
      "text/plain": [
       "<Figure size 1440x432 with 1 Axes>"
      ]
     },
     "metadata": {
      "needs_background": "light"
     },
     "output_type": "display_data"
    }
   ],
   "source": [
    "## 2-11\n",
    "plt.figure(figsize = (20, 6))\n",
    "x = np.arange(-10, 10, 0.00001)\n",
    "plt.plot(x, np.sin(x))\n",
    "plt.plot(x, np.cos(x))\n",
    "plt.grid(True)"
   ]
  },
  {
   "cell_type": "code",
   "execution_count": 79,
   "metadata": {},
   "outputs": [
    {
     "data": {
      "image/png": "[encoded data removed]",
      "text/plain": [
       "<Figure size 1440x432 with 2 Axes>"
      ]
     },
     "metadata": {
      "needs_background": "light"
     },
     "output_type": "display_data"
    }
   ],
   "source": [
    "## 2-12\n",
    "x1 = random.uniform(0.0, 1.0, 100000)\n",
    "x2 = random.uniform(0.0, 1.0, 100000)\n",
    "plt.figure(figsize = (20, 6))\n",
    "plt.subplot(2, 1, 1)\n",
    "plt.hist(x1, bins = 100, range = (0, 1))\n",
    "plt.subplot(2, 1, 2)\n",
    "plt.hist(x2, bins = 100, range = (0, 1))\n",
    "plt.grid(True)"
   ]
  },
  {
   "cell_type": "code",
   "execution_count": 83,
   "metadata": {},
   "outputs": [
    {
     "name": "stdout",
     "output_type": "stream",
     "text": [
      "[-10.     -9.798  -9.596  -9.394  -9.192  -8.99   -8.788  -8.586  -8.384\n",
      "  -8.182  -7.98   -7.778  -7.576  -7.374  -7.172  -6.97   -6.768  -6.566\n",
      "  -6.364  -6.162  -5.96   -5.758  -5.556  -5.354  -5.152  -4.949  -4.747\n",
      "  -4.545  -4.343  -4.141  -3.939  -3.737  -3.535  -3.333  -3.131  -2.929\n",
      "  -2.727  -2.525  -2.323  -2.121  -1.919  -1.717  -1.515  -1.313  -1.111\n",
      "  -0.909  -0.707  -0.505  -0.303  -0.101   0.101   0.303   0.505   0.707\n",
      "   0.909   1.111   1.313   1.515   1.717   1.919   2.121   2.323   2.525\n",
      "   2.727   2.929   3.131   3.333   3.535   3.737   3.939   4.141   4.343\n",
      "   4.545   4.747   4.949   5.152   5.354   5.556   5.758   5.96    6.162\n",
      "   6.364   6.566   6.768   6.97    7.172   7.374   7.576   7.778   7.98\n",
      "   8.182   8.384   8.586   8.788   8.99    9.192   9.394   9.596   9.798\n",
      "  10.   ]\n",
      "[-1.000e+01 -9.900e+00 -9.800e+00 -9.700e+00 -9.600e+00 -9.500e+00\n",
      " -9.400e+00 -9.300e+00 -9.200e+00 -9.100e+00 -9.000e+00 -8.900e+00\n",
      " -8.800e+00 -8.700e+00 -8.600e+00 -8.500e+00 -8.400e+00 -8.300e+00\n",
      " -8.200e+00 -8.100e+00 -8.000e+00 -7.900e+00 -7.800e+00 -7.700e+00\n",
      " -7.600e+00 -7.500e+00 -7.400e+00 -7.300e+00 -7.200e+00 -7.100e+00\n",
      " -7.000e+00 -6.900e+00 -6.800e+00 -6.700e+00 -6.600e+00 -6.500e+00\n",
      " -6.400e+00 -6.300e+00 -6.200e+00 -6.100e+00 -6.000e+00 -5.900e+00\n",
      " -5.800e+00 -5.700e+00 -5.600e+00 -5.500e+00 -5.400e+00 -5.300e+00\n",
      " -5.200e+00 -5.100e+00 -5.000e+00 -4.900e+00 -4.800e+00 -4.700e+00\n",
      " -4.600e+00 -4.500e+00 -4.400e+00 -4.300e+00 -4.200e+00 -4.100e+00\n",
      " -4.000e+00 -3.900e+00 -3.800e+00 -3.700e+00 -3.600e+00 -3.500e+00\n",
      " -3.400e+00 -3.300e+00 -3.200e+00 -3.100e+00 -3.000e+00 -2.900e+00\n",
      " -2.800e+00 -2.700e+00 -2.600e+00 -2.500e+00 -2.400e+00 -2.300e+00\n",
      " -2.200e+00 -2.100e+00 -2.000e+00 -1.900e+00 -1.800e+00 -1.700e+00\n",
      " -1.600e+00 -1.500e+00 -1.400e+00 -1.300e+00 -1.200e+00 -1.100e+00\n",
      " -1.000e+00 -9.000e-01 -8.000e-01 -7.000e-01 -6.000e-01 -5.000e-01\n",
      " -4.000e-01 -3.000e-01 -2.000e-01 -1.000e-01 -3.553e-14  1.000e-01\n",
      "  2.000e-01  3.000e-01  4.000e-01  5.000e-01  6.000e-01  7.000e-01\n",
      "  8.000e-01  9.000e-01  1.000e+00  1.100e+00  1.200e+00  1.300e+00\n",
      "  1.400e+00  1.500e+00  1.600e+00  1.700e+00  1.800e+00  1.900e+00\n",
      "  2.000e+00  2.100e+00  2.200e+00  2.300e+00  2.400e+00  2.500e+00\n",
      "  2.600e+00  2.700e+00  2.800e+00  2.900e+00  3.000e+00  3.100e+00\n",
      "  3.200e+00  3.300e+00  3.400e+00  3.500e+00  3.600e+00  3.700e+00\n",
      "  3.800e+00  3.900e+00  4.000e+00  4.100e+00  4.200e+00  4.300e+00\n",
      "  4.400e+00  4.500e+00  4.600e+00  4.700e+00  4.800e+00  4.900e+00\n",
      "  5.000e+00  5.100e+00  5.200e+00  5.300e+00  5.400e+00  5.500e+00\n",
      "  5.600e+00  5.700e+00  5.800e+00  5.900e+00  6.000e+00  6.100e+00\n",
      "  6.200e+00  6.300e+00  6.400e+00  6.500e+00  6.600e+00  6.700e+00\n",
      "  6.800e+00  6.900e+00  7.000e+00  7.100e+00  7.200e+00  7.300e+00\n",
      "  7.400e+00  7.500e+00  7.600e+00  7.700e+00  7.800e+00  7.900e+00\n",
      "  8.000e+00  8.100e+00  8.200e+00  8.300e+00  8.400e+00  8.500e+00\n",
      "  8.600e+00  8.700e+00  8.800e+00  8.900e+00  9.000e+00  9.100e+00\n",
      "  9.200e+00  9.300e+00  9.400e+00  9.500e+00  9.600e+00  9.700e+00\n",
      "  9.800e+00  9.900e+00]\n"
     ]
    }
   ],
   "source": [
    "x = np.linspace(-10, 10, 100)\n",
    "print(x)\n",
    "y = np.arange(-10, 10, 0.1)\n",
    "print(y)"
   ]
  }
 ],
 "metadata": {
  "kernelspec": {
   "display_name": "Python 3",
   "language": "python",
   "name": "python3"
  },
  "language_info": {
   "codemirror_mode": {
    "name": "ipython",
    "version": 3
   },
   "file_extension": ".py",
   "mimetype": "text/x-python",
   "name": "python",
   "nbconvert_exporter": "python",
   "pygments_lexer": "ipython3",
   "version": "3.7.3"
  }
 },
 "nbformat": 4,
 "nbformat_minor": 4
}
