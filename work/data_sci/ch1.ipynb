{
 "cells": [
  {
   "cell_type": "code",
   "execution_count": 1,
   "metadata": {},
   "outputs": [
    {
     "name": "stdout",
     "output_type": "stream",
     "text": [
      "Hello, world\n"
     ]
    }
   ],
   "source": [
    "# Pythonの基礎\n",
    "print('Hello, world')"
   ]
  },
  {
   "cell_type": "code",
   "execution_count": 2,
   "metadata": {},
   "outputs": [
    {
     "name": "stdout",
     "output_type": "stream",
     "text": [
      "2\n",
      "10\n",
      "1000\n"
     ]
    }
   ],
   "source": [
    "# 足し算の例\n",
    "print(1 + 1)\n",
    "# 掛け算の例\n",
    "print(2 * 5)\n",
    "# 10の3乗、べき乗は**を使う\n",
    "print(10 ** 3)"
   ]
  },
  {
   "cell_type": "code",
   "execution_count": 4,
   "metadata": {},
   "outputs": [
    {
     "name": "stdout",
     "output_type": "stream",
     "text": [
      "t\n",
      "e\n"
     ]
    }
   ],
   "source": [
    "# 変数\n",
    "msg = 'test'\n",
    "print(msg[0])\n",
    "print(msg[1])\n",
    "print(msg[5]) # 実行するとエラー"
   ]
  },
  {
   "cell_type": "code",
   "execution_count": 5,
   "metadata": {},
   "outputs": [
    {
     "name": "stdout",
     "output_type": "stream",
     "text": [
      "11\n"
     ]
    }
   ],
   "source": [
    "# 演算\n",
    "data = 1\n",
    "data = data + 10\n",
    "print(data)"
   ]
  },
  {
   "cell_type": "code",
   "execution_count": 7,
   "metadata": {},
   "outputs": [
    {
     "name": "stdout",
     "output_type": "stream",
     "text": [
      "[1, 2, 3, 4, 5]\n",
      "変数のタイプ: <class 'list'>\n",
      "二番目の数: 2\n",
      "要素数: 5\n"
     ]
    }
   ],
   "source": [
    "# Try: リストの作成\n",
    "# リストを作る\n",
    "data_list = [1, 2, 3, 4, 5]\n",
    "print(data_list)\n",
    "\n",
    "# typeで変数のタイプがわかる\n",
    "print('変数のタイプ:', type(data_list))\n",
    "\n",
    "# 一つの要素を取り出す。0から始まるので、[1]は二番目になる\n",
    "print('二番目の数:', data_list[1])\n",
    "\n",
    "# len関数で要素の数を出力。ここでは1から5までの5個なので、結果は5。\n",
    "print('要素数:', len(data_list))"
   ]
  },
  {
   "cell_type": "code",
   "execution_count": 18,
   "metadata": {},
   "outputs": [
    {
     "name": "stdout",
     "output_type": "stream",
     "text": [
      "[1, 3, 4, 5]\n",
      "[1, 3, 4, 5, 8]\n",
      "[1, 3, 4, 5]\n",
      "[3, 4, 5]\n"
     ]
    }
   ],
   "source": [
    "# Try: リストへの追加、削除\n",
    "\n",
    "# リスト初期化\n",
    "data_list = [1, 2, 3, 4, 5]\n",
    "\n",
    "# リストから値「2」を削除\n",
    "data_list.remove(2)\n",
    "print(data_list)\n",
    "\n",
    "# リストに値「8」を追加\n",
    "data_list.append(8)\n",
    "print(data_list)\n",
    "\n",
    "# リストの末尾を取り出す\n",
    "data_list.pop()\n",
    "print(data_list)\n",
    "\n",
    "# リストの0番目を削除\n",
    "del(data_list[0])\n",
    "print(data_list)"
   ]
  },
  {
   "cell_type": "code",
   "execution_count": 19,
   "metadata": {},
   "outputs": [
    {
     "name": "stdout",
     "output_type": "stream",
     "text": [
      "500\n"
     ]
    }
   ],
   "source": [
    "# 辞書型\n",
    "dic_data = {'apple': 100, 'banana': 100, 'orange': 300, 'mango': 400, 'melon': 500}\n",
    "\n",
    "print(dic_data['melon'])"
   ]
  },
  {
   "cell_type": "code",
   "execution_count": 21,
   "metadata": {},
   "outputs": [
    {
     "name": "stdout",
     "output_type": "stream",
     "text": [
      "{'apple': 100, 'banana': 100, 'orange': 300, 'mango': 400, 'melon': 500, 'strowberry': 200}\n",
      "{'apple': 100, 'banana': 100, 'mango': 400, 'melon': 500, 'strowberry': 200}\n",
      "{'mango': 400, 'melon': 500, 'strowberry': 200}\n"
     ]
    }
   ],
   "source": [
    "# Try: 辞書への追加、削除\n",
    "\n",
    "# 初期化\n",
    "dic_data = {'apple': 100, 'banana': 100, 'orange': 300, 'mango': 400, 'melon': 500}\n",
    "\n",
    "# 追加\n",
    "dic_data['strowberry'] = 200\n",
    "print(dic_data)\n",
    "\n",
    "# 削除\n",
    "dic_data.pop('orange')\n",
    "print(dic_data)\n",
    "\n",
    "# 複数削除\n",
    "del dic_data['apple'], dic_data['banana']\n",
    "print(dic_data)\n",
    "\n"
   ]
  },
  {
   "cell_type": "code",
   "execution_count": 24,
   "metadata": {},
   "outputs": [
    {
     "name": "stdout",
     "output_type": "stream",
     "text": [
      "8は入っていません。\n"
     ]
    }
   ],
   "source": [
    "# 条件分岐とループ\n",
    "\n",
    "# if syntax\n",
    "findvalue = 5\n",
    "\n",
    "# if分の開始\n",
    "if findvalue in data_list:\n",
    "    # 条件式の結果が真の場合\n",
    "    print('{0}は入っています。'.format(findvalue))\n",
    "else:\n",
    "    # 条件式の結果が偽の場合\n",
    "    print('{0}は入っていません。'.format(findvalue))"
   ]
  },
  {
   "cell_type": "code",
   "execution_count": 25,
   "metadata": {},
   "outputs": [
    {
     "name": "stdout",
     "output_type": "stream",
     "text": [
      "num: 1\n",
      "num: 2\n",
      "num: 3\n",
      "total: 6\n"
     ]
    }
   ],
   "source": [
    "# for syntax\n",
    "\n",
    "# 初期値の設定\n",
    "total = 0\n",
    "\n",
    "# for文\n",
    "for num in [1, 2, 3]:\n",
    "    # 取り出した数の表示\n",
    "    print('num:', num)\n",
    "    # 今まで取り出した数の合計\n",
    "    total = total + num\n",
    "    \n",
    "# 最後に合計を表示\n",
    "print('total:', total)"
   ]
  },
  {
   "cell_type": "code",
   "execution_count": 26,
   "metadata": {},
   "outputs": [
    {
     "name": "stdout",
     "output_type": "stream",
     "text": [
      "mango 400\n",
      "melon 500\n",
      "strowberry 200\n"
     ]
    }
   ],
   "source": [
    "# 初期化\n",
    "for dic_key in dic_data:\n",
    "    print(dic_key, dic_data[dic_key])"
   ]
  },
  {
   "cell_type": "code",
   "execution_count": 28,
   "metadata": {},
   "outputs": [
    {
     "name": "stdout",
     "output_type": "stream",
     "text": [
      "0\n",
      "1\n",
      "2\n",
      "3\n",
      "4\n",
      "5\n",
      "6\n",
      "7\n",
      "8\n",
      "9\n",
      "10\n",
      "1\n",
      "3\n",
      "5\n",
      "7\n",
      "9\n"
     ]
    }
   ],
   "source": [
    "# range usage\n",
    "for i in range(11):\n",
    "    print(i)\n",
    "    \n",
    "# range with option parameters\n",
    "for i in range(1, 11, 2):\n",
    "    print(i)"
   ]
  },
  {
   "cell_type": "code",
   "execution_count": 30,
   "metadata": {},
   "outputs": [
    {
     "name": "stdout",
     "output_type": "stream",
     "text": [
      "{'mango': 400, 'melon': 500, 'strowberry': 200}\n",
      "dict_items([('mango', 400), ('melon', 500), ('strowberry', 200)])\n",
      "mango 400\n",
      "melon 500\n",
      "strowberry 200\n"
     ]
    }
   ],
   "source": [
    "# リスト内包表記\n",
    "\n",
    "# 内容確認\n",
    "print(dic_data)\n",
    "print(dic_data.items())\n",
    "\n",
    "# キーと値を取り出して表示する\n",
    "for key, value in dic_data.items():\n",
    "    print(key, value)"
   ]
  },
  {
   "cell_type": "code",
   "execution_count": 33,
   "metadata": {},
   "outputs": [
    {
     "name": "stdout",
     "output_type": "stream",
     "text": [
      "[4, 8]\n"
     ]
    }
   ],
   "source": [
    "# 空のリストを作成\n",
    "data_list1 = [1, 2, 3, 4, 5]\n",
    "data_list2 = []\n",
    "\n",
    "# 内包表記、data_listから一つ一つ要素を取り出し、２倍した数字を新たな要素とするリストを作成\n",
    "data_list2 = [i * 2 for i in data_list1 if i % 2 == 0 ]\n",
    "print(data_list2)"
   ]
  },
  {
   "cell_type": "code",
   "execution_count": 37,
   "metadata": {},
   "outputs": [
    {
     "name": "stdout",
     "output_type": "stream",
     "text": [
      "<zip object at 0x7f1d4b5e8408>\n",
      "1 と 11\n",
      "2 と 12\n",
      "3 と 13\n"
     ]
    }
   ],
   "source": [
    "# zip function\n",
    "print(zip([1, 2, 3], [4, 5, 6]))\n",
    "for first, second in zip([1, 2, 3], [11, 12, 13]):\n",
    "    print(first, 'と', second)"
   ]
  },
  {
   "cell_type": "code",
   "execution_count": 39,
   "metadata": {},
   "outputs": [
    {
     "name": "stdout",
     "output_type": "stream",
     "text": [
      "1\n",
      "2\n",
      "3\n",
      "4\n",
      "5\n",
      "6\n",
      "7\n",
      "8\n",
      "9\n",
      "10\n",
      "最後の値は11です。\n"
     ]
    }
   ],
   "source": [
    "# while statement\n",
    "\n",
    "# 初期値の設定\n",
    "num = 1\n",
    "\n",
    "# while文の開始\n",
    "while num <= 10:\n",
    "    print(num)\n",
    "    num = num + 1\n",
    "# while文の終わり\n",
    "\n",
    "# 最後に代入された値を表示する\n",
    "print('最後の値は{0}です。'.format(num))"
   ]
  },
  {
   "cell_type": "code",
   "execution_count": 2,
   "metadata": {},
   "outputs": [
    {
     "data": {
      "text/plain": [
       "60"
      ]
     },
     "execution_count": 2,
     "metadata": {},
     "output_type": "execute_result"
    }
   ],
   "source": [
    "# 関数\n",
    "\n",
    "## かけ算をする関数\n",
    "def calc_multi(a, b):\n",
    "    return a * b\n",
    "\n",
    "calc_multi(3, 20)"
   ]
  },
  {
   "cell_type": "code",
   "execution_count": 3,
   "metadata": {},
   "outputs": [
    {
     "name": "stdout",
     "output_type": "stream",
     "text": [
      "printのサンプル関数\n"
     ]
    }
   ],
   "source": [
    "def calc_print():\n",
    "    print('printのサンプル関数')\n",
    "    \n",
    "calc_print()"
   ]
  },
  {
   "cell_type": "code",
   "execution_count": 5,
   "metadata": {},
   "outputs": [
    {
     "name": "stdout",
     "output_type": "stream",
     "text": [
      "フィボナッチ数: 165580141\n"
     ]
    }
   ],
   "source": [
    "# 再帰関数の例（フィボナッチ数）\n",
    "def calc_fib(n):\n",
    "    if n == 1 or n == 2:\n",
    "        return n\n",
    "    else:\n",
    "        return calc_fib(n - 1) + calc_fib(n - 2)\n",
    "    \n",
    "print('フィボナッチ数:', calc_fib(40))"
   ]
  },
  {
   "cell_type": "code",
   "execution_count": 8,
   "metadata": {},
   "outputs": [
    {
     "data": {
      "text/plain": [
       "176023680645013966468226945392411250770384383304492191886725992896575345044216019675"
      ]
     },
     "execution_count": 8,
     "metadata": {},
     "output_type": "execute_result"
    }
   ],
   "source": [
    "# Try: optimized fibonacci\n",
    "def fb(num):\n",
    "    \"\"\"num番目のフィボナッチ数を返す\n",
    "    \"\"\"\n",
    "    a, b = 1, 0\n",
    "    for _ in range(num):\n",
    "        a, b = a + b, a\n",
    "    return b\n",
    "\n",
    "fb(400)"
   ]
  },
  {
   "cell_type": "code",
   "execution_count": 9,
   "metadata": {},
   "outputs": [
    {
     "data": {
      "text/plain": [
       "30"
      ]
     },
     "execution_count": 9,
     "metadata": {},
     "output_type": "execute_result"
    }
   ],
   "source": [
    "# 無名関数（lambda）\n",
    "(lambda a,b: a * b)(3, 10)"
   ]
  },
  {
   "cell_type": "code",
   "execution_count": 11,
   "metadata": {},
   "outputs": [
    {
     "name": "stdout",
     "output_type": "stream",
     "text": [
      "2\n",
      "4\n",
      "6\n",
      "8\n"
     ]
    }
   ],
   "source": [
    "def calc_double(num):\n",
    "    return num * 2\n",
    "\n",
    "for num in [1, 2, 3, 4]:\n",
    "    print(calc_double(num))"
   ]
  },
  {
   "cell_type": "code",
   "execution_count": 13,
   "metadata": {},
   "outputs": [
    {
     "data": {
      "text/plain": [
       "[2, 4, 6, 8]"
      ]
     },
     "execution_count": 13,
     "metadata": {},
     "output_type": "execute_result"
    }
   ],
   "source": [
    "# map関数を使ってリストにcalc_doubleを適用\n",
    "list(map(calc_double, [1, 2, 3, 4]))"
   ]
  },
  {
   "cell_type": "code",
   "execution_count": 15,
   "metadata": {},
   "outputs": [
    {
     "data": {
      "text/plain": [
       "[2, 4, 6, 8]"
      ]
     },
     "execution_count": 15,
     "metadata": {},
     "output_type": "execute_result"
    }
   ],
   "source": [
    "# lambdaで書き換える\n",
    "list(map(lambda x: x * 2, [1,2,3,4]))"
   ]
  }
 ],
 "metadata": {
  "kernelspec": {
   "display_name": "Python 3",
   "language": "python",
   "name": "python3"
  },
  "language_info": {
   "codemirror_mode": {
    "name": "ipython",
    "version": 3
   },
   "file_extension": ".py",
   "mimetype": "text/x-python",
   "name": "python",
   "nbconvert_exporter": "python",
   "pygments_lexer": "ipython3",
   "version": "3.7.3"
  }
 },
 "nbformat": 4,
 "nbformat_minor": 2
}
