{
 "cells": [
  {
   "cell_type": "code",
   "execution_count": 1,
   "metadata": {},
   "outputs": [
    {
     "name": "stdout",
     "output_type": "stream",
     "text": [
      "Collecting blueqat\n",
      "\u001b[?25l  Downloading https://files.pythonhosted.org/packages/55/94/0e80926933ec8d69a5c98454b59db4c772a7d7d1699f574a55aa53271941/blueqat-0.3.8-py3-none-any.whl (46kB)\n",
      "\u001b[K    100% |████████████████████████████████| 51kB 1.0MB/s \n",
      "\u001b[?25hRequirement already satisfied: scipy~=1.1.0 in /opt/conda/lib/python3.6/site-packages (from blueqat) (1.1.0)\n",
      "Requirement already satisfied: numpy~=1.12 in /opt/conda/lib/python3.6/site-packages (from blueqat) (1.16.4)\n",
      "Installing collected packages: blueqat\n",
      "Successfully installed blueqat-0.3.8\n"
     ]
    }
   ],
   "source": [
    "# install blueqat\n",
    "!pip install blueqat"
   ]
  },
  {
   "cell_type": "code",
   "execution_count": 3,
   "metadata": {},
   "outputs": [],
   "source": [
    "from blueqat import opt\n",
    "from blueqat.opt import Opt"
   ]
  },
  {
   "cell_type": "code",
   "execution_count": 4,
   "metadata": {},
   "outputs": [],
   "source": [
    "# 5量子ビットから2量子ビットを選ぶ問題\n",
    "A = [\n",
    "    [-3, 2, 2, 2, 2],\n",
    "    [0, -3, 2, 2, 2],\n",
    "    [0, 0, -3, 2, 2],\n",
    "    [0, 0, 0, -3, 2],\n",
    "    [0, 0, 0, 0, -3]\n",
    "]"
   ]
  },
  {
   "cell_type": "code",
   "execution_count": 7,
   "metadata": {},
   "outputs": [],
   "source": [
    "c = Opt().add(A).run(shots = 100)"
   ]
  },
  {
   "cell_type": "code",
   "execution_count": null,
   "metadata": {},
   "outputs": [],
   "source": [
    "opt.counter(c)"
   ]
  },
  {
   "cell_type": "code",
   "execution_count": 10,
   "metadata": {},
   "outputs": [],
   "source": [
    "# 数式を直接記述して解くこともできる\n",
    "c = Opt().add(\"(q0+q1+q2+q3+a4-2)**2\").run(shots = 100)"
   ]
  },
  {
   "cell_type": "code",
   "execution_count": 11,
   "metadata": {},
   "outputs": [
    {
     "data": {
      "text/plain": [
       "Counter({'11000': 16,\n",
       "         '00011': 8,\n",
       "         '10010': 10,\n",
       "         '00101': 7,\n",
       "         '10100': 9,\n",
       "         '01001': 15,\n",
       "         '10001': 9,\n",
       "         '00110': 6,\n",
       "         '01100': 9,\n",
       "         '01010': 11})"
      ]
     },
     "execution_count": 11,
     "metadata": {},
     "output_type": "execute_result"
    }
   ],
   "source": [
    "opt.counter(c)"
   ]
  }
 ],
 "metadata": {
  "kernelspec": {
   "display_name": "Python 3",
   "language": "python",
   "name": "python3"
  },
  "language_info": {
   "codemirror_mode": {
    "name": "ipython",
    "version": 3
   },
   "file_extension": ".py",
   "mimetype": "text/x-python",
   "name": "python",
   "nbconvert_exporter": "python",
   "pygments_lexer": "ipython3",
   "version": "3.6.7"
  }
 },
 "nbformat": 4,
 "nbformat_minor": 2
}
